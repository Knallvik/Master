{
 "cells": [
  {
   "cell_type": "code",
   "execution_count": 1,
   "id": "c6013833-7b4b-4c03-8d59-b1ea03e32994",
   "metadata": {},
   "outputs": [],
   "source": [
    "import numpy as np\n",
    "import scipy.constants as SI"
   ]
  },
  {
   "cell_type": "code",
   "execution_count": 3,
   "id": "9bfefd8b-a1fa-4fb1-83ff-d1f58a0fb404",
   "metadata": {},
   "outputs": [
    {
     "ename": "UnboundLocalError",
     "evalue": "local variable 'kp' referenced before assignment",
     "output_type": "error",
     "traceback": [
      "\u001b[0;31m---------------------------------------------------------------------------\u001b[0m",
      "\u001b[0;31mUnboundLocalError\u001b[0m                         Traceback (most recent call last)",
      "Cell \u001b[0;32mIn[3], line 39\u001b[0m\n\u001b[1;32m     37\u001b[0m sig_jitter \u001b[38;5;241m=\u001b[39m np\u001b[38;5;241m.\u001b[39mlinspace(\u001b[38;5;241m1e-9\u001b[39m,\u001b[38;5;241m1e-6\u001b[39m,\u001b[38;5;241m10\u001b[39m)\n\u001b[1;32m     38\u001b[0m p \u001b[38;5;241m=\u001b[39m \u001b[38;5;241m0.9\u001b[39m\n\u001b[0;32m---> 39\u001b[0m Es \u001b[38;5;241m=\u001b[39m \u001b[43mfindp\u001b[49m\u001b[43m(\u001b[49m\u001b[43mrho\u001b[49m\u001b[43m,\u001b[49m\u001b[43m \u001b[49m\u001b[43msig_jitter\u001b[49m\u001b[43m,\u001b[49m\u001b[43m \u001b[49m\u001b[43mE\u001b[49m\u001b[43m,\u001b[49m\u001b[43m \u001b[49m\u001b[43mn0\u001b[49m\u001b[43m,\u001b[49m\u001b[43m \u001b[49m\u001b[43memit_nx\u001b[49m\u001b[43m,\u001b[49m\u001b[43m \u001b[49m\u001b[43memit_ny\u001b[49m\u001b[43m,\u001b[49m\u001b[43m \u001b[49m\u001b[43mL\u001b[49m\u001b[43m,\u001b[49m\u001b[43m \u001b[49m\u001b[43mp\u001b[49m\u001b[43m)\u001b[49m\n",
      "Cell \u001b[0;32mIn[3], line 21\u001b[0m, in \u001b[0;36mfindp\u001b[0;34m(func, sig_jitter, E, n0, emit_nx, emit_ny, L, p)\u001b[0m\n\u001b[1;32m     19\u001b[0m dx \u001b[38;5;241m=\u001b[39m \u001b[38;5;241m1e-10\u001b[39m\n\u001b[1;32m     20\u001b[0m gamma \u001b[38;5;241m=\u001b[39m E\u001b[38;5;241m/\u001b[39mSI\u001b[38;5;241m.\u001b[39mm_e\u001b[38;5;241m/\u001b[39mSI\u001b[38;5;241m.\u001b[39mc\u001b[38;5;241m*\u001b[39m\u001b[38;5;241m*\u001b[39m\u001b[38;5;241m2\u001b[39m\n\u001b[0;32m---> 21\u001b[0m sig_x_sq \u001b[38;5;241m=\u001b[39m emit_nx\u001b[38;5;241m/\u001b[39m\u001b[43mkp\u001b[49m\u001b[38;5;241m*\u001b[39mnp\u001b[38;5;241m.\u001b[39msqrt(\u001b[38;5;241m2\u001b[39m\u001b[38;5;241m*\u001b[39mgamma)\u001b[38;5;241m/\u001b[39mgamma\n\u001b[1;32m     22\u001b[0m kp \u001b[38;5;241m=\u001b[39m np\u001b[38;5;241m.\u001b[39msqrt(SI\u001b[38;5;241m.\u001b[39me\u001b[38;5;241m*\u001b[39m\u001b[38;5;241m*\u001b[39m\u001b[38;5;241m2\u001b[39m\u001b[38;5;241m*\u001b[39mn0\u001b[38;5;241m/\u001b[39mSI\u001b[38;5;241m.\u001b[39mepsilon_0\u001b[38;5;241m/\u001b[39mSI\u001b[38;5;241m.\u001b[39mm_e\u001b[38;5;241m/\u001b[39mSI\u001b[38;5;241m.\u001b[39mc\u001b[38;5;241m*\u001b[39m\u001b[38;5;241m*\u001b[39m\u001b[38;5;241m2\u001b[39m)\n\u001b[1;32m     23\u001b[0m x0 \u001b[38;5;241m=\u001b[39m SI\u001b[38;5;241m.\u001b[39me\u001b[38;5;241m*\u001b[39m\u001b[38;5;241m*\u001b[39m\u001b[38;5;241m2\u001b[39m\u001b[38;5;241m*\u001b[39mL\u001b[38;5;241m/\u001b[39m\u001b[38;5;241m24\u001b[39m\u001b[38;5;241m/\u001b[39mnp\u001b[38;5;241m.\u001b[39mpi\u001b[38;5;241m/\u001b[39mSI\u001b[38;5;241m.\u001b[39mepsilon_0\u001b[38;5;241m*\u001b[39mgamma\u001b[38;5;241m*\u001b[39m\u001b[38;5;241m*\u001b[39m\u001b[38;5;241m2\u001b[39m\u001b[38;5;241m*\u001b[39mkp\u001b[38;5;241m*\u001b[39m\u001b[38;5;241m*\u001b[39m\u001b[38;5;241m4\u001b[39m\u001b[38;5;241m*\u001b[39msig_x_sq\u001b[38;5;241m*\u001b[39m\u001b[38;5;241m*\u001b[39m\u001b[38;5;241m2\u001b[39m \u001b[38;5;241m+\u001b[39m \u001b[38;5;241m1e-12\u001b[39m\n",
      "\u001b[0;31mUnboundLocalError\u001b[0m: local variable 'kp' referenced before assignment"
     ]
    }
   ],
   "source": [
    "def rho(sig_jitter, E, n0, E_Loss, emit_nx, emit_ny, L):\n",
    "    #E_Loss = GeV\n",
    "    gamma = E/SI.m_e/SI.c**2\n",
    "    kp = np.sqrt(SI.e**2*n0/SI.epsilon_0/SI.m_e/SI.c**2)\n",
    "    k_beta = kp/np.sqrt(2*gamma)\n",
    "    sig_x_sq = emit_nx/k_beta/gamma\n",
    "    sig_y_sq = emit_ny/k_beta/gamma\n",
    "    \n",
    "    delta_x = 2*(E_Loss*SI.e*1e9*12*np.pi*SI.epsilon_0/SI.e**2/L/(gamma*k_beta)**4 - 2*sig_x_sq)\n",
    "\n",
    "    energy_loss_dist = 2/sig_jitter/np.sqrt(2*np.pi)*12*np.pi*SI.epsilon_0/\\\n",
    "    SI.e**2/stage.length/(gamma*k_beta)**4/np.sqrt(delta_x)*SI.e*1e9\\\n",
    "    * np.exp(-1/2*delta_x/sig_jitter**2)\n",
    "    \n",
    "    return energy_loss_dist\n",
    "\n",
    "def findp(func, sig_jitter, E, n0, emit_nx, emit_ny, L, p):\n",
    "    area = 0\n",
    "    dx = 1e-10\n",
    "    gamma = E/SI.m_e/SI.c**2\n",
    "    kp = np.sqrt(SI.e**2*n0/SI.epsilon_0/SI.m_e/SI.c**2)\n",
    "    sig_x_sq = emit_nx/kp*np.sqrt(2*gamma)/gamma\n",
    "    x0 = SI.e**2*L/24/np.pi/SI.epsilon_0*gamma**2*kp**4*sig_x_sq**2 + 1e-12\n",
    "    print(x0)\n",
    "    while area < p:\n",
    "        area += (func(sig_jitter, E, n0, x0, emit_nx, emit_ny, L)\\\n",
    "                 + func(sig_jitter, E, n0, x0+dx, emit_nx, emit_ny, L))/2*dx\n",
    "        x0 += dx\n",
    "    return x0\n",
    "    print(x0/SI.e/1e9)\n",
    "\n",
    "emit_nx = 160e-6\n",
    "emit_ny = 0.56e-6\n",
    "L = 11\n",
    "E = 5000e9*SI.e\n",
    "n0 = 2e21\n",
    "sig_jitter = np.linspace(1e-9,1e-6,10)\n",
    "p = 0.9\n",
    "Es = findp(rho, sig_jitter, E, n0, emit_nx, emit_ny, L, p)"
   ]
  },
  {
   "cell_type": "code",
   "execution_count": null,
   "id": "9b39667a-67b6-4e38-8969-22cfa3dc5328",
   "metadata": {},
   "outputs": [],
   "source": []
  }
 ],
 "metadata": {
  "kernelspec": {
   "display_name": "Python 3 (ipykernel)",
   "language": "python",
   "name": "python3"
  },
  "language_info": {
   "codemirror_mode": {
    "name": "ipython",
    "version": 3
   },
   "file_extension": ".py",
   "mimetype": "text/x-python",
   "name": "python",
   "nbconvert_exporter": "python",
   "pygments_lexer": "ipython3",
   "version": "3.9.12"
  }
 },
 "nbformat": 4,
 "nbformat_minor": 5
}
