{
 "cells": [
  {
   "cell_type": "code",
   "execution_count": 1,
   "id": "16997d32-3797-48be-b9e6-f0d54aae882c",
   "metadata": {},
   "outputs": [],
   "source": [
    "import numpy as np\n",
    "import scipy.constants as SI"
   ]
  },
  {
   "cell_type": "code",
   "execution_count": 4,
   "id": "4c186a3b-0666-469b-b23f-90f5d0974caf",
   "metadata": {},
   "outputs": [
    {
     "name": "stdout",
     "output_type": "stream",
     "text": [
      "0.0022563826630364577\n",
      "0.0027818553768156735\n",
      "0.0039341376024532426\n",
      "0.004512765326072915\n"
     ]
    }
   ],
   "source": [
    "def spread(emit_nx, emit_ny, E, L, n0):\n",
    "    kp = np.sqrt(SI.e**2*n0/SI.epsilon_0/SI.m_e/SI.c**2)\n",
    "    gamma = E/SI.m_e/SI.c**2\n",
    "    spread = SI.e**2*L/6/np.pi/SI.epsilon_0/SI.m_e/SI.c**2*kp**3*\\\n",
    "    np.sqrt(gamma/8*(emit_nx**2+emit_ny**2))\n",
    "    return spread\n",
    "\n",
    "emit_nx = 80e-6\n",
    "emit_ny = 80e-6\n",
    "L = 11\n",
    "E = np.array([250, 380, 760, 1000])*1e9*SI.e\n",
    "n0 = 7e21\n",
    "\n",
    "for e in E:\n",
    "    print(spread(emit_nx,emit_ny,e,L,n0))"
   ]
  },
  {
   "cell_type": "code",
   "execution_count": null,
   "id": "fc570289-5d74-4d60-b062-2f97a0590059",
   "metadata": {},
   "outputs": [],
   "source": []
  }
 ],
 "metadata": {
  "kernelspec": {
   "display_name": "Python 3 (ipykernel)",
   "language": "python",
   "name": "python3"
  },
  "language_info": {
   "codemirror_mode": {
    "name": "ipython",
    "version": 3
   },
   "file_extension": ".py",
   "mimetype": "text/x-python",
   "name": "python",
   "nbconvert_exporter": "python",
   "pygments_lexer": "ipython3",
   "version": "3.9.12"
  }
 },
 "nbformat": 4,
 "nbformat_minor": 5
}
