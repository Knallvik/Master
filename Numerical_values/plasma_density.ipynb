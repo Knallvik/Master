{
 "cells": [
  {
   "cell_type": "code",
   "execution_count": 2,
   "id": "58941b0c-9d8b-4dce-8021-64aebba77f64",
   "metadata": {},
   "outputs": [],
   "source": [
    "import numpy as np\n",
    "import scipy.constants as SI"
   ]
  },
  {
   "cell_type": "code",
   "execution_count": 4,
   "id": "c42ff432-1524-4530-bfcd-f3c3233dcb0c",
   "metadata": {},
   "outputs": [
    {
     "name": "stdout",
     "output_type": "stream",
     "text": [
      "1.8886705303580597e+22\n",
      "1.6426372784401209e+22\n",
      "1.303762071899014e+22\n",
      "1.1897878787571166e+22\n"
     ]
    }
   ],
   "source": [
    "def n0(emit_nx, emit_ny, E, L, p = 0.01):\n",
    "    gamma = E/SI.m_e/SI.c**2\n",
    "    n0 = 2*(SI.epsilon_0*SI.m_e*SI.c**2)**(5/3)*(p*6*np.pi/SI.e**5/L)**(2/3)\\\n",
    "    *(gamma*(emit_nx**2+emit_ny**2))**(-1/3)\n",
    "    return n0\n",
    "emit_nx = 80e-6\n",
    "emit_ny = 80e-6\n",
    "L = 11\n",
    "E = np.array([250, 380, 760, 1000])*1e9*SI.e\n",
    "\n",
    "for e in E:\n",
    "    print(n0(emit_nx,emit_ny,e,L, p=0.01))"
   ]
  },
  {
   "cell_type": "code",
   "execution_count": null,
   "id": "a42d8122-9616-40d6-9809-5c7481e75340",
   "metadata": {},
   "outputs": [],
   "source": []
  }
 ],
 "metadata": {
  "kernelspec": {
   "display_name": "Python 3 (ipykernel)",
   "language": "python",
   "name": "python3"
  },
  "language_info": {
   "codemirror_mode": {
    "name": "ipython",
    "version": 3
   },
   "file_extension": ".py",
   "mimetype": "text/x-python",
   "name": "python",
   "nbconvert_exporter": "python",
   "pygments_lexer": "ipython3",
   "version": "3.8.10"
  }
 },
 "nbformat": 4,
 "nbformat_minor": 5
}
