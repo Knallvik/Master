{
 "cells": [
  {
   "cell_type": "code",
   "execution_count": 2,
   "id": "d9ac5097-d076-40dd-a751-3d1d5cc376e3",
   "metadata": {},
   "outputs": [],
   "source": [
    "import numpy as np\n",
    "import scipy.constants as SI"
   ]
  },
  {
   "cell_type": "code",
   "execution_count": 3,
   "id": "ec83dbe3-fad0-43cb-b1e3-f1939280e1b1",
   "metadata": {},
   "outputs": [
    {
     "name": "stdout",
     "output_type": "stream",
     "text": [
      "10441.44458558273\n"
     ]
    }
   ],
   "source": [
    "def max_E(n0, Ez, norm_ex, norm_ey):\n",
    "    return 2*(SI.m_e*SI.c**2)**2/n0 * (6*np.pi*SI.epsilon_0**(5/2)*Ez/SI.e**4/(norm_ex+norm_ey))**(2/3)\n",
    "\n",
    "Ez = 3e9 #V/m\n",
    "n0 = 2e21 #m⁻¹\n",
    "norm_ex = 160e-6 #mm mrad\n",
    "norm_ey = 0.56e-6 #mm mrad\n",
    "print(max_E(n0, Ez, norm_ex, norm_ey)/SI.e/1e9)"
   ]
  },
  {
   "cell_type": "code",
   "execution_count": null,
   "id": "0df7a54a-f6dc-4da0-821d-5611f12c4e35",
   "metadata": {},
   "outputs": [],
   "source": []
  }
 ],
 "metadata": {
  "kernelspec": {
   "display_name": "Python 3 (ipykernel)",
   "language": "python",
   "name": "python3"
  },
  "language_info": {
   "codemirror_mode": {
    "name": "ipython",
    "version": 3
   },
   "file_extension": ".py",
   "mimetype": "text/x-python",
   "name": "python",
   "nbconvert_exporter": "python",
   "pygments_lexer": "ipython3",
   "version": "3.9.12"
  }
 },
 "nbformat": 4,
 "nbformat_minor": 5
}
