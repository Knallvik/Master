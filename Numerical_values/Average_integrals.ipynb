{
 "cells": [
  {
   "cell_type": "code",
   "execution_count": 1,
   "id": "e1e8beb4-e0b8-4abb-9923-ffb3840142c0",
   "metadata": {},
   "outputs": [],
   "source": [
    "import numpy as np"
   ]
  },
  {
   "cell_type": "code",
   "execution_count": 22,
   "id": "a9dfb477-0c7a-49a3-a8ec-a82b856daf37",
   "metadata": {},
   "outputs": [
    {
     "name": "stdout",
     "output_type": "stream",
     "text": [
      "0.5\n",
      "316913310.96209264\n",
      "315535494.9065815\n"
     ]
    }
   ],
   "source": [
    "n = 1000\n",
    "t = np.linspace(0,np.pi*2,n)\n",
    "gamma = np.linspace(10000,10050,n)\n",
    "cos_sq = np.cos(t)**2\n",
    "print(1/2/np.pi*np.trapz(cos_sq,t))\n",
    "s1 = gamma**2*(gamma/gamma[0])**(-1/4)*1/2/np.pi*np.trapz(cos_sq,t)\n",
    "print(s1[-1]*t[-1])\n",
    "s2 = 1/2/np.pi*np.trapz(gamma**2*cos_sq*(gamma/gamma[0])**(-1/4),t)\n",
    "print(s2*t[-1])"
   ]
  },
  {
   "cell_type": "code",
   "execution_count": null,
   "id": "88fb35d2-98d5-408f-8d86-fa1a4314e827",
   "metadata": {},
   "outputs": [],
   "source": []
  }
 ],
 "metadata": {
  "kernelspec": {
   "display_name": "Python 3 (ipykernel)",
   "language": "python",
   "name": "python3"
  },
  "language_info": {
   "codemirror_mode": {
    "name": "ipython",
    "version": 3
   },
   "file_extension": ".py",
   "mimetype": "text/x-python",
   "name": "python",
   "nbconvert_exporter": "python",
   "pygments_lexer": "ipython3",
   "version": "3.8.10"
  }
 },
 "nbformat": 4,
 "nbformat_minor": 5
}
