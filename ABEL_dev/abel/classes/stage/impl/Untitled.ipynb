{
 "cells": [
  {
   "cell_type": "code",
   "execution_count": 1,
   "id": "b4c149d7-7ca9-4e29-9c52-2c34c1060402",
   "metadata": {},
   "outputs": [],
   "source": [
    "import numpy as np"
   ]
  },
  {
   "cell_type": "code",
   "execution_count": 12,
   "id": "8484f6db-5efe-4215-ad6d-a04a3b37ea8a",
   "metadata": {},
   "outputs": [],
   "source": [
    "l = np.array([1, 2, 3, -1, -2])\n",
    "i = np.where(l<0) + np.where(l>1)"
   ]
  },
  {
   "cell_type": "code",
   "execution_count": 14,
   "id": "684aee85-c576-46b0-9780-2431b79edc0a",
   "metadata": {},
   "outputs": [
    {
     "name": "stdout",
     "output_type": "stream",
     "text": [
      "(array([3, 4]), array([1, 2]))\n"
     ]
    }
   ],
   "source": [
    "print(i)"
   ]
  },
  {
   "cell_type": "code",
   "execution_count": null,
   "id": "6af9fc95-bed4-49dd-a4cb-8545c7421803",
   "metadata": {},
   "outputs": [],
   "source": []
  }
 ],
 "metadata": {
  "kernelspec": {
   "display_name": "Python 3 (ipykernel)",
   "language": "python",
   "name": "python3"
  },
  "language_info": {
   "codemirror_mode": {
    "name": "ipython",
    "version": 3
   },
   "file_extension": ".py",
   "mimetype": "text/x-python",
   "name": "python",
   "nbconvert_exporter": "python",
   "pygments_lexer": "ipython3",
   "version": "3.8.10"
  }
 },
 "nbformat": 4,
 "nbformat_minor": 5
}
