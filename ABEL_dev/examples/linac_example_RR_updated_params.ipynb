{
 "cells": [
  {
   "cell_type": "markdown",
   "id": "35b4299f-1afc-4fc2-84ef-1af913515b36",
   "metadata": {},
   "source": [
    "# ABEL linac tracking example\n",
    "\n",
    "By Carl A. Lindstrøm (University of Oslo), 8 Sep 2023"
   ]
  },
  {
   "cell_type": "markdown",
   "id": "13270181-9972-4f1f-808a-a86d2e17d53b",
   "metadata": {},
   "source": [
    "### Import ABEL framework"
   ]
  },
  {
   "cell_type": "code",
   "execution_count": 1,
   "id": "e290fd8e-eb5a-4a89-90d3-77765398b1c9",
   "metadata": {},
   "outputs": [
    {
     "name": "stdout",
     "output_type": "stream",
     "text": [
      "initializing ocelot...\n"
     ]
    }
   ],
   "source": [
    "import sys\n",
    "sys.path.append('../')\n",
    "from abel import *\n",
    "#from abel.classes.stage.impl import stage_quasistatic_2d_radiation_reaction as rr\n",
    "import numpy as np\n",
    "import matplotlib.pyplot as plt\n",
    "from abel.utilities.statistics import prct_clean, prct_clean2d\n",
    "from matplotlib.animation import FuncAnimation\n",
    "import time"
   ]
  },
  {
   "cell_type": "markdown",
   "id": "92996b82-518c-4e23-bf59-56b55f4021f4",
   "metadata": {},
   "source": [
    "### Define the linac and beams"
   ]
  },
  {
   "cell_type": "code",
   "execution_count": 2,
   "id": "392dc163-469e-4a0e-b98a-376a5d6eef02",
   "metadata": {},
   "outputs": [],
   "source": [
    "# define driver\n",
    "driver = SourceBasic()\n",
    "driver.charge = -2.7e10 * SI.e # [C]\n",
    "driver.energy = 31.25e9 # [eV]\n",
    "driver.rel_energy_spread = 0.01\n",
    "driver.bunch_length = 50e-6 # [m]\n",
    "driver.z_offset = 580e-6 # [m]\n",
    "driver.emit_nx, driver.emit_ny = 10e-6, 10e-6 # [m rad]\n",
    "driver.beta_x, driver.beta_y = 30e-3, 30e-3 # [m]\n",
    "driver.num_particles = 10000\n",
    "driver.jitter.x = 0 # [m] 2e-6\n",
    "driver.jitter.y = 0 # [m] 100e-9\n",
    "driver.jitter.t = 10e-15 # [m]\n",
    "\n",
    "# define stage\n",
    "stage = StageQuasistatic2dRadiationReaction()\n",
    "stage.driver_source = driver\n",
    "stage.nom_energy_gain = 31.9e9 # [eV]\n",
    "stage.length = 11 # [m]\n",
    "stage.plasma_density = 2e21 # [m^-3]\n",
    "stage.ramp_beta_mag = 5\n",
    "stage.enable_rr = False\n",
    "\n",
    "# define first stage (half length)\n",
    "first_stage = StageQuasistatic2dRadiationReaction()\n",
    "first_stage.driver_source = stage.driver_source\n",
    "first_stage.nom_energy_gain = stage.nom_energy_gain/2\n",
    "first_stage.length = stage.length/2\n",
    "first_stage.plasma_density = stage.plasma_density\n",
    "first_stage.ramp_beta_mag = stage.ramp_beta_mag\n",
    "first_stage.enable_rr = stage.enable_rr\n",
    "\n",
    "# define beam\n",
    "source = SourceBasic()\n",
    "source.charge = -1e10 * SI.e # [C]\n",
    "source.energy = 5e9 # [eV]\n",
    "source.rel_energy_spread = 0.01\n",
    "source.bunch_length = 28e-6 # [m]\n",
    "source.z_offset = 0e-6 # [m]\n",
    "source.emit_nx, source.emit_ny = 160e-6, 0.56e-6 # [m rad]\n",
    "source.beta_x = stage.matched_beta_function(source.energy)\n",
    "source.beta_y = source.beta_x\n",
    "source.num_particles = 10000\n",
    "source.jitter.t = driver.jitter.t\n",
    "\n",
    "# define interstage\n",
    "interstage = InterstageBasic()\n",
    "interstage.beta0 = lambda E: stage.matched_beta_function(E)\n",
    "interstage.dipole_length = lambda E: 1 * np.sqrt(E/10e9) # [m(eV)]\n",
    "interstage.dipole_field = 1 # [T]\n",
    "\n",
    "# beam delivery system\n",
    "bds = BeamDeliverySystemBasic()\n",
    "bds.beta_x, bds.beta_y = 8e-3, 0.4e-3 # [m]\n",
    "bds.bunch_length = 0.75 * bds.beta_y\n",
    "\n",
    "# define linac\n",
    "linac = Linac()\n",
    "linac.source = source\n",
    "linac.stage = stage\n",
    "linac.first_stage = first_stage\n",
    "linac.interstage = interstage\n",
    "linac.num_stages = 16"
   ]
  },
  {
   "cell_type": "markdown",
   "id": "7c58144f-67e5-4047-b8e1-3cac91160274",
   "metadata": {},
   "source": [
    "### Run simulations"
   ]
  },
  {
   "cell_type": "code",
   "execution_count": null,
   "id": "fb254ebe-bfea-4903-b1a9-e13f833f763c",
   "metadata": {},
   "outputs": [
    {
     "name": "stdout",
     "output_type": "stream",
     "text": [
      "Tracking element 1 (s = 0.0 m, -1.60 nC, 5.0 GeV, SourceBasic, stage 0)\n"
     ]
    },
    {
     "name": "stderr",
     "output_type": "stream",
     "text": [
      "/home/daniel/.local/lib/python3.8/site-packages/aptools/data_analysis/beam_diagnostics.py:524: RuntimeWarning: invalid value encountered in sqrt\n",
      "  em_x = np.sqrt(np.linalg.det(cov_x.astype(np.float32, copy=False)))\n"
     ]
    },
    {
     "name": "stdout",
     "output_type": "stream",
     "text": [
      "Tracking element 2 (s = 5.5 m, -1.60 nC, 21.8 GeV, StageQuasistatic2dRadiationReaction, stage 1)\n",
      "Tracking element 3 (s = 12.4 m, -1.60 nC, 21.8 GeV, InterstageBasic, stage 1)\n",
      "Tracking element 4 (s = 23.4 m, -1.60 nC, 53.6 GeV, StageQuasistatic2dRadiationReaction, stage 2)\n",
      "Tracking element 5 (s = 34.4 m, -1.60 nC, 53.6 GeV, InterstageBasic, stage 2)\n",
      "Tracking element 6 (s = 45.4 m, -1.60 nC, 85.5 GeV, StageQuasistatic2dRadiationReaction, stage 3)\n",
      "Tracking element 7 (s = 59.4 m, -1.60 nC, 85.5 GeV, InterstageBasic, stage 3)\n",
      "Tracking element 8 (s = 70.4 m, -1.60 nC, 116.2 GeV, StageQuasistatic2dRadiationReaction, stage 4)\n",
      "Tracking element 9 (s = 86.7 m, -1.60 nC, 116.2 GeV, InterstageBasic, stage 4)\n",
      "Tracking element 10 (s = 97.7 m, -1.60 nC, 148.8 GeV, StageQuasistatic2dRadiationReaction, stage 5)\n",
      "Tracking element 11 (s = 116.2 m, -1.60 nC, 148.8 GeV, InterstageBasic, stage 5)\n",
      "Tracking element 12 (s = 127.2 m, -1.60 nC, 180.8 GeV, StageQuasistatic2dRadiationReaction, stage 6)\n",
      "Tracking element 13 (s = 147.5 m, -1.60 nC, 180.8 GeV, InterstageBasic, stage 6)\n",
      "Tracking element 14 (s = 158.5 m, -1.60 nC, 212.6 GeV, StageQuasistatic2dRadiationReaction, stage 7)\n",
      "Tracking element 15 (s = 180.6 m, -1.60 nC, 212.6 GeV, InterstageBasic, stage 7)\n",
      "Tracking element 16 (s = 191.6 m, -1.60 nC, 243.6 GeV, StageQuasistatic2dRadiationReaction, stage 8)\n",
      "Tracking element 17 (s = 215.2 m, -1.60 nC, 243.6 GeV, InterstageBasic, stage 8)\n",
      "Tracking element 18 (s = 226.2 m, -1.60 nC, 275.2 GeV, StageQuasistatic2dRadiationReaction, stage 9)\n",
      "Tracking element 19 (s = 251.4 m, -1.60 nC, 275.2 GeV, InterstageBasic, stage 9)\n",
      "Tracking element 20 (s = 262.4 m, -1.60 nC, 306.0 GeV, StageQuasistatic2dRadiationReaction, stage 10)\n",
      "Tracking element 21 (s = 289.0 m, -1.60 nC, 306.0 GeV, InterstageBasic, stage 10)\n",
      "Tracking element 22 (s = 300.0 m, -1.60 nC, 336.1 GeV, StageQuasistatic2dRadiationReaction, stage 11)\n",
      "Tracking element 23 (s = 327.9 m, -1.60 nC, 336.1 GeV, InterstageBasic, stage 11)\n",
      "Tracking element 24 (s = 338.9 m, -1.60 nC, 367.4 GeV, StageQuasistatic2dRadiationReaction, stage 12)\n",
      "Tracking element 25 (s = 368.1 m, -1.60 nC, 367.4 GeV, InterstageBasic, stage 12)\n"
     ]
    }
   ],
   "source": [
    "start = time.process_time()\n",
    "\n",
    "linac.run(f'linac_{int(source.energy/1e9)}GeV_{interstage.dipole_field}T_ex_{source.emit_nx*1e6}_jitterx_{driver.jitter.x}_jittery_{driver.jitter.y}_RR_{stage.enable_rr}', num_shots=1, overwrite=True, parallel=False);\n",
    "\n",
    "print((time.process_time() - start)/60)"
   ]
  },
  {
   "cell_type": "code",
   "execution_count": null,
   "id": "5be93ec1-9184-4b3c-b1f2-47e8ba7383be",
   "metadata": {},
   "outputs": [],
   "source": [
    "#beam2 = linac.run('linac_5TeV', num_shots=1, overwrite=False, parallel=False);"
   ]
  },
  {
   "cell_type": "markdown",
   "id": "be3e5073-4225-461b-ba48-a1046a273183",
   "metadata": {},
   "source": [
    "### Plot the wakefield"
   ]
  },
  {
   "cell_type": "code",
   "execution_count": null,
   "id": "d3e7bf1f-2fb0-493c-851e-e8d54d39b8b1",
   "metadata": {
    "tags": []
   },
   "outputs": [],
   "source": [
    "# plot the first-stage wakefield\n",
    "linac.stages[0].plot_wakefield()"
   ]
  },
  {
   "cell_type": "code",
   "execution_count": null,
   "id": "55cff99f-1b57-4aec-af3a-6e1ed530a8f9",
   "metadata": {},
   "outputs": [],
   "source": [
    "# plot the last-stage wakefield\n",
    "linac.stages[-1].plot_wakefield()"
   ]
  },
  {
   "cell_type": "markdown",
   "id": "ea2437f9-7cce-4929-839c-a86a4d11f01d",
   "metadata": {},
   "source": [
    "### Plot beam evolution and survey"
   ]
  },
  {
   "cell_type": "code",
   "execution_count": null,
   "id": "2002d963-f266-4bc7-aac7-2fcd94e322ea",
   "metadata": {},
   "outputs": [],
   "source": [
    "# plot linac survey\n",
    "linac.plot_survey()\n",
    "\n",
    "# plot beam evolution\n",
    "fig_9GeV = linac.plot_evolution(use_stage_nums=False)\n",
    "#fig_9GeV.savefig(f'Plots_with_updated_params/{int(source.energy/1e9)}GeV_{int(source.emit_nx*1e6)}mmmrad_{int(source.emit_ny*1e6)}\\\n",
    "#mmmrad_{interstage.dipole_field}T_RR_{stage.enable_rr}_B_{interstage.dipole_field}T_deleted_low_z_values_10k.png')\n",
    "\n",
    "linac.plot_waterfalls()"
   ]
  },
  {
   "cell_type": "code",
   "execution_count": null,
   "id": "427d70f0-4532-4900-aa00-c4c34c652402",
   "metadata": {},
   "outputs": [],
   "source": [
    "#linac.animate_lps(file_name = f'{interstage.dipole_field}T_5GeV_ex_{source.emit_nx*1e6}_RR_{stage.enable_rr}_jitterx_{driver.jitter.x*1e9}_jittery_{driver.jitter.y*1e9}_nm_weird_results')"
   ]
  },
  {
   "cell_type": "code",
   "execution_count": null,
   "id": "b32a0ed4-a9c1-4ba1-a395-ed759e7db375",
   "metadata": {},
   "outputs": [],
   "source": []
  }
 ],
 "metadata": {
  "kernelspec": {
   "display_name": "Python 3 (ipykernel)",
   "language": "python",
   "name": "python3"
  },
  "language_info": {
   "codemirror_mode": {
    "name": "ipython",
    "version": 3
   },
   "file_extension": ".py",
   "mimetype": "text/x-python",
   "name": "python",
   "nbconvert_exporter": "python",
   "pygments_lexer": "ipython3",
   "version": "3.8.10"
  }
 },
 "nbformat": 4,
 "nbformat_minor": 5
}
