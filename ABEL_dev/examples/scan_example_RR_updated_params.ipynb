{
 "cells": [
  {
   "cell_type": "markdown",
   "id": "35b4299f-1afc-4fc2-84ef-1af913515b36",
   "metadata": {},
   "source": [
    "# ABEL scanning example\n",
    "\n",
    "By Carl A. Lindstrøm (University of Oslo), 8 Sep 2023"
   ]
  },
  {
   "cell_type": "markdown",
   "id": "13270181-9972-4f1f-808a-a86d2e17d53b",
   "metadata": {},
   "source": [
    "### Import ABEL framework"
   ]
  },
  {
   "cell_type": "code",
   "execution_count": 1,
   "id": "e290fd8e-eb5a-4a89-90d3-77765398b1c9",
   "metadata": {},
   "outputs": [
    {
     "name": "stdout",
     "output_type": "stream",
     "text": [
      "initializing ocelot...\n"
     ]
    }
   ],
   "source": [
    "import sys\n",
    "sys.path.append('../')\n",
    "from abel import *\n",
    "import numpy as np\n",
    "import multiprocessing\n",
    "num_cores = multiprocessing.cpu_count()\n",
    "os.environ['NUMEXPR_MAX_THREADS'] = f'{num_cores}'\n",
    "import time"
   ]
  },
  {
   "cell_type": "markdown",
   "id": "92996b82-518c-4e23-bf59-56b55f4021f4",
   "metadata": {},
   "source": [
    "### Define the linac and beams"
   ]
  },
  {
   "cell_type": "code",
   "execution_count": 2,
   "id": "392dc163-469e-4a0e-b98a-376a5d6eef02",
   "metadata": {},
   "outputs": [],
   "source": [
    "# define driver\n",
    "driver = SourceBasic()\n",
    "driver.charge = -2.7e10 * SI.e # [C]\n",
    "driver.energy = 31.25e9 # [eV]\n",
    "driver.rel_energy_spread = 0.01\n",
    "driver.bunch_length = 50e-6 # [m]\n",
    "driver.z_offset = 580e-6 # [m]\n",
    "driver.emit_nx, driver.emit_ny = 10e-6, 10e-6 # [m rad]\n",
    "driver.beta_x, driver.beta_y = 30e-3, 30e-3 # [m]\n",
    "driver.num_particles = 1000\n",
    "driver.jitter.x = 0 # [m] 2e-6\n",
    "driver.jitter.y = 0 # [m] 100e-9\n",
    "driver.jitter.t = 10e-15 # [m]\n",
    "\n",
    "# define stage\n",
    "stage = StageQuasistatic2dRadiationReaction()\n",
    "stage.driver_source = driver\n",
    "stage.nom_energy_gain = 31.9e9 # [eV]\n",
    "stage.length = 11 # [m]\n",
    "stage.plasma_density = 2e21 # [m^-3]\n",
    "stage.ramp_beta_mag = 5\n",
    "stage.enable_rr = False\n",
    "\n",
    "# define first stage (half length)\n",
    "first_stage = StageQuasistatic2dRadiationReaction()\n",
    "first_stage.driver_source = stage.driver_source\n",
    "first_stage.nom_energy_gain = stage.nom_energy_gain/2\n",
    "first_stage.length = stage.length/2\n",
    "first_stage.plasma_density = stage.plasma_density\n",
    "first_stage.ramp_beta_mag = stage.ramp_beta_mag\n",
    "first_stage.enable_rr = stage.enable_rr\n",
    "\n",
    "# define beam\n",
    "source = SourceBasic()\n",
    "source.charge = -1e10 * SI.e # [C]\n",
    "source.energy = 5e9 # [eV]\n",
    "source.rel_energy_spread = 0.01\n",
    "source.bunch_length = 28e-6 # [m]\n",
    "source.z_offset = 0e-6 # [m]\n",
    "source.emit_nx, source.emit_ny = 160e-6, 0.56e-6 # [m rad]\n",
    "source.beta_x = stage.matched_beta_function(source.energy)\n",
    "source.beta_y = source.beta_x\n",
    "source.num_particles = 10000\n",
    "source.jitter.t = driver.jitter.t\n",
    "\n",
    "# define interstage\n",
    "interstage = InterstageBasic()\n",
    "interstage.beta0 = lambda E: stage.matched_beta_function(E)\n",
    "interstage.dipole_length = lambda E: 1 * np.sqrt(E/10e9) # [m(eV)]\n",
    "interstage.dipole_field = 1 # [T]\n",
    "\n",
    "# beam delivery system\n",
    "bds = BeamDeliverySystemBasic()\n",
    "bds.beta_x, bds.beta_y = 8e-3, 0.4e-3 # [m]\n",
    "bds.bunch_length = 0.75 * bds.beta_y\n",
    "\n",
    "# define linac\n",
    "linac = Linac()\n",
    "linac.source = source\n",
    "linac.stage = stage\n",
    "linac.first_stage = first_stage\n",
    "linac.interstage = interstage\n",
    "linac.num_stages = 16"
   ]
  },
  {
   "cell_type": "markdown",
   "id": "7c58144f-67e5-4047-b8e1-3cac91160274",
   "metadata": {},
   "source": [
    "### Run simulation scan"
   ]
  },
  {
   "cell_type": "code",
   "execution_count": 3,
   "id": "be147202-d55f-4d20-8f39-dabc5b536e3c",
   "metadata": {},
   "outputs": [
    {
     "name": "stdout",
     "output_type": "stream",
     "text": [
      ">> SHOT 1/5\n",
      "Tracking element 1 (s = 0.0 m, -1.60 nC, 5.0 GeV, SourceBasic, stage 0)\n"
     ]
    },
    {
     "name": "stderr",
     "output_type": "stream",
     "text": [
      "/home/daniel/.local/lib/python3.8/site-packages/aptools/data_analysis/beam_diagnostics.py:524: RuntimeWarning: invalid value encountered in sqrt\n",
      "  em_x = np.sqrt(np.linalg.det(cov_x.astype(np.float32, copy=False)))\n"
     ]
    },
    {
     "ename": "KeyboardInterrupt",
     "evalue": "",
     "output_type": "error",
     "traceback": [
      "\u001b[0;31m---------------------------------------------------------------------------\u001b[0m",
      "\u001b[0;31mKeyboardInterrupt\u001b[0m                         Traceback (most recent call last)",
      "Cell \u001b[0;32mIn[3], line 3\u001b[0m\n\u001b[1;32m      1\u001b[0m \u001b[38;5;66;03m# scan the driver timing jitter\u001b[39;00m\n\u001b[1;32m      2\u001b[0m start \u001b[38;5;241m=\u001b[39m time\u001b[38;5;241m.\u001b[39mprocess_time()\n\u001b[0;32m----> 3\u001b[0m \u001b[43mlinac\u001b[49m\u001b[38;5;241;43m.\u001b[39;49m\u001b[43mscan\u001b[49m\u001b[43m(\u001b[49m\u001b[38;5;124;43mf\u001b[39;49m\u001b[38;5;124;43m'\u001b[39;49m\u001b[38;5;124;43mscan_example_RR_\u001b[39;49m\u001b[38;5;132;43;01m{\u001b[39;49;00m\u001b[43mstage\u001b[49m\u001b[38;5;241;43m.\u001b[39;49m\u001b[43menable_rr\u001b[49m\u001b[38;5;132;43;01m}\u001b[39;49;00m\u001b[38;5;124;43m_160_updated_params_no_jitter\u001b[39;49m\u001b[38;5;124;43m'\u001b[39;49m\u001b[43m,\u001b[49m\u001b[43m \u001b[49m\n\u001b[1;32m      4\u001b[0m \u001b[43m           \u001b[49m\u001b[38;5;28;43;01mlambda\u001b[39;49;00m\u001b[43m \u001b[49m\u001b[43mobj\u001b[49m\u001b[43m,\u001b[49m\u001b[43m \u001b[49m\u001b[43mval\u001b[49m\u001b[43m:\u001b[49m\u001b[43m \u001b[49m\u001b[38;5;28;43msetattr\u001b[39;49m\u001b[43m(\u001b[49m\u001b[43mobj\u001b[49m\u001b[38;5;241;43m.\u001b[39;49m\u001b[43msource\u001b[49m\u001b[43m,\u001b[49m\u001b[43m \u001b[49m\u001b[38;5;124;43m'\u001b[39;49m\u001b[38;5;124;43memit_nx\u001b[39;49m\u001b[38;5;124;43m'\u001b[39;49m\u001b[43m,\u001b[49m\u001b[43m \u001b[49m\u001b[43mval\u001b[49m\u001b[43m)\u001b[49m\u001b[43m \u001b[49m\u001b[38;5;129;43;01mor\u001b[39;49;00m\u001b[43m \u001b[49m\u001b[43mobj\u001b[49m\u001b[43m,\u001b[49m\u001b[43m \u001b[49m\n\u001b[1;32m      5\u001b[0m \u001b[43m           \u001b[49m\u001b[38;5;241;43m1e-6\u001b[39;49m\u001b[38;5;241;43m*\u001b[39;49m\u001b[43mnp\u001b[49m\u001b[38;5;241;43m.\u001b[39;49m\u001b[43marray\u001b[49m\u001b[43m(\u001b[49m\u001b[43m[\u001b[49m\u001b[38;5;241;43m10\u001b[39;49m\u001b[43m,\u001b[49m\u001b[43m \u001b[49m\u001b[38;5;241;43m20\u001b[39;49m\u001b[43m,\u001b[49m\u001b[43m \u001b[49m\u001b[38;5;241;43m40\u001b[39;49m\u001b[43m,\u001b[49m\u001b[43m \u001b[49m\u001b[38;5;241;43m80\u001b[39;49m\u001b[43m,\u001b[49m\u001b[43m \u001b[49m\u001b[38;5;241;43m160\u001b[39;49m\u001b[43m]\u001b[49m\u001b[43m)\u001b[49m\u001b[43m,\u001b[49m\n\u001b[1;32m      6\u001b[0m \u001b[43m           \u001b[49m\u001b[43mlabel\u001b[49m\u001b[38;5;241;43m=\u001b[39;49m\u001b[38;5;124;43m'\u001b[39;49m\u001b[38;5;124;43mInitial normalized emittance in x (mm mrad)\u001b[39;49m\u001b[38;5;124;43m'\u001b[39;49m\u001b[43m,\u001b[49m\n\u001b[1;32m      7\u001b[0m \u001b[43m           \u001b[49m\u001b[43mscale\u001b[49m\u001b[38;5;241;43m=\u001b[39;49m\u001b[38;5;241;43m1e-6\u001b[39;49m\u001b[43m,\u001b[49m\n\u001b[1;32m      8\u001b[0m \u001b[43m           \u001b[49m\u001b[43mnum_shots_per_step\u001b[49m\u001b[38;5;241;43m=\u001b[39;49m\u001b[38;5;241;43m1\u001b[39;49m\u001b[43m,\u001b[49m\u001b[43m \u001b[49m\n\u001b[1;32m      9\u001b[0m \u001b[43m           \u001b[49m\u001b[43mparallel\u001b[49m\u001b[38;5;241;43m=\u001b[39;49m\u001b[38;5;28;43;01mFalse\u001b[39;49;00m\u001b[43m,\u001b[49m\n\u001b[1;32m     10\u001b[0m \u001b[43m           \u001b[49m\u001b[43moverwrite\u001b[49m\u001b[38;5;241;43m=\u001b[39;49m\u001b[38;5;28;43;01mTrue\u001b[39;49;00m\u001b[43m)\u001b[49m;  \n\u001b[1;32m     11\u001b[0m \u001b[38;5;28mprint\u001b[39m((time\u001b[38;5;241m.\u001b[39mprocess_time() \u001b[38;5;241m-\u001b[39m start)\u001b[38;5;241m/\u001b[39m\u001b[38;5;241m60\u001b[39m)\n",
      "File \u001b[0;32m~/Documents/MASTER/thesis_scripts/ABEL_dev/examples/../abel/classes/runnable.py:225\u001b[0m, in \u001b[0;36mRunnable.scan\u001b[0;34m(self, run_name, fcn, vals, label, scale, num_shots_per_step, savedepth, verbose, overwrite, parallel, max_cores)\u001b[0m\n\u001b[1;32m    222\u001b[0m \u001b[38;5;28mself\u001b[39m\u001b[38;5;241m.\u001b[39mscale \u001b[38;5;241m=\u001b[39m scale\n\u001b[1;32m    224\u001b[0m \u001b[38;5;66;03m# perform run\u001b[39;00m\n\u001b[0;32m--> 225\u001b[0m beam \u001b[38;5;241m=\u001b[39m \u001b[38;5;28;43mself\u001b[39;49m\u001b[38;5;241;43m.\u001b[39;49m\u001b[43mrun\u001b[49m\u001b[43m(\u001b[49m\u001b[43mrun_name\u001b[49m\u001b[38;5;241;43m=\u001b[39;49m\u001b[38;5;28;43mself\u001b[39;49m\u001b[38;5;241;43m.\u001b[39;49m\u001b[43mrun_name\u001b[49m\u001b[43m,\u001b[49m\u001b[43m \u001b[49m\u001b[43mnum_shots\u001b[49m\u001b[38;5;241;43m=\u001b[39;49m\u001b[38;5;28;43mself\u001b[39;49m\u001b[38;5;241;43m.\u001b[39;49m\u001b[43mnum_shots\u001b[49m\u001b[43m,\u001b[49m\u001b[43m \u001b[49m\u001b[43msavedepth\u001b[49m\u001b[38;5;241;43m=\u001b[39;49m\u001b[43msavedepth\u001b[49m\u001b[43m,\u001b[49m\u001b[43m \u001b[49m\u001b[43mverbose\u001b[49m\u001b[38;5;241;43m=\u001b[39;49m\u001b[43mverbose\u001b[49m\u001b[43m,\u001b[49m\u001b[43m \u001b[49m\u001b[43moverwrite\u001b[49m\u001b[38;5;241;43m=\u001b[39;49m\u001b[43moverwrite\u001b[49m\u001b[43m,\u001b[49m\u001b[43m \u001b[49m\u001b[43mparallel\u001b[49m\u001b[38;5;241;43m=\u001b[39;49m\u001b[43mparallel\u001b[49m\u001b[43m,\u001b[49m\u001b[43m \u001b[49m\u001b[43mmax_cores\u001b[49m\u001b[38;5;241;43m=\u001b[39;49m\u001b[43mmax_cores\u001b[49m\u001b[43m)\u001b[49m\n\u001b[1;32m    227\u001b[0m \u001b[38;5;28;01mreturn\u001b[39;00m beam\n",
      "File \u001b[0;32m~/Documents/MASTER/thesis_scripts/ABEL_dev/examples/../abel/classes/runnable.py:50\u001b[0m, in \u001b[0;36mRunnable.run\u001b[0;34m(self, run_name, num_shots, savedepth, verbose, overwrite, parallel, max_cores)\u001b[0m\n\u001b[1;32m     46\u001b[0m \u001b[38;5;28;01melse\u001b[39;00m:   \n\u001b[1;32m     47\u001b[0m     \n\u001b[1;32m     48\u001b[0m     \u001b[38;5;66;03m# perform in-series tracking\u001b[39;00m\n\u001b[1;32m     49\u001b[0m     \u001b[38;5;28;01mfor\u001b[39;00m shot \u001b[38;5;129;01min\u001b[39;00m \u001b[38;5;28mrange\u001b[39m(num_shots):\n\u001b[0;32m---> 50\u001b[0m         \u001b[38;5;28;43mself\u001b[39;49m\u001b[38;5;241;43m.\u001b[39;49m\u001b[43mperform_shot\u001b[49m\u001b[43m(\u001b[49m\u001b[43mshot\u001b[49m\u001b[43m)\u001b[49m\n\u001b[1;32m     52\u001b[0m \u001b[38;5;66;03m# return final beam from first shot\u001b[39;00m\n\u001b[1;32m     53\u001b[0m \u001b[38;5;28mself\u001b[39m\u001b[38;5;241m.\u001b[39m\u001b[38;5;18m__dict__\u001b[39m\u001b[38;5;241m.\u001b[39mupdate(\u001b[38;5;28mself\u001b[39m[\u001b[38;5;241m0\u001b[39m]\u001b[38;5;241m.\u001b[39m\u001b[38;5;18m__dict__\u001b[39m)\n",
      "File \u001b[0;32m~/Documents/MASTER/thesis_scripts/ABEL_dev/examples/../abel/classes/runnable.py:83\u001b[0m, in \u001b[0;36mRunnable.perform_shot\u001b[0;34m(self, shot)\u001b[0m\n\u001b[1;32m     80\u001b[0m     \u001b[38;5;28mprint\u001b[39m(\u001b[38;5;124m'\u001b[39m\u001b[38;5;124m>> SHOT \u001b[39m\u001b[38;5;124m'\u001b[39m \u001b[38;5;241m+\u001b[39m \u001b[38;5;28mstr\u001b[39m(shot\u001b[38;5;241m+\u001b[39m\u001b[38;5;241m1\u001b[39m) \u001b[38;5;241m+\u001b[39m \u001b[38;5;124m'\u001b[39m\u001b[38;5;124m/\u001b[39m\u001b[38;5;124m'\u001b[39m \u001b[38;5;241m+\u001b[39m \u001b[38;5;28mstr\u001b[39m(\u001b[38;5;28mself\u001b[39m\u001b[38;5;241m.\u001b[39mnum_shots), flush\u001b[38;5;241m=\u001b[39m\u001b[38;5;28;01mTrue\u001b[39;00m)\n\u001b[1;32m     82\u001b[0m \u001b[38;5;66;03m#if overwrite_from is None: # TODO\u001b[39;00m\n\u001b[0;32m---> 83\u001b[0m beam \u001b[38;5;241m=\u001b[39m \u001b[38;5;28;43mself\u001b[39;49m\u001b[38;5;241;43m.\u001b[39;49m\u001b[43mtrack\u001b[49m\u001b[43m(\u001b[49m\u001b[43mbeam\u001b[49m\u001b[38;5;241;43m=\u001b[39;49m\u001b[38;5;28;43;01mNone\u001b[39;49;00m\u001b[43m,\u001b[49m\u001b[43m \u001b[49m\u001b[43msavedepth\u001b[49m\u001b[38;5;241;43m=\u001b[39;49m\u001b[38;5;28;43mself\u001b[39;49m\u001b[38;5;241;43m.\u001b[39;49m\u001b[43msavedepth\u001b[49m\u001b[43m,\u001b[49m\u001b[43m \u001b[49m\u001b[43mrunnable\u001b[49m\u001b[38;5;241;43m=\u001b[39;49m\u001b[38;5;28;43mself\u001b[39;49m\u001b[43m,\u001b[49m\u001b[43m \u001b[49m\u001b[43mverbose\u001b[49m\u001b[38;5;241;43m=\u001b[39;49m\u001b[38;5;28;43mself\u001b[39;49m\u001b[38;5;241;43m.\u001b[39;49m\u001b[43mverbose\u001b[49m\u001b[43m)\u001b[49m\n\u001b[1;32m     85\u001b[0m \u001b[38;5;66;03m# save object to file\u001b[39;00m\n\u001b[1;32m     86\u001b[0m \u001b[38;5;28mself\u001b[39m\u001b[38;5;241m.\u001b[39msave()\n",
      "File \u001b[0;32m~/Documents/MASTER/thesis_scripts/ABEL_dev/examples/../abel/classes/beamline/beamline.py:36\u001b[0m, in \u001b[0;36mBeamline.track\u001b[0;34m(self, beam, savedepth, runnable, verbose)\u001b[0m\n\u001b[1;32m     34\u001b[0m \u001b[38;5;66;03m# perform element-wise tracking\u001b[39;00m\n\u001b[1;32m     35\u001b[0m \u001b[38;5;28;01mfor\u001b[39;00m trackable \u001b[38;5;129;01min\u001b[39;00m \u001b[38;5;28mself\u001b[39m\u001b[38;5;241m.\u001b[39mtrackables:\n\u001b[0;32m---> 36\u001b[0m     beam \u001b[38;5;241m=\u001b[39m \u001b[43mtrackable\u001b[49m\u001b[38;5;241;43m.\u001b[39;49m\u001b[43mtrack\u001b[49m\u001b[43m(\u001b[49m\u001b[43mbeam\u001b[49m\u001b[43m,\u001b[49m\u001b[43m \u001b[49m\u001b[43msavedepth\u001b[49m\u001b[38;5;241;43m-\u001b[39;49m\u001b[38;5;241;43m1\u001b[39;49m\u001b[43m,\u001b[49m\u001b[43m \u001b[49m\u001b[43mrunnable\u001b[49m\u001b[43m,\u001b[49m\u001b[43m \u001b[49m\u001b[43mverbose\u001b[49m\u001b[43m)\u001b[49m\n\u001b[1;32m     38\u001b[0m \u001b[38;5;28;01mreturn\u001b[39;00m beam\n",
      "File \u001b[0;32m~/Documents/MASTER/thesis_scripts/ABEL_dev/examples/../abel/classes/stage/impl/stage_quasistatic_2d_radiation_reaction.py:101\u001b[0m, in \u001b[0;36mStageQuasistatic2dRadiationReaction.track\u001b[0;34m(self, beam0, savedepth, runnable, verbose)\u001b[0m\n\u001b[1;32m     98\u001b[0m delta_Es \u001b[38;5;241m=\u001b[39m \u001b[38;5;28mself\u001b[39m\u001b[38;5;241m.\u001b[39mlength\u001b[38;5;241m*\u001b[39m(beam\u001b[38;5;241m.\u001b[39mEs() \u001b[38;5;241m-\u001b[39m beam0\u001b[38;5;241m.\u001b[39mEs())\u001b[38;5;241m/\u001b[39mdz\n\u001b[1;32m    100\u001b[0m \u001b[38;5;66;03m# find driver offset (to shift the beam relative) and apply betatron motion\u001b[39;00m\n\u001b[0;32m--> 101\u001b[0m final_Es \u001b[38;5;241m=\u001b[39m \u001b[43mbeam\u001b[49m\u001b[38;5;241;43m.\u001b[39;49m\u001b[43mapply_betatron_radiation_reaction\u001b[49m\u001b[43m(\u001b[49m\u001b[38;5;28;43mself\u001b[39;49m\u001b[38;5;241;43m.\u001b[39;49m\u001b[43mlength\u001b[49m\u001b[43m,\u001b[49m\u001b[43m \u001b[49m\u001b[38;5;28;43mself\u001b[39;49m\u001b[38;5;241;43m.\u001b[39;49m\u001b[43mplasma_density\u001b[49m\u001b[43m,\u001b[49m\u001b[43m \u001b[49m\u001b[43mdelta_Es\u001b[49m\u001b[43m,\u001b[49m\u001b[43m \u001b[49m\u001b[43mx0_driver\u001b[49m\u001b[38;5;241;43m=\u001b[39;49m\u001b[43mdriver0\u001b[49m\u001b[38;5;241;43m.\u001b[39;49m\u001b[43mx_offset\u001b[49m\u001b[43m(\u001b[49m\u001b[43m)\u001b[49m\u001b[43m,\u001b[49m\u001b[43m \u001b[49m\u001b[43my0_driver\u001b[49m\u001b[38;5;241;43m=\u001b[39;49m\u001b[43mdriver0\u001b[49m\u001b[38;5;241;43m.\u001b[39;49m\u001b[43my_offset\u001b[49m\u001b[43m(\u001b[49m\u001b[43m)\u001b[49m\u001b[43m,\u001b[49m\u001b[43m \u001b[49m\u001b[43menable_rr\u001b[49m\u001b[38;5;241;43m=\u001b[39;49m\u001b[38;5;28;43mself\u001b[39;49m\u001b[38;5;241;43m.\u001b[39;49m\u001b[43menable_rr\u001b[49m\u001b[43m)\u001b[49m\n\u001b[1;32m    103\u001b[0m \u001b[38;5;66;03m#New delta_Es due to radiation reaction\u001b[39;00m\n\u001b[1;32m    104\u001b[0m delta_Es \u001b[38;5;241m=\u001b[39m final_Es \u001b[38;5;241m-\u001b[39m beam0\u001b[38;5;241m.\u001b[39mEs()\n",
      "File \u001b[0;32m~/Documents/MASTER/thesis_scripts/ABEL_dev/examples/../abel/classes/beam.py:525\u001b[0m, in \u001b[0;36mBeam.apply_betatron_radiation_reaction\u001b[0;34m(self, L, n0, deltaEs, x0_driver, y0_driver, enable_rr)\u001b[0m\n\u001b[1;32m    522\u001b[0m dgamma_ds \u001b[38;5;241m=\u001b[39m (gammas\u001b[38;5;241m-\u001b[39mgamma0s)\u001b[38;5;241m/\u001b[39mL\n\u001b[1;32m    524\u001b[0m \u001b[38;5;66;03m# calculate final positions and normalized momentum after betatron motion\u001b[39;00m\n\u001b[0;32m--> 525\u001b[0m xs, uxs, ys, uys, Es \u001b[38;5;241m=\u001b[39m \u001b[43mevolve_betatron_motion\u001b[49m\u001b[43m(\u001b[49m\u001b[38;5;28;43mself\u001b[39;49m\u001b[38;5;241;43m.\u001b[39;49m\u001b[43mxs\u001b[49m\u001b[43m(\u001b[49m\u001b[43m)\u001b[49m\u001b[38;5;241;43m-\u001b[39;49m\u001b[43mx0_driver\u001b[49m\u001b[43m,\u001b[49m\u001b[43m \u001b[49m\u001b[38;5;28;43mself\u001b[39;49m\u001b[38;5;241;43m.\u001b[39;49m\u001b[43muxs\u001b[49m\u001b[43m(\u001b[49m\u001b[43m)\u001b[49m\u001b[43m,\u001b[49m\u001b[43m \u001b[49m\u001b[38;5;28;43mself\u001b[39;49m\u001b[38;5;241;43m.\u001b[39;49m\u001b[43mys\u001b[49m\u001b[43m(\u001b[49m\u001b[43m)\u001b[49m\u001b[38;5;241;43m-\u001b[39;49m\u001b[43my0_driver\u001b[49m\u001b[43m,\u001b[49m\u001b[43m \u001b[49m\u001b[38;5;28;43mself\u001b[39;49m\u001b[38;5;241;43m.\u001b[39;49m\u001b[43muys\u001b[49m\u001b[43m(\u001b[49m\u001b[43m)\u001b[49m\u001b[43m,\u001b[49m\u001b[43m \u001b[49m\u001b[43mL\u001b[49m\u001b[43m,\u001b[49m\u001b[43m \u001b[49m\u001b[43mgamma0s\u001b[49m\u001b[43m,\u001b[49m\u001b[43m \u001b[49m\u001b[43mdgamma_ds\u001b[49m\u001b[43m,\u001b[49m\u001b[43m \u001b[49m\u001b[43mk_p\u001b[49m\u001b[43m(\u001b[49m\u001b[43mn0\u001b[49m\u001b[43m)\u001b[49m\u001b[43m,\u001b[49m\u001b[43m \u001b[49m\u001b[43menable_rr\u001b[49m\u001b[43m)\u001b[49m\n\u001b[1;32m    527\u001b[0m \u001b[38;5;66;03m# set new beam positions and normalized momentum (shift back driver offsets)\u001b[39;00m\n\u001b[1;32m    528\u001b[0m \u001b[38;5;28mself\u001b[39m\u001b[38;5;241m.\u001b[39mset_xs(xs\u001b[38;5;241m+\u001b[39mx0_driver)\n",
      "File \u001b[0;32m~/Documents/MASTER/thesis_scripts/ABEL_dev/examples/../abel/physics_models/betatron_motion.py:114\u001b[0m, in \u001b[0;36mevolve_betatron_motion\u001b[0;34m(x0, ux0, y0, uy0, L, gamma, dgamma_ds, kp, enable_rr)\u001b[0m\n\u001b[1;32m    110\u001b[0m     \u001b[38;5;66;03m#Es[i] = E\u001b[39;00m\n\u001b[1;32m    112\u001b[0m     \u001b[38;5;28;01mreturn\u001b[39;00m x_end, ux_end, y_end, uy_end, E\n\u001b[0;32m--> 114\u001b[0m res \u001b[38;5;241m=\u001b[39m np\u001b[38;5;241m.\u001b[39marray(\u001b[43mParallel\u001b[49m\u001b[43m(\u001b[49m\u001b[43mn_jobs\u001b[49m\u001b[38;5;241;43m=\u001b[39;49m\u001b[43mnum_cores\u001b[49m\u001b[43m)\u001b[49m\u001b[43m(\u001b[49m\u001b[43mdelayed\u001b[49m\u001b[43m(\u001b[49m\u001b[43mparallel_process\u001b[49m\u001b[43m)\u001b[49m\u001b[43m(\u001b[49m\u001b[43mi\u001b[49m\u001b[43m)\u001b[49m\u001b[43m \u001b[49m\u001b[38;5;28;43;01mfor\u001b[39;49;00m\u001b[43m \u001b[49m\u001b[43mi\u001b[49m\u001b[43m \u001b[49m\u001b[38;5;129;43;01min\u001b[39;49;00m\u001b[43m \u001b[49m\u001b[38;5;28;43mrange\u001b[39;49m\u001b[43m(\u001b[49m\u001b[43mlength\u001b[49m\u001b[43m)\u001b[49m\u001b[43m)\u001b[49m)\n\u001b[1;32m    116\u001b[0m xs, uxs, ys, uys, Es \u001b[38;5;241m=\u001b[39m res[:,\u001b[38;5;241m0\u001b[39m], res[:,\u001b[38;5;241m1\u001b[39m], res[:,\u001b[38;5;241m2\u001b[39m], res[:,\u001b[38;5;241m3\u001b[39m], res[:,\u001b[38;5;241m4\u001b[39m]\n\u001b[1;32m    118\u001b[0m \u001b[38;5;28;01mreturn\u001b[39;00m xs, uxs, ys, uys, Es\n",
      "File \u001b[0;32m~/.local/lib/python3.8/site-packages/joblib/parallel.py:1952\u001b[0m, in \u001b[0;36mParallel.__call__\u001b[0;34m(self, iterable)\u001b[0m\n\u001b[1;32m   1946\u001b[0m \u001b[38;5;66;03m# The first item from the output is blank, but it makes the interpreter\u001b[39;00m\n\u001b[1;32m   1947\u001b[0m \u001b[38;5;66;03m# progress until it enters the Try/Except block of the generator and\u001b[39;00m\n\u001b[1;32m   1948\u001b[0m \u001b[38;5;66;03m# reach the first `yield` statement. This starts the aynchronous\u001b[39;00m\n\u001b[1;32m   1949\u001b[0m \u001b[38;5;66;03m# dispatch of the tasks to the workers.\u001b[39;00m\n\u001b[1;32m   1950\u001b[0m \u001b[38;5;28mnext\u001b[39m(output)\n\u001b[0;32m-> 1952\u001b[0m \u001b[38;5;28;01mreturn\u001b[39;00m output \u001b[38;5;28;01mif\u001b[39;00m \u001b[38;5;28mself\u001b[39m\u001b[38;5;241m.\u001b[39mreturn_generator \u001b[38;5;28;01melse\u001b[39;00m \u001b[38;5;28;43mlist\u001b[39;49m\u001b[43m(\u001b[49m\u001b[43moutput\u001b[49m\u001b[43m)\u001b[49m\n",
      "File \u001b[0;32m~/.local/lib/python3.8/site-packages/joblib/parallel.py:1595\u001b[0m, in \u001b[0;36mParallel._get_outputs\u001b[0;34m(self, iterator, pre_dispatch)\u001b[0m\n\u001b[1;32m   1592\u001b[0m     \u001b[38;5;28;01myield\u001b[39;00m\n\u001b[1;32m   1594\u001b[0m     \u001b[38;5;28;01mwith\u001b[39;00m \u001b[38;5;28mself\u001b[39m\u001b[38;5;241m.\u001b[39m_backend\u001b[38;5;241m.\u001b[39mretrieval_context():\n\u001b[0;32m-> 1595\u001b[0m         \u001b[38;5;28;01myield from\u001b[39;00m \u001b[38;5;28mself\u001b[39m\u001b[38;5;241m.\u001b[39m_retrieve()\n\u001b[1;32m   1597\u001b[0m \u001b[38;5;28;01mexcept\u001b[39;00m \u001b[38;5;167;01mGeneratorExit\u001b[39;00m:\n\u001b[1;32m   1598\u001b[0m     \u001b[38;5;66;03m# The generator has been garbage collected before being fully\u001b[39;00m\n\u001b[1;32m   1599\u001b[0m     \u001b[38;5;66;03m# consumed. This aborts the remaining tasks if possible and warn\u001b[39;00m\n\u001b[1;32m   1600\u001b[0m     \u001b[38;5;66;03m# the user if necessary.\u001b[39;00m\n\u001b[1;32m   1601\u001b[0m     \u001b[38;5;28mself\u001b[39m\u001b[38;5;241m.\u001b[39m_exception \u001b[38;5;241m=\u001b[39m \u001b[38;5;28;01mTrue\u001b[39;00m\n",
      "File \u001b[0;32m~/.local/lib/python3.8/site-packages/joblib/parallel.py:1707\u001b[0m, in \u001b[0;36mParallel._retrieve\u001b[0;34m(self)\u001b[0m\n\u001b[1;32m   1702\u001b[0m \u001b[38;5;66;03m# If the next job is not ready for retrieval yet, we just wait for\u001b[39;00m\n\u001b[1;32m   1703\u001b[0m \u001b[38;5;66;03m# async callbacks to progress.\u001b[39;00m\n\u001b[1;32m   1704\u001b[0m \u001b[38;5;28;01mif\u001b[39;00m ((\u001b[38;5;28mlen\u001b[39m(\u001b[38;5;28mself\u001b[39m\u001b[38;5;241m.\u001b[39m_jobs) \u001b[38;5;241m==\u001b[39m \u001b[38;5;241m0\u001b[39m) \u001b[38;5;129;01mor\u001b[39;00m\n\u001b[1;32m   1705\u001b[0m     (\u001b[38;5;28mself\u001b[39m\u001b[38;5;241m.\u001b[39m_jobs[\u001b[38;5;241m0\u001b[39m]\u001b[38;5;241m.\u001b[39mget_status(\n\u001b[1;32m   1706\u001b[0m         timeout\u001b[38;5;241m=\u001b[39m\u001b[38;5;28mself\u001b[39m\u001b[38;5;241m.\u001b[39mtimeout) \u001b[38;5;241m==\u001b[39m TASK_PENDING)):\n\u001b[0;32m-> 1707\u001b[0m     \u001b[43mtime\u001b[49m\u001b[38;5;241;43m.\u001b[39;49m\u001b[43msleep\u001b[49m\u001b[43m(\u001b[49m\u001b[38;5;241;43m0.01\u001b[39;49m\u001b[43m)\u001b[49m\n\u001b[1;32m   1708\u001b[0m     \u001b[38;5;28;01mcontinue\u001b[39;00m\n\u001b[1;32m   1710\u001b[0m \u001b[38;5;66;03m# We need to be careful: the job list can be filling up as\u001b[39;00m\n\u001b[1;32m   1711\u001b[0m \u001b[38;5;66;03m# we empty it and Python list are not thread-safe by\u001b[39;00m\n\u001b[1;32m   1712\u001b[0m \u001b[38;5;66;03m# default hence the use of the lock\u001b[39;00m\n",
      "\u001b[0;31mKeyboardInterrupt\u001b[0m: "
     ]
    }
   ],
   "source": [
    "# scan the driver timing jitter\n",
    "start = time.process_time()\n",
    "linac.scan(f'scan_example_RR_{stage.enable_rr}_160_updated_params_no_jitter', \n",
    "           lambda obj, val: setattr(obj.source, 'emit_nx', val) or obj, \n",
    "           1e-6*np.array([10, 20, 40, 80, 160]),\n",
    "           label='Initial normalized emittance in x (mm mrad)',\n",
    "           scale=1e-6,\n",
    "           num_shots_per_step=1, \n",
    "           parallel=False,\n",
    "           overwrite=True);  \n",
    "print((time.process_time() - start)/60)"
   ]
  },
  {
   "cell_type": "markdown",
   "id": "c322d288-d340-42a6-afae-6be5c9088c7a",
   "metadata": {},
   "source": [
    "### Plot wakefield"
   ]
  },
  {
   "cell_type": "code",
   "execution_count": null,
   "id": "e00de532-468b-4b50-a80b-69c4f8e23559",
   "metadata": {},
   "outputs": [],
   "source": [
    "linac.stages[0].plot_wakefield()"
   ]
  },
  {
   "cell_type": "markdown",
   "id": "a2491235-f76d-4482-8f78-127583a221c6",
   "metadata": {},
   "source": [
    "### Plot scan"
   ]
  },
  {
   "cell_type": "code",
   "execution_count": null,
   "id": "0ccfc534-019b-49db-8f7c-14ab57dc6f8d",
   "metadata": {},
   "outputs": [],
   "source": [
    "# plot energy spread vs bunch length\n",
    "fig_1, ax1 = linac.plot_beam_function(Beam.charge, label='Charge (nC)', scale=-1e-9, xscale='linear', yscale='linear')\n",
    "fig_2, ax2 = linac.plot_beam_function(Beam.energy, label='Energy (GeV)', scale=1e9, xscale='linear', yscale='linear')\n",
    "fig_3, ax3 = linac.plot_beam_function(Beam.rel_energy_spread, label='Energy spread (%)', scale=1e-2, xscale='linear')\n",
    "fig_4, ax4 = linac.plot_beam_function(Beam.norm_emittance_x, label='Norm. emittance, x (mm mrad)', scale=1e-6, xscale='linear')\n",
    "fig_5, ax5 = linac.plot_beam_function(Beam.norm_emittance_y, label='Norm. emittance, y (mm mrad)', scale=1e-6, xscale='linear')\n",
    "\"\"\"\n",
    "x = np.linspace(0,160,2)\n",
    "ax4.plot(x,x, label = 'Final = initial')\n",
    "ax4.legend()\n",
    "\n",
    "emittance_y_RR = np.zeros(5)\n",
    "E_spread_RR = np.zeros(5)\n",
    "for i in range(5):\n",
    "    E_spread_RR[i] = linac[i].get_beam(-1).rel_energy_spread()*1e2\n",
    "    \"\"\""
   ]
  },
  {
   "cell_type": "code",
   "execution_count": null,
   "id": "51cc39e0-2dac-4eb7-8aaf-a97bd55dfad8",
   "metadata": {},
   "outputs": [],
   "source": [
    "\"\"\"\n",
    "plots = np.array(['charge', 'energy', 'energy_spread', \\\n",
    "                       'emittance_x', 'emittance_y'])\n",
    "figs = [fig_1, fig_2, fig_3, fig_4, fig_5]\n",
    "for pl, f in zip(plots,figs):\n",
    "    f.savefig(fname = f'Linac_emittance_scan_{pl}_RR_{stage.enable_rr}_160_1T_updated_params.png')\n",
    "\"\"\""
   ]
  },
  {
   "cell_type": "code",
   "execution_count": null,
   "id": "e8bfc428-c4c5-4267-9430-6dbad6d4d38f",
   "metadata": {},
   "outputs": [],
   "source": [
    "#linac[4].animate_lps(file_name=f'emittance_{10*2**4}_RR_false')"
   ]
  },
  {
   "cell_type": "code",
   "execution_count": null,
   "id": "666b15a2-bdbc-4565-8986-46d742e8502b",
   "metadata": {},
   "outputs": [],
   "source": []
  }
 ],
 "metadata": {
  "kernelspec": {
   "display_name": "Python 3 (ipykernel)",
   "language": "python",
   "name": "python3"
  },
  "language_info": {
   "codemirror_mode": {
    "name": "ipython",
    "version": 3
   },
   "file_extension": ".py",
   "mimetype": "text/x-python",
   "name": "python",
   "nbconvert_exporter": "python",
   "pygments_lexer": "ipython3",
   "version": "3.8.10"
  }
 },
 "nbformat": 4,
 "nbformat_minor": 5
}
