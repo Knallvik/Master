{
 "cells": [
  {
   "cell_type": "code",
   "execution_count": 1,
   "id": "cb6ba306-241a-4d4c-847c-18da7a2ce4c8",
   "metadata": {},
   "outputs": [
    {
     "name": "stdout",
     "output_type": "stream",
     "text": [
      "initializing ocelot...\n"
     ]
    }
   ],
   "source": [
    "import sys\n",
    "sys.path.append('../')\n",
    "from abel import *\n",
    "#from abel.classes.stage.impl import stage_quasistatic_2d_radiation_reaction as rr\n",
    "import numpy as np\n",
    "import matplotlib.pyplot as plt\n",
    "from abel.utilities.statistics import prct_clean, prct_clean2d\n",
    "from matplotlib.animation import FuncAnimation\n",
    "import time"
   ]
  },
  {
   "cell_type": "code",
   "execution_count": 2,
   "id": "ef74430a-b474-4055-ad86-51374c565b26",
   "metadata": {},
   "outputs": [],
   "source": [
    "# define driver\n",
    "driver = SourceBasic()\n",
    "driver.charge = -2.7e10 * SI.e # [C]\n",
    "driver.energy = 31.25e9 # [eV]\n",
    "driver.rel_energy_spread = 0.01\n",
    "driver.bunch_length = 50e-6 # [m]\n",
    "driver.z_offset = 580e-6 # [m]\n",
    "driver.emit_nx, driver.emit_ny = 10e-6, 10e-6 # [m rad]\n",
    "driver.beta_x, driver.beta_y = 30e-3, 30e-3 # [m]\n",
    "driver.num_particles = 10000\n",
    "driver.jitter.x = 0 # [m] 2e-6\n",
    "driver.jitter.y = 0 # [m] 100e-9\n",
    "driver.jitter.t = 10e-15 # [m]\n",
    "\n",
    "# define stage\n",
    "stage = StageHipace()\n",
    "stage.driver_source = driver\n",
    "stage.length = 11 # [m]\n",
    "stage.plasma_density = 2e21 # [m^-3]\n",
    "stage.nom_energy_gain = 31.9e9 # [eV]\n",
    "stage.radiation_reaction = True\n",
    "\n",
    "# define first stage (half length)\n",
    "first_stage = StageHipace()\n",
    "first_stage.driver_source = driver\n",
    "first_stage.length = stage.length/2 # [m]\n",
    "first_stage.plasma_density = 2e21 # [m^-3]\n",
    "first_stage.nom_energy_gain = stage.nom_energy_gain/2 # [eV]\n",
    "first_stage.radiation_reaction = True\n",
    "\n",
    "# define beam\n",
    "source = SourceBasic()\n",
    "source.charge = -1e10 * SI.e # [C]\n",
    "source.energy = 5e9 # [eV]\n",
    "source.rel_energy_spread = 0.01\n",
    "source.bunch_length = 28e-6 # [m]\n",
    "source.z_offset = 0e-6 # [m]\n",
    "source.emit_nx, source.emit_ny = 160e-6, 0.56e-6 # [m rad]\n",
    "source.beta_x = stage.matched_beta_function(source.energy)\n",
    "source.beta_y = source.beta_x\n",
    "source.num_particles = 1000\n",
    "source.jitter.t = driver.jitter.t\n",
    "\n",
    "# define interstage\n",
    "interstage = InterstageBasic()\n",
    "interstage.beta0 = lambda E: stage.matched_beta_function(E)\n",
    "interstage.dipole_length = lambda E: 1 * np.sqrt(E/10e9) # [m(eV)]\n",
    "interstage.dipole_field = 1 # [T]\n",
    "\n",
    "# beam delivery system\n",
    "bds = BeamDeliverySystemBasic()\n",
    "bds.beta_x, bds.beta_y = 8e-3, 0.4e-3 # [m]\n",
    "bds.bunch_length = 0.75 * bds.beta_y\n",
    "\n",
    "# define linac\n",
    "linac = Linac()\n",
    "linac.source = source\n",
    "linac.stage = stage\n",
    "linac.first_stage = first_stage\n",
    "linac.interstage = interstage\n",
    "linac.num_stages = 16"
   ]
  },
  {
   "cell_type": "code",
   "execution_count": null,
   "id": "e798104f-d5e2-4fe9-a28e-7493c68ea71e",
   "metadata": {},
   "outputs": [
    {
     "name": "stdout",
     "output_type": "stream",
     "text": [
      "Tracking element 1 (s = 0.0 m, -1.60 nC, 5.0 GeV, SourceBasic, stage 0)\n",
      "Running job 5096094\n",
      ">> Starting (0:00)\n",
      ">> Running (0:05)\n",
      ">> Running (0:10)\n",
      ">> Running (0:15)\n",
      ">> Running (0:20)\n",
      ">> Running (0:26)\n",
      ">> Running (0:31)\n",
      ">> Running (0:36)\n",
      ">> Running (0:41)\n",
      ">> Running (0:47)\n",
      ">> Running (0:52)\n",
      ">> Running (0:58)\n",
      ">> Running (1:03)\n",
      ">> Running (1:09)\n"
     ]
    }
   ],
   "source": [
    "start = time.process_time()\n",
    "\n",
    "linac.run(f'linac_hipace_{int(source.energy/1e9)}GeV_{interstage.dipole_field}T_ex_{source.emit_nx*1e6}_jitterx_{driver.jitter.x}_jittery_{driver.jitter.y}_RR_{stage.radiation_reaction}', num_shots=1, overwrite=True, parallel=False);\n",
    "\n",
    "print((time.process_time() - start)/60)"
   ]
  },
  {
   "cell_type": "code",
   "execution_count": null,
   "id": "9a5a6bdf-b41f-48b8-943b-a992cb5b2f5e",
   "metadata": {},
   "outputs": [],
   "source": [
    "linac.plot_survey()\n",
    "\n",
    "# plot beam evolution\n",
    "fig_9GeV = linac.plot_evolution(use_stage_nums=False)\n",
    "#fig_9GeV.savefig(f'Plots_with_updated_params/{int(source.energy/1e9)}GeV_{int(source.emit_nx*1e6)}mmmrad_{int(source.emit_ny*1e6)}\\\n",
    "#mmmrad_{interstage.dipole_field}T_RR_{stage.enable_rr}_B_{interstage.dipole_field}T_deleted_low_z_values_10k.png')\n",
    "\n",
    "linac.plot_waterfalls()"
   ]
  }
 ],
 "metadata": {
  "kernelspec": {
   "display_name": "Python 3 (ipykernel)",
   "language": "python",
   "name": "python3"
  },
  "language_info": {
   "codemirror_mode": {
    "name": "ipython",
    "version": 3
   },
   "file_extension": ".py",
   "mimetype": "text/x-python",
   "name": "python",
   "nbconvert_exporter": "python",
   "pygments_lexer": "ipython3",
   "version": "3.9.12"
  }
 },
 "nbformat": 4,
 "nbformat_minor": 5
}
