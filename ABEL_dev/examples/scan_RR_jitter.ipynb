{
 "cells": [
  {
   "cell_type": "markdown",
   "id": "35b4299f-1afc-4fc2-84ef-1af913515b36",
   "metadata": {},
   "source": [
    "# ABEL scanning example\n",
    "\n",
    "By Carl A. Lindstrøm (University of Oslo), 8 Sep 2023"
   ]
  },
  {
   "cell_type": "markdown",
   "id": "13270181-9972-4f1f-808a-a86d2e17d53b",
   "metadata": {},
   "source": [
    "### Import ABEL framework"
   ]
  },
  {
   "cell_type": "code",
   "execution_count": 1,
   "id": "e290fd8e-eb5a-4a89-90d3-77765398b1c9",
   "metadata": {},
   "outputs": [
    {
     "name": "stdout",
     "output_type": "stream",
     "text": [
      "initializing ocelot...\n"
     ]
    }
   ],
   "source": [
    "import sys\n",
    "sys.path.append('../')\n",
    "from abel import *\n",
    "import numpy as np"
   ]
  },
  {
   "cell_type": "markdown",
   "id": "92996b82-518c-4e23-bf59-56b55f4021f4",
   "metadata": {},
   "source": [
    "### Define the linac and beams"
   ]
  },
  {
   "cell_type": "code",
   "execution_count": 2,
   "id": "392dc163-469e-4a0e-b98a-376a5d6eef02",
   "metadata": {},
   "outputs": [],
   "source": [
    "# define driver\n",
    "driver = SourceBasic()\n",
    "driver.charge = -2.7e10 * SI.e # [C]\n",
    "driver.energy = 31.25e9 # [eV]\n",
    "driver.rel_energy_spread = 0.01\n",
    "driver.bunch_length = 42e-6 # [m]\n",
    "driver.z_offset = 300e-6 # [m]\n",
    "driver.emit_nx, driver.emit_ny = 10e-6, 10e-6 # [m rad]\n",
    "driver.beta_x, driver.beta_y = 30e-3, 30e-3 # [m]\n",
    "driver.num_particles = 10000\n",
    "driver.jitter.x = 10000e-9 # [m]\n",
    "driver.jitter.y = 10000e-9 # [m]\n",
    "\n",
    "# define stage\n",
    "stage = StageQuasistatic2dRadiationReaction()\n",
    "stage.driver_source = driver\n",
    "stage.nom_energy_gain = 31.9e9 # [eV]\n",
    "stage.length = 5 # [m]\n",
    "stage.plasma_density = 7e21 # [m^-3]\n",
    "stage.ramp_beta_mag = 5\n",
    "stage.enable_rr = True\n",
    "\n",
    "\n",
    "# define first stage (half length)\n",
    "first_stage = StageQuasistatic2dRadiationReaction()\n",
    "first_stage.driver_source = stage.driver_source\n",
    "first_stage.nom_energy_gain = stage.nom_energy_gain/2\n",
    "first_stage.length = stage.length/2\n",
    "first_stage.plasma_density = stage.plasma_density\n",
    "first_stage.ramp_beta_mag = stage.ramp_beta_mag\n",
    "first_stage.enable_rr = stage.enable_rr\n",
    "\n",
    "# define beam\n",
    "source = SourceBasic()\n",
    "source.charge = -1e10 * SI.e # [C]\n",
    "source.energy = 5e9 # [eV]\n",
    "source.rel_energy_spread = 0.01\n",
    "source.bunch_length = 18e-6 # [m]\n",
    "source.z_offset = -34e-6 # [m]\n",
    "source.emit_nx, source.emit_ny = 160e-6, 0.56e-6 # [m rad]\n",
    "source.beta_x = stage.matched_beta_function(source.energy)\n",
    "source.beta_y = source.beta_x\n",
    "source.num_particles = 5000\n",
    "source.jitter.t = driver.jitter.t\n",
    "\n",
    "# define interstage\n",
    "interstage = InterstageBasic()\n",
    "interstage.beta0 = lambda E: stage.matched_beta_function(E)\n",
    "interstage.dipole_length = lambda E: 1 * np.sqrt(E/10e9) # [m(eV)]\n",
    "interstage.dipole_field = 1.0 # [T]\n",
    "\n",
    "# beam delivery system\n",
    "bds = BeamDeliverySystemBasic()\n",
    "bds.beta_x, bds.beta_y = 8e-3, 0.4e-3 # [m]\n",
    "bds.bunch_length = 0.75 * bds.beta_y\n",
    "\n",
    "# define linac\n",
    "linac = Linac()\n",
    "linac.source = source\n",
    "linac.stage = stage\n",
    "linac.first_stage = first_stage\n",
    "linac.interstage = interstage\n",
    "linac.num_stages = 16"
   ]
  },
  {
   "cell_type": "markdown",
   "id": "7c58144f-67e5-4047-b8e1-3cac91160274",
   "metadata": {},
   "source": [
    "### Run simulation scan"
   ]
  },
  {
   "cell_type": "code",
   "execution_count": null,
   "id": "be147202-d55f-4d20-8f39-dabc5b536e3c",
   "metadata": {},
   "outputs": [
    {
     "data": {
      "application/vnd.jupyter.widget-view+json": {
       "model_id": "2d65f464a19d4b4899012e4f39433c35",
       "version_major": 2,
       "version_minor": 0
      },
      "text/plain": [
       "Output()"
      ]
     },
     "metadata": {},
     "output_type": "display_data"
    },
    {
     "name": "stdout",
     "output_type": "stream",
     "text": [
      "initializing ocelot...\n",
      ">> SHOT 1/6\n",
      "initializing ocelot...\n",
      ">> SHOT 3/6\n",
      "initializing ocelot...\n",
      ">> SHOT 4/6\n",
      "initializing ocelot...\n",
      ">> SHOT 5/6\n",
      "initializing ocelot...\n",
      ">> SHOT 6/6\n",
      "initializing ocelot...\n",
      ">> SHOT 2/6\n"
     ]
    },
    {
     "name": "stderr",
     "output_type": "stream",
     "text": [
      "/pfs/lustrep2/scratch/project_465000445/kalvik/master_kalvik/lib/python3.9/site-packages/aptools/data_analysis/beam_diagnostics.py:524: RuntimeWarning: invalid value encountered in sqrt\n",
      "  em_x = np.sqrt(np.linalg.det(cov_x.astype(np.float32, copy=False)))\n",
      "/pfs/lustrep2/scratch/project_465000445/kalvik/master_kalvik/lib/python3.9/site-packages/aptools/data_analysis/beam_diagnostics.py:524: RuntimeWarning: invalid value encountered in sqrt\n",
      "  em_x = np.sqrt(np.linalg.det(cov_x.astype(np.float32, copy=False)))\n",
      "/pfs/lustrep2/scratch/project_465000445/kalvik/master_kalvik/lib/python3.9/site-packages/aptools/data_analysis/beam_diagnostics.py:524: RuntimeWarning: invalid value encountered in sqrt\n",
      "  em_x = np.sqrt(np.linalg.det(cov_x.astype(np.float32, copy=False)))\n",
      "/pfs/lustrep2/scratch/project_465000445/kalvik/master_kalvik/lib/python3.9/site-packages/aptools/data_analysis/beam_diagnostics.py:524: RuntimeWarning: invalid value encountered in sqrt\n",
      "  em_x = np.sqrt(np.linalg.det(cov_x.astype(np.float32, copy=False)))\n",
      "/pfs/lustrep2/scratch/project_465000445/kalvik/master_kalvik/lib/python3.9/site-packages/aptools/data_analysis/beam_diagnostics.py:524: RuntimeWarning: invalid value encountered in sqrt\n",
      "  em_x = np.sqrt(np.linalg.det(cov_x.astype(np.float32, copy=False)))\n",
      "/pfs/lustrep2/scratch/project_465000445/kalvik/master_kalvik/lib/python3.9/site-packages/aptools/data_analysis/beam_diagnostics.py:524: RuntimeWarning: invalid value encountered in sqrt\n",
      "  em_x = np.sqrt(np.linalg.det(cov_x.astype(np.float32, copy=False)))\n"
     ]
    }
   ],
   "source": [
    "# scan the driver timing jitter\n",
    "linac.scan(f'scan_example_RR_320_jitter_{driver.jitter.x*1e9}', \n",
    "           lambda obj, val: setattr(obj.source, 'emit_nx', val) or obj, \n",
    "           1e-6*np.array([10, 20, 40, 80, 160, 320]),\n",
    "           label='Initial normalized emittance in x (mm mrad)',\n",
    "           scale=1e-6,\n",
    "           num_shots_per_step=1, \n",
    "           parallel=True,\n",
    "           overwrite=False);"
   ]
  },
  {
   "cell_type": "markdown",
   "id": "c322d288-d340-42a6-afae-6be5c9088c7a",
   "metadata": {},
   "source": [
    "### Plot wakefield"
   ]
  },
  {
   "cell_type": "code",
   "execution_count": null,
   "id": "e00de532-468b-4b50-a80b-69c4f8e23559",
   "metadata": {},
   "outputs": [],
   "source": [
    "linac.stages[0].plot_wakefield()"
   ]
  },
  {
   "cell_type": "markdown",
   "id": "a2491235-f76d-4482-8f78-127583a221c6",
   "metadata": {},
   "source": [
    "### Plot scan"
   ]
  },
  {
   "cell_type": "code",
   "execution_count": null,
   "id": "0ccfc534-019b-49db-8f7c-14ab57dc6f8d",
   "metadata": {},
   "outputs": [],
   "source": [
    "# plot energy spread vs bunch length\n",
    "fig_1, ax1 = linac.plot_beam_function(Beam.charge, label='Charge (nC)', scale=-1e-9, xscale='linear', yscale='linear')\n",
    "fig_2, ax2 = linac.plot_beam_function(Beam.energy, label='Energy (GeV)', scale=1e9, xscale='linear', yscale='linear')\n",
    "fig_3, ax3 = linac.plot_beam_function(Beam.rel_energy_spread, label='Energy spread (%)', scale=1e-2, xscale='linear')\n",
    "fig_4, ax4 = linac.plot_beam_function(Beam.norm_emittance_x, label='Norm. emittance, x (mm mrad)', scale=1e-6, xscale='linear')\n",
    "fig_5, ax5 = linac.plot_beam_function(Beam.norm_emittance_y, label='Norm. emittance, y (mm mrad)', scale=1e-6, xscale='linear')    "
   ]
  },
  {
   "cell_type": "code",
   "execution_count": null,
   "id": "fc99aa31-16c2-4ac8-8ac7-8c6e9effaa66",
   "metadata": {},
   "outputs": [],
   "source": [
    "plots = np.array(['charge', 'energy', 'energy_spread', \\\n",
    "                       'emittance_x', 'emittance_y'])\n",
    "figs = [fig_1, fig_2, fig_3, fig_4, fig_5]\n",
    "for pl, f in zip(plots,figs):\n",
    "    f.savefig(fname = f'Linac_emittance_scan_{pl}_RR_320_jitter_{driver.jitter.x*1e9}.png')"
   ]
  },
  {
   "cell_type": "code",
   "execution_count": null,
   "id": "ad83ec09-e900-4193-840a-ac8333a270ff",
   "metadata": {},
   "outputs": [],
   "source": [
    "#for i in range(6):\n",
    "#    linac[i].animate_lps(file_name=f'emittance_{10*2**i}_RR_jitter')"
   ]
  },
  {
   "cell_type": "code",
   "execution_count": null,
   "id": "ed43a8c3-28c8-467a-ae2c-7014bafacbdb",
   "metadata": {},
   "outputs": [],
   "source": []
  }
 ],
 "metadata": {
  "kernelspec": {
   "display_name": "Python 3 (ipykernel)",
   "language": "python",
   "name": "python3"
  },
  "language_info": {
   "codemirror_mode": {
    "name": "ipython",
    "version": 3
   },
   "file_extension": ".py",
   "mimetype": "text/x-python",
   "name": "python",
   "nbconvert_exporter": "python",
   "pygments_lexer": "ipython3",
   "version": "3.9.12"
  }
 },
 "nbformat": 4,
 "nbformat_minor": 5
}
