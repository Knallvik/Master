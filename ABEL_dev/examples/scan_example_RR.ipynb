{
 "cells": [
  {
   "cell_type": "markdown",
   "id": "35b4299f-1afc-4fc2-84ef-1af913515b36",
   "metadata": {},
   "source": [
    "# ABEL scanning example\n",
    "\n",
    "By Carl A. Lindstrøm (University of Oslo), 8 Sep 2023"
   ]
  },
  {
   "cell_type": "markdown",
   "id": "13270181-9972-4f1f-808a-a86d2e17d53b",
   "metadata": {},
   "source": [
    "### Import ABEL framework"
   ]
  },
  {
   "cell_type": "code",
   "execution_count": 1,
   "id": "e290fd8e-eb5a-4a89-90d3-77765398b1c9",
   "metadata": {},
   "outputs": [
    {
     "ename": "KeyboardInterrupt",
     "evalue": "",
     "output_type": "error",
     "traceback": [
      "\u001b[0;31m---------------------------------------------------------------------------\u001b[0m",
      "\u001b[0;31mKeyboardInterrupt\u001b[0m                         Traceback (most recent call last)",
      "Cell \u001b[0;32mIn[1], line 3\u001b[0m\n\u001b[1;32m      1\u001b[0m \u001b[38;5;28;01mimport\u001b[39;00m \u001b[38;5;21;01msys\u001b[39;00m\n\u001b[1;32m      2\u001b[0m sys\u001b[38;5;241m.\u001b[39mpath\u001b[38;5;241m.\u001b[39mappend(\u001b[38;5;124m'\u001b[39m\u001b[38;5;124m../\u001b[39m\u001b[38;5;124m'\u001b[39m)\n\u001b[0;32m----> 3\u001b[0m \u001b[38;5;28;01mfrom\u001b[39;00m \u001b[38;5;21;01mabel\u001b[39;00m \u001b[38;5;28;01mimport\u001b[39;00m \u001b[38;5;241m*\u001b[39m\n\u001b[1;32m      4\u001b[0m \u001b[38;5;28;01mimport\u001b[39;00m \u001b[38;5;21;01mnumpy\u001b[39;00m \u001b[38;5;28;01mas\u001b[39;00m \u001b[38;5;21;01mnp\u001b[39;00m\n",
      "File \u001b[0;32m/pfs/lustrep2/scratch/project_465000445/kalvik/thesis_scripts/ABEL_dev/examples/../abel/__init__.py:2\u001b[0m\n\u001b[1;32m      1\u001b[0m \u001b[38;5;66;03m# suppress numba warnings from Ocelot\u001b[39;00m\n\u001b[0;32m----> 2\u001b[0m \u001b[38;5;28;01mfrom\u001b[39;00m \u001b[38;5;21;01mnumba\u001b[39;00m\u001b[38;5;21;01m.\u001b[39;00m\u001b[38;5;21;01mcore\u001b[39;00m\u001b[38;5;21;01m.\u001b[39;00m\u001b[38;5;21;01merrors\u001b[39;00m \u001b[38;5;28;01mimport\u001b[39;00m NumbaDeprecationWarning, NumbaPendingDeprecationWarning\n\u001b[1;32m      3\u001b[0m \u001b[38;5;28;01mimport\u001b[39;00m \u001b[38;5;21;01mwarnings\u001b[39;00m\n\u001b[1;32m      4\u001b[0m warnings\u001b[38;5;241m.\u001b[39msimplefilter(\u001b[38;5;124m'\u001b[39m\u001b[38;5;124mignore\u001b[39m\u001b[38;5;124m'\u001b[39m, category\u001b[38;5;241m=\u001b[39mNumbaDeprecationWarning)\n",
      "File \u001b[0;32m/pfs/lustrep2/scratch/project_465000445/kalvik/master_kalvik/lib/python3.9/site-packages/numba/__init__.py:69\u001b[0m\n\u001b[1;32m     65\u001b[0m \u001b[38;5;28;01mdel\u001b[39;00m get_versions\n\u001b[1;32m     66\u001b[0m \u001b[38;5;28;01mdel\u001b[39;00m generate_version_info\n\u001b[0;32m---> 69\u001b[0m \u001b[38;5;28;01mfrom\u001b[39;00m \u001b[38;5;21;01mnumba\u001b[39;00m\u001b[38;5;21;01m.\u001b[39;00m\u001b[38;5;21;01mcore\u001b[39;00m \u001b[38;5;28;01mimport\u001b[39;00m config\n\u001b[1;32m     70\u001b[0m \u001b[38;5;28;01mfrom\u001b[39;00m \u001b[38;5;21;01mnumba\u001b[39;00m\u001b[38;5;21;01m.\u001b[39;00m\u001b[38;5;21;01mcore\u001b[39;00m \u001b[38;5;28;01mimport\u001b[39;00m types, errors\n\u001b[1;32m     72\u001b[0m \u001b[38;5;66;03m# Re-export typeof\u001b[39;00m\n",
      "File \u001b[0;32m/pfs/lustrep2/scratch/project_465000445/kalvik/master_kalvik/lib/python3.9/site-packages/numba/core/config.py:10\u001b[0m\n\u001b[1;32m      8\u001b[0m \u001b[38;5;66;03m# YAML needed to use file based Numba config\u001b[39;00m\n\u001b[1;32m      9\u001b[0m \u001b[38;5;28;01mtry\u001b[39;00m:\n\u001b[0;32m---> 10\u001b[0m     \u001b[38;5;28;01mimport\u001b[39;00m \u001b[38;5;21;01myaml\u001b[39;00m\n\u001b[1;32m     11\u001b[0m     _HAVE_YAML \u001b[38;5;241m=\u001b[39m \u001b[38;5;28;01mTrue\u001b[39;00m\n\u001b[1;32m     12\u001b[0m \u001b[38;5;28;01mexcept\u001b[39;00m \u001b[38;5;167;01mImportError\u001b[39;00m:\n",
      "File \u001b[0;32m/pfs/lustrep2/scratch/project_465000445/kalvik/master_kalvik/lib/python3.9/site-packages/yaml/__init__.py:6\u001b[0m\n\u001b[1;32m      4\u001b[0m \u001b[38;5;28;01mfrom\u001b[39;00m \u001b[38;5;21;01m.\u001b[39;00m\u001b[38;5;21;01mtokens\u001b[39;00m \u001b[38;5;28;01mimport\u001b[39;00m \u001b[38;5;241m*\u001b[39m\n\u001b[1;32m      5\u001b[0m \u001b[38;5;28;01mfrom\u001b[39;00m \u001b[38;5;21;01m.\u001b[39;00m\u001b[38;5;21;01mevents\u001b[39;00m \u001b[38;5;28;01mimport\u001b[39;00m \u001b[38;5;241m*\u001b[39m\n\u001b[0;32m----> 6\u001b[0m \u001b[38;5;28;01mfrom\u001b[39;00m \u001b[38;5;21;01m.\u001b[39;00m\u001b[38;5;21;01mnodes\u001b[39;00m \u001b[38;5;28;01mimport\u001b[39;00m \u001b[38;5;241m*\u001b[39m\n\u001b[1;32m      8\u001b[0m \u001b[38;5;28;01mfrom\u001b[39;00m \u001b[38;5;21;01m.\u001b[39;00m\u001b[38;5;21;01mloader\u001b[39;00m \u001b[38;5;28;01mimport\u001b[39;00m \u001b[38;5;241m*\u001b[39m\n\u001b[1;32m      9\u001b[0m \u001b[38;5;28;01mfrom\u001b[39;00m \u001b[38;5;21;01m.\u001b[39;00m\u001b[38;5;21;01mdumper\u001b[39;00m \u001b[38;5;28;01mimport\u001b[39;00m \u001b[38;5;241m*\u001b[39m\n",
      "File \u001b[0;32m<frozen importlib._bootstrap>:1007\u001b[0m, in \u001b[0;36m_find_and_load\u001b[0;34m(name, import_)\u001b[0m\n",
      "File \u001b[0;32m<frozen importlib._bootstrap>:986\u001b[0m, in \u001b[0;36m_find_and_load_unlocked\u001b[0;34m(name, import_)\u001b[0m\n",
      "File \u001b[0;32m<frozen importlib._bootstrap>:680\u001b[0m, in \u001b[0;36m_load_unlocked\u001b[0;34m(spec)\u001b[0m\n",
      "File \u001b[0;32m<frozen importlib._bootstrap_external>:846\u001b[0m, in \u001b[0;36mexec_module\u001b[0;34m(self, module)\u001b[0m\n",
      "File \u001b[0;32m<frozen importlib._bootstrap_external>:941\u001b[0m, in \u001b[0;36mget_code\u001b[0;34m(self, fullname)\u001b[0m\n",
      "File \u001b[0;32m<frozen importlib._bootstrap_external>:1040\u001b[0m, in \u001b[0;36mget_data\u001b[0;34m(self, path)\u001b[0m\n",
      "\u001b[0;31mKeyboardInterrupt\u001b[0m: "
     ]
    }
   ],
   "source": [
    "import sys\n",
    "sys.path.append('../')\n",
    "from abel import *\n",
    "import numpy as np"
   ]
  },
  {
   "cell_type": "markdown",
   "id": "92996b82-518c-4e23-bf59-56b55f4021f4",
   "metadata": {},
   "source": [
    "### Define the linac and beams"
   ]
  },
  {
   "cell_type": "code",
   "execution_count": null,
   "id": "392dc163-469e-4a0e-b98a-376a5d6eef02",
   "metadata": {},
   "outputs": [],
   "source": [
    "# define driver\n",
    "driver = SourceBasic()\n",
    "driver.charge = -2.7e10 * SI.e # [C]\n",
    "driver.energy = 31.25e9 # [eV]\n",
    "driver.rel_energy_spread = 0.01\n",
    "driver.bunch_length = 42e-6 # [m]\n",
    "driver.z_offset = 300e-6 # [m]\n",
    "driver.emit_nx, driver.emit_ny = 10e-6, 10e-6 # [m rad]\n",
    "driver.beta_x, driver.beta_y = 30e-3, 30e-3 # [m]\n",
    "driver.num_particles = 10000\n",
    "driver.jitter.x = 0e-9 # [m]\n",
    "driver.jitter.y = 0e-9 # [m]\n",
    "\n",
    "# define stage\n",
    "stage = StageQuasistatic2dRadiationReaction()\n",
    "stage.driver_source = driver\n",
    "stage.nom_energy_gain = 31.9e9 # [eV]\n",
    "stage.length = 5 # [m]\n",
    "stage.plasma_density = 7e21 # [m^-3]\n",
    "stage.ramp_beta_mag = 5\n",
    "stage.enable_rr = True\n",
    "\n",
    "\n",
    "# define first stage (half length)\n",
    "first_stage = StageQuasistatic2dRadiationReaction()\n",
    "first_stage.driver_source = stage.driver_source\n",
    "first_stage.nom_energy_gain = stage.nom_energy_gain/2\n",
    "first_stage.length = stage.length/2\n",
    "first_stage.plasma_density = stage.plasma_density\n",
    "first_stage.ramp_beta_mag = stage.ramp_beta_mag\n",
    "first_stage.enable_rr = stage.enable_rr\n",
    "\n",
    "# define beam\n",
    "source = SourceBasic()\n",
    "source.charge = -1e10 * SI.e # [C]\n",
    "source.energy = 5e9 # [eV]\n",
    "source.rel_energy_spread = 0.01\n",
    "source.bunch_length = 18e-6 # [m]\n",
    "source.z_offset = -34e-6 # [m]\n",
    "source.emit_nx, source.emit_ny = 160e-6, 0.56e-6 # [m rad]\n",
    "source.beta_x = stage.matched_beta_function(source.energy)\n",
    "source.beta_y = source.beta_x\n",
    "source.num_particles = 5000\n",
    "source.jitter.t = driver.jitter.t\n",
    "\n",
    "# define interstage\n",
    "interstage = InterstageBasic()\n",
    "interstage.beta0 = lambda E: stage.matched_beta_function(E)\n",
    "interstage.dipole_length = lambda E: 1 * np.sqrt(E/10e9) # [m(eV)]\n",
    "interstage.dipole_field = 1.0 # [T]\n",
    "\n",
    "# beam delivery system\n",
    "bds = BeamDeliverySystemBasic()\n",
    "bds.beta_x, bds.beta_y = 8e-3, 0.4e-3 # [m]\n",
    "bds.bunch_length = 0.75 * bds.beta_y\n",
    "\n",
    "# define linac\n",
    "linac = Linac()\n",
    "linac.source = source\n",
    "linac.stage = stage\n",
    "linac.first_stage = first_stage\n",
    "linac.interstage = interstage\n",
    "linac.num_stages = 16"
   ]
  },
  {
   "cell_type": "markdown",
   "id": "7c58144f-67e5-4047-b8e1-3cac91160274",
   "metadata": {},
   "source": [
    "### Run simulation scan"
   ]
  },
  {
   "cell_type": "code",
   "execution_count": null,
   "id": "be147202-d55f-4d20-8f39-dabc5b536e3c",
   "metadata": {},
   "outputs": [],
   "source": [
    "# scan the driver timing jitter\n",
    "linac.scan('scan_example_RR_320', \n",
    "           lambda obj, val: setattr(obj.source, 'emit_nx', val) or obj, \n",
    "           1e-6*np.array([10, 20, 40, 80, 160, 320]),\n",
    "           label='Initial normalized emittance in x (mm mrad)',\n",
    "           scale=1e-6,\n",
    "           num_shots_per_step=1, \n",
    "           parallel=True,\n",
    "           overwrite=False);"
   ]
  },
  {
   "cell_type": "markdown",
   "id": "c322d288-d340-42a6-afae-6be5c9088c7a",
   "metadata": {},
   "source": [
    "### Plot wakefield"
   ]
  },
  {
   "cell_type": "code",
   "execution_count": null,
   "id": "e00de532-468b-4b50-a80b-69c4f8e23559",
   "metadata": {},
   "outputs": [],
   "source": [
    "linac.stages[0].plot_wakefield()"
   ]
  },
  {
   "cell_type": "markdown",
   "id": "a2491235-f76d-4482-8f78-127583a221c6",
   "metadata": {},
   "source": [
    "### Plot scan"
   ]
  },
  {
   "cell_type": "code",
   "execution_count": null,
   "id": "0ccfc534-019b-49db-8f7c-14ab57dc6f8d",
   "metadata": {},
   "outputs": [],
   "source": [
    "# plot energy spread vs bunch length\n",
    "fig_1, ax1 = linac.plot_beam_function(Beam.charge, label='Charge (nC)', scale=-1e-9, xscale='linear', yscale='linear')\n",
    "fig_2, ax2 = linac.plot_beam_function(Beam.energy, label='Energy (GeV)', scale=1e9, xscale='linear', yscale='linear')\n",
    "fig_3, ax3 = linac.plot_beam_function(Beam.rel_energy_spread, label='Energy spread (%)', scale=1e-2, xscale='linear')\n",
    "fig_4, ax4 = linac.plot_beam_function(Beam.norm_emittance_x, label='Norm. emittance, x (mm mrad)', scale=1e-6, xscale='linear')\n",
    "fig_5, ax5 = linac.plot_beam_function(Beam.norm_emittance_y, label='Norm. emittance, y (mm mrad)', scale=1e-6, xscale='linear')\n",
    "x = np.linspace(0,320,2)\n",
    "ax4.plot(x,x, label = 'Final = initial')\n",
    "ax4.legend()\n",
    "\n",
    "emittance_y_RR = np.zeros(6)\n",
    "E_spread_RR = np.zeros(6)\n",
    "for i in range(6):\n",
    "    E_spread_RR[i] = linac[i].get_beam(-1).rel_energy_spread()*1e2\n",
    "    "
   ]
  },
  {
   "cell_type": "code",
   "execution_count": null,
   "id": "fc99aa31-16c2-4ac8-8ac7-8c6e9effaa66",
   "metadata": {},
   "outputs": [],
   "source": [
    "plots = np.array(['charge', 'energy', 'energy_spread', \\\n",
    "                       'emittance_x', 'emittance_y'])\n",
    "figs = [fig_1, fig_2, fig_3, fig_4, fig_5]\n",
    "for pl, f in zip(plots,figs):\n",
    "    f.savefig(fname = f'Linac_emittance_scan_{pl}_RR_320.png')"
   ]
  },
  {
   "cell_type": "code",
   "execution_count": null,
   "id": "ad83ec09-e900-4193-840a-ac8333a270ff",
   "metadata": {},
   "outputs": [],
   "source": [
    "#for i in range(6):\n",
    "#    linac[i].animate_lps(file_name=f'emittance_{10*2**i}_RR')"
   ]
  },
  {
   "cell_type": "code",
   "execution_count": null,
   "id": "d523737f-4fd1-48a9-8068-15e94daa1630",
   "metadata": {},
   "outputs": [],
   "source": [
    "# define driver\n",
    "driver = SourceBasic()\n",
    "driver.charge = -2.7e10 * SI.e # [C]\n",
    "driver.energy = 31.25e9 # [eV]\n",
    "driver.rel_energy_spread = 0.01\n",
    "driver.bunch_length = 42e-6 # [m]\n",
    "driver.z_offset = 300e-6 # [m]\n",
    "driver.emit_nx, driver.emit_ny = 10e-6, 10e-6 # [m rad]\n",
    "driver.beta_x, driver.beta_y = 30e-3, 30e-3 # [m]\n",
    "driver.num_particles = 10000\n",
    "driver.jitter.x = 0e-9 # [m]\n",
    "driver.jitter.y = 0e-9 # [m]\n",
    "\n",
    "# define stage\n",
    "stage = StageQuasistatic2dRadiationReaction()\n",
    "stage.driver_source = driver\n",
    "stage.nom_energy_gain = 31.9e9 # [eV]\n",
    "stage.length = 5 # [m]\n",
    "stage.plasma_density = 7e21 # [m^-3]\n",
    "stage.ramp_beta_mag = 5\n",
    "stage.enable_rr = False\n",
    "\n",
    "\n",
    "# define first stage (half length)\n",
    "first_stage = StageQuasistatic2dRadiationReaction()\n",
    "first_stage.driver_source = stage.driver_source\n",
    "first_stage.nom_energy_gain = stage.nom_energy_gain/2\n",
    "first_stage.length = stage.length/2\n",
    "first_stage.plasma_density = stage.plasma_density\n",
    "first_stage.ramp_beta_mag = stage.ramp_beta_mag\n",
    "first_stage.enable_rr = stage.enable_rr\n",
    "\n",
    "# define beam\n",
    "source = SourceBasic()\n",
    "source.charge = -1e10 * SI.e # [C]\n",
    "source.energy = 5e9 # [eV]\n",
    "source.rel_energy_spread = 0.01\n",
    "source.bunch_length = 18e-6 # [m]\n",
    "source.z_offset = -34e-6 # [m]\n",
    "source.emit_nx, source.emit_ny = 160e-6, 0.56e-6 # [m rad]\n",
    "source.beta_x = stage.matched_beta_function(source.energy)\n",
    "source.beta_y = source.beta_x\n",
    "source.num_particles = 5000\n",
    "source.jitter.t = driver.jitter.t\n",
    "\n",
    "# define interstage\n",
    "interstage = InterstageBasic()\n",
    "interstage.beta0 = lambda E: stage.matched_beta_function(E)\n",
    "interstage.dipole_length = lambda E: 1 * np.sqrt(E/10e9) # [m(eV)]\n",
    "interstage.dipole_field = 1.0 # [T]\n",
    "\n",
    "# beam delivery system\n",
    "bds = BeamDeliverySystemBasic()\n",
    "bds.beta_x, bds.beta_y = 8e-3, 0.4e-3 # [m]\n",
    "bds.bunch_length = 0.75 * bds.beta_y\n",
    "\n",
    "# define linac\n",
    "linac = Linac()\n",
    "linac.source = source\n",
    "linac.stage = stage\n",
    "linac.first_stage = first_stage\n",
    "linac.interstage = interstage\n",
    "linac.num_stages = 16"
   ]
  },
  {
   "cell_type": "code",
   "execution_count": null,
   "id": "55125447-e9ac-447d-a5f1-63d66b4ebf61",
   "metadata": {},
   "outputs": [],
   "source": [
    "linac.scan('scan_example_RR_disabled_320', \n",
    "           lambda obj, val: setattr(obj.source, 'emit_nx', val) or obj, \n",
    "           1e-6*np.array([10, 20, 40, 80, 160, 320]),\n",
    "           label='Initial normalized emittance in x (mm mrad)',\n",
    "           scale=1e-6,\n",
    "           num_shots_per_step=1, \n",
    "           parallel=True,\n",
    "           overwrite=False);"
   ]
  },
  {
   "cell_type": "code",
   "execution_count": null,
   "id": "549d38e7-53ca-43b7-9da7-40665ef3f1c6",
   "metadata": {},
   "outputs": [],
   "source": [
    "# plot energy spread vs bunch length\n",
    "fig_1_noRR, ax1_noRR = linac.plot_beam_function(Beam.charge, label='Charge (nC)', scale=-1e-9, xscale='linear', yscale='linear')\n",
    "fig_2_noRR, ax2_noRR = linac.plot_beam_function(Beam.energy, label='Energy (GeV)', scale=1e9, xscale='linear', yscale='linear')\n",
    "fig_3_noRR, ax3_noRR = linac.plot_beam_function(Beam.rel_energy_spread, label='Energy spread (%)', scale=1e-2, xscale='linear')\n",
    "fig_4_noRR, ax4_noRR = linac.plot_beam_function(Beam.norm_emittance_x, label='Norm. emittance, x (mm mrad)', scale=1e-6, xscale='linear')\n",
    "fig_5_noRR, ax5_noRR = linac.plot_beam_function(Beam.norm_emittance_y, label='Norm. emittance, y (mm mrad)', scale=1e-6, xscale='linear')\n",
    "fig_3_noRR.savefig('Linac_emittance_scan_energy_spread_RR_disabled_320.png')\n",
    "\n",
    "emittance_y = np.zeros(6)\n",
    "E_spread = np.zeros(6)\n",
    "for i in range(6):\n",
    "    E_spread[i] = linac[i].get_beam(-1).rel_energy_spread()*1e2\n",
    "    "
   ]
  },
  {
   "cell_type": "code",
   "execution_count": null,
   "id": "2da36a9a-a461-44ca-979c-98a2f60a1378",
   "metadata": {},
   "outputs": [],
   "source": [
    "#x = np.linspace(0,320,2)\n",
    "x_ = np.array([10,20,40,80,160,320])\n",
    "fig, ax = plt.subplots()\n",
    "ax.plot(x_, E_spread, label = 'No RR')\n",
    "#ax.plot(x,x, label = 'Final = Initial')\n",
    "ax.plot(x_,E_spread_RR, label = 'RR')\n",
    "ax.set_xlabel('Initial norm. emittance, x (mm mrad)')\n",
    "ax.set_ylabel('Energy spread (%)')\n",
    "ax.legend()\n",
    "fig.savefig(fname = f'Linac_emittance_scan_RR_and_no_RR_320_energy_spread.png')"
   ]
  },
  {
   "cell_type": "code",
   "execution_count": null,
   "id": "d52f8c87-271b-4a7b-bbab-44c731e54334",
   "metadata": {},
   "outputs": [],
   "source": []
  }
 ],
 "metadata": {
  "kernelspec": {
   "display_name": "Python 3 (ipykernel)",
   "language": "python",
   "name": "python3"
  },
  "language_info": {
   "codemirror_mode": {
    "name": "ipython",
    "version": 3
   },
   "file_extension": ".py",
   "mimetype": "text/x-python",
   "name": "python",
   "nbconvert_exporter": "python",
   "pygments_lexer": "ipython3",
   "version": "3.9.12"
  }
 },
 "nbformat": 4,
 "nbformat_minor": 5
}
