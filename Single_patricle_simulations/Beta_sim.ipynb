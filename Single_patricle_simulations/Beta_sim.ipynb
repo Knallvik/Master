{
 "cells": [
  {
   "cell_type": "code",
   "execution_count": 1,
   "id": "cfff0ff0-99c0-4729-9eb3-c3af3661e669",
   "metadata": {},
   "outputs": [],
   "source": [
    "import scipy.constants as SI\n",
    "import numpy as np\n",
    "import matplotlib.pyplot as plt\n",
    "from scipy.integrate import solve_ivp\n",
    "\n",
    "%load_ext autoreload\n",
    "%autoreload 2"
   ]
  },
  {
   "cell_type": "code",
   "execution_count": 2,
   "id": "565e1a13-4fee-4455-b871-8c39c18b617b",
   "metadata": {},
   "outputs": [],
   "source": [
    "#SI.constants\n",
    "Energy = 470\n",
    "Ee = Energy * 1e9*SI.e\n",
    "e = SI.e\n",
    "me = SI.m_e\n",
    "re = SI.physical_constants['classical electron radius'][0]\n",
    "\n",
    "#Plasma parameters\n",
    "n0 = 2e21 #m⁻³\n",
    "L_plasma = 11 #m\n",
    "\n",
    "wp = np.sqrt(n0*e**2/me/SI.epsilon_0)\n",
    "kp = wp/SI.c\n",
    "E0 = me*SI.c*wp/e\n",
    "Ez = 3.2e9 #V/m\n",
    "tau_r = 2*re/3/SI.c\n",
    "\n",
    "K = kp/ np.sqrt(2)\n",
    "A = tau_r * SI.c**2 * K**2\n",
    "B = SI.c**2 * K**2\n",
    "C = wp*Ez/E0\n",
    "D = tau_r * SI.c**2 * K**4\n",
    "\n",
    "#Initial gamma\n",
    "gamma0 = Ee/me/(SI.c**2)\n",
    "\n",
    "#Beam parameters\n",
    "beta_matched = np.sqrt(2*gamma0)/kp\n",
    "lambda_beta = 2*np.pi*beta_matched\n",
    "\n",
    "k_beta = 2*np.pi/lambda_beta\n",
    "emittance_norm = 10e-6 # m rad\n",
    "\n",
    "sig_x = np.sqrt(beta_matched*emittance_norm/gamma0)\n",
    "\n",
    "sig_xp = np.sqrt(1/beta_matched * emittance_norm/gamma0)\n",
    "z0 = 0 # m\n",
    "#For saving figures\n",
    "actual = 'actual'\n",
    "directory = f'd_gamma_{actual}_500GeV/'\n",
    "save = False"
   ]
  },
  {
   "cell_type": "code",
   "execution_count": 3,
   "id": "385c5139-f17a-410d-bcf3-a5d649ef29a8",
   "metadata": {},
   "outputs": [],
   "source": [
    "T = L_plasma/SI.c\n",
    "n_per_beta = 150000\n",
    "n = round(L_plasma/lambda_beta * n_per_beta)\n",
    "t, dt = np.linspace(0,T,n, retstep = True)\n",
    "t_span = (0,T)\n",
    "\n",
    "def d_gamma(x, y, gamma):\n",
    "    return C - D*gamma**2*(x**2 + y**2)\n",
    "\n",
    "def ddx(x, y, gamma):\n",
    "    # x = [x,vx], same for y\n",
    "    return -(C/gamma + A)*x[1] - B/gamma*x[0], -(C/gamma + A)*y[1] - B/gamma*y[0]\n",
    "    \n",
    "\n",
    "def oscillator2d(t, x):\n",
    "    # x= [x,v_x, y, vy, gamma, z ,v_z]\n",
    "    x_, vx_, y_, vy_, gamma_, z_, vz_ = x\n",
    "    \n",
    "    a_x = -(C/gamma_ + A)*vx_ - B/gamma_*x_\n",
    "    a_y = -(C/gamma_ + A)*vy_ - B/gamma_*y_\n",
    "    \n",
    "    d_gamma = C - D*gamma_**2*(x_**2 + y_**2)\n",
    "    \n",
    "    v_z = np.sqrt(SI.c**2 - vx_**2 -vy_**2)\n",
    "    a_z = 0\n",
    "\n",
    "    #Set energy gain to energy loss\n",
    "    #d_gamma = analytic_larmor(t, gamma_, rx, ry, phi, delta)/me/SI.c**2\n",
    "    #d_gamma = 0\n",
    "    return np.array([vx_, a_x, vy_, a_y, d_gamma, v_z, a_z])\n",
    "\n",
    "def av_radiated_power(delta, gamma, k_beta, rx, ry):\n",
    "    W = 1/SI.c * e**2/6/np.pi/SI.epsilon_0 * 1/SI.c**3 * ((gamma*k_beta*SI.c)**4 * \\\n",
    "        1/2 * (rx**2 + ry**2) + (gamma*k_beta)**6 * SI.c**4 * (1/4*rx**2 * ry**2 * np.cos(2*delta) + 1/8 * (rx**4 + ry**4)))\n",
    "    return W\n",
    "\n",
    "#Calculate the analytical mean energy loss\n",
    "def mean_larmor(gamma, rx, ry):\n",
    "    k_beta = kp/np.sqrt(2*gamma)\n",
    "    scale = np.power(gamma/gamma0, -1/4)\n",
    "    \n",
    "    return e**2*SI.c/12/np.pi/SI.epsilon_0*(gamma*k_beta)**4*\\\n",
    "    ((scale*rx)**2+(scale*ry)**2)\n",
    "\n",
    "#Calculate the analytical energy loss\n",
    "def analytic_larmor(t, gamma, rx, ry, phi, delta):\n",
    "    k_beta = kp/np.sqrt(2*gamma)\n",
    "    scale = np.power(gamma/gamma0, -1/4)\n",
    "    \n",
    "    return e**2*SI.c/6/np.pi/SI.epsilon_0*(gamma*k_beta)**4*\\\n",
    "    (np.cos(k_beta*SI.c*t + phi)**2*(scale*rx)**2\\\n",
    "     + np.cos(k_beta*SI.c*t + delta)**2*(scale*ry)**2)   "
   ]
  },
  {
   "cell_type": "code",
   "execution_count": 4,
   "id": "9b906312-1e07-44cd-8ab8-fbe2e0535070",
   "metadata": {},
   "outputs": [],
   "source": [
    "def plot_oscillations(func, sysinit, t_span, t_eval, rx, ry, phi, delta):\n",
    "    solution = solve_ivp(fun = func, y0 = sysinit, method='RK45', t_span = t_span, t_eval = t_eval)\n",
    "    #Extract solution values\n",
    "    x_ivp = solution.y[0,:]\n",
    "    vx_ivp = solution.y[1,:]\n",
    "    y_ivp = solution.y[2,:]\n",
    "    vy_ivp = solution.y[3,:]\n",
    "    \n",
    "    gamma_ivp = solution.y[4,:]\n",
    "    t_ivp = solution.t\n",
    "    z_ivp = solution.y[5,:]\n",
    "    vz_ivp = solution.y[6,:]\n",
    "    energy_ivp = gamma_ivp*me*SI.c**2\n",
    "    \n",
    "    #Vectors to store new calculated values\n",
    "    total_energy_change = np.zeros(n-1)\n",
    "    P = np.zeros(n-1) #Energy loss per meter\n",
    "    z = np.zeros(n-1)\n",
    "    energy_change = np.zeros(n-1)\n",
    "    energy_gain_per_m = np.zeros(n-1)\n",
    "    \n",
    "    for i in range(n-1):\n",
    "        #Calculate the acceleration from differences in velocities\n",
    "        ax = (vx_ivp[i+1] - vx_ivp[i])/dt\n",
    "        ay = (vy_ivp[i+1] - vy_ivp[i])/dt\n",
    "        az = (vz_ivp[i+1] - vz_ivp[i])/dt\n",
    "\n",
    "        #Calculate a new z_array to use for plots (acceleration has n-1 points)\n",
    "        z[i] = z_ivp[i]\n",
    "        \n",
    "        a = np.array([ax, ay, az])\n",
    "\n",
    "        #Calculate gamma⁴ * (dbeta/dt)²\n",
    "        A1 = gamma_ivp[i]**4 * 1/SI.c**2 * np.dot(a,a)\n",
    "        #Calculate energy radiated PER METER from actual larmor formula\n",
    "        P[i] = 1/SI.c * e**2/6/np.pi/SI.epsilon_0 * 1/SI.c * A1 # J*m⁻¹\n",
    "\n",
    "        #Calculate the actual energy-differences from the simulation\n",
    "        energy_gain_per_m[i] = 1/SI.c * wp*Ez/E0* SI.m_e*SI.c**2\n",
    "        total_energy_change[i] = 1/SI.c * (energy_ivp[i+1]-energy_ivp[i])/dt # J*m⁻¹\n",
    "        \n",
    "    #Calculate the analytical values\n",
    "    analytic_P = 1/SI.c * analytic_larmor(t_ivp, gamma_ivp, rx, ry, phi, delta)\n",
    "    mean_analytic_P = 1/SI.c * mean_larmor(gamma_ivp, rx, ry)\n",
    "    \n",
    "    #Plot\n",
    "    fig, ax = plt.subplots(3,2, figsize=(12,10))\n",
    "    fig.suptitle('Evolution of Beam Parameters')\n",
    "    # Plot x and y trajectories\n",
    "    ax[0,0].plot(z_ivp,x_ivp*1e6)\n",
    "    ax[0,0].grid()\n",
    "    ax[0,0].set_ylabel('x (um)')\n",
    "    ax[0,0].set_xlabel('s (m)')\n",
    "    \n",
    "    ax[0, 1].plot(z_ivp,y_ivp*1e6)\n",
    "    ax[0, 1].grid()\n",
    "    ax[0, 1].set_ylabel('y (um)')\n",
    "    ax[0, 1].set_xlabel('s (m)')\n",
    "\n",
    "    #Plot velocities\n",
    "    ax[1, 0].plot(z_ivp,vx_ivp, label = 'vx')\n",
    "    ax[1, 0].plot(z_ivp,vy_ivp, label = 'vy')\n",
    "    ax[1, 0].grid()\n",
    "    ax[1, 0].set_ylabel('Transverse Velocities (m/s)')\n",
    "    ax[1, 0].set_xlabel('s (m)')\n",
    "    ax[1, 0].legend()\n",
    "\n",
    "    #Plot calculated energy loss from larmor formula, and the \n",
    "    #analytical mean radiated power (per meter)\n",
    "    #ax[1, 1].plot(z,(energy_gain_per_m - total_energy_change)/e*1e-9, label = 'simulated')\n",
    "    ax[1, 1].plot(z,P/e*1e-9, label = 'Calculated From Coupled Equations')\n",
    "    ax[1, 1].plot(z_ivp, mean_analytic_P/e*1e-9, label = 'Analytical Mean Radiated Power')\n",
    "    ax[1, 1].grid()\n",
    "    ax[1, 1].set_ylabel('Radiated Power (GeV/m)')\n",
    "    ax[1, 1].set_xlabel('s (m)')\n",
    "    ax[1, 1].legend()\n",
    "\n",
    "    #Plot Energy evolution\n",
    "    ax[2, 0].plot(z_ivp, gamma_ivp*me*SI.c**2/e*1e-9, label = 'Energy')\n",
    "    #ax[2, 0].plot(z_ivp, Brutto_energy/e*1e-9, label = 'Brutto Energy Gain')\n",
    "    ax[2, 0].grid()\n",
    "    ax[2, 0].set_ylabel('Energy (GeV)')\n",
    "    ax[2, 0].set_xlabel('s (m)')\n",
    "    #ax[2, 0].legend()\n",
    "\n",
    "    #Plot analytical values for larmor formula and mean of the larmor formula\n",
    "    ax[2, 1].plot(z_ivp,analytic_P/e*1e-9, label = 'Simplified Larmor Formula')\n",
    "    ax[2, 1].scatter(z_ivp, mean_analytic_P/e*1e-9, label = 'Analytical ' \\\n",
    "    + 'Mean Radiated Power', marker = 'H', c ='tab:orange')\n",
    "    ax[2, 1].grid()\n",
    "    ax[2, 1].set_ylabel('Analytic Radiated Power (GeV/m)')\n",
    "    ax[2, 1].set_xlabel('s (m)')\n",
    "    ax[2, 1].legend()\n",
    "    return x_ivp, z_ivp, energy_ivp, fig, P, z"
   ]
  },
  {
   "cell_type": "code",
   "execution_count": null,
   "id": "9eefe175-4fdb-4a86-ab1e-e02bebd6282a",
   "metadata": {},
   "outputs": [
    {
     "name": "stderr",
     "output_type": "stream",
     "text": [
      "/pfs/lustrep2/scratch/project_465000445/kalvik/master_kalvik/lib/python3.9/site-packages/IPython/core/events.py:93: UserWarning: Creating legend with loc=\"best\" can be slow with large amounts of data.\n",
      "  func(*args, **kwargs)\n"
     ]
    },
    {
     "name": "stdout",
     "output_type": "stream",
     "text": [
      "Error in callback <function _draw_all_if_interactive at 0x7f6d567c6430> (for post_execute):\n"
     ]
    },
    {
     "ename": "KeyboardInterrupt",
     "evalue": "",
     "output_type": "error",
     "traceback": [
      "\u001b[0;31m---------------------------------------------------------------------------\u001b[0m",
      "\u001b[0;31mKeyboardInterrupt\u001b[0m                         Traceback (most recent call last)",
      "File \u001b[0;32m/pfs/lustrep2/scratch/project_465000445/kalvik/master_kalvik/lib/python3.9/site-packages/matplotlib/pyplot.py:120\u001b[0m, in \u001b[0;36m_draw_all_if_interactive\u001b[0;34m()\u001b[0m\n\u001b[1;32m    118\u001b[0m \u001b[38;5;28;01mdef\u001b[39;00m \u001b[38;5;21m_draw_all_if_interactive\u001b[39m():\n\u001b[1;32m    119\u001b[0m     \u001b[38;5;28;01mif\u001b[39;00m matplotlib\u001b[38;5;241m.\u001b[39mis_interactive():\n\u001b[0;32m--> 120\u001b[0m         \u001b[43mdraw_all\u001b[49m\u001b[43m(\u001b[49m\u001b[43m)\u001b[49m\n",
      "File \u001b[0;32m/pfs/lustrep2/scratch/project_465000445/kalvik/master_kalvik/lib/python3.9/site-packages/matplotlib/_pylab_helpers.py:132\u001b[0m, in \u001b[0;36mGcf.draw_all\u001b[0;34m(cls, force)\u001b[0m\n\u001b[1;32m    130\u001b[0m \u001b[38;5;28;01mfor\u001b[39;00m manager \u001b[38;5;129;01min\u001b[39;00m \u001b[38;5;28mcls\u001b[39m\u001b[38;5;241m.\u001b[39mget_all_fig_managers():\n\u001b[1;32m    131\u001b[0m     \u001b[38;5;28;01mif\u001b[39;00m force \u001b[38;5;129;01mor\u001b[39;00m manager\u001b[38;5;241m.\u001b[39mcanvas\u001b[38;5;241m.\u001b[39mfigure\u001b[38;5;241m.\u001b[39mstale:\n\u001b[0;32m--> 132\u001b[0m         \u001b[43mmanager\u001b[49m\u001b[38;5;241;43m.\u001b[39;49m\u001b[43mcanvas\u001b[49m\u001b[38;5;241;43m.\u001b[39;49m\u001b[43mdraw_idle\u001b[49m\u001b[43m(\u001b[49m\u001b[43m)\u001b[49m\n",
      "File \u001b[0;32m/pfs/lustrep2/scratch/project_465000445/kalvik/master_kalvik/lib/python3.9/site-packages/matplotlib/backend_bases.py:2082\u001b[0m, in \u001b[0;36mFigureCanvasBase.draw_idle\u001b[0;34m(self, *args, **kwargs)\u001b[0m\n\u001b[1;32m   2080\u001b[0m \u001b[38;5;28;01mif\u001b[39;00m \u001b[38;5;129;01mnot\u001b[39;00m \u001b[38;5;28mself\u001b[39m\u001b[38;5;241m.\u001b[39m_is_idle_drawing:\n\u001b[1;32m   2081\u001b[0m     \u001b[38;5;28;01mwith\u001b[39;00m \u001b[38;5;28mself\u001b[39m\u001b[38;5;241m.\u001b[39m_idle_draw_cntx():\n\u001b[0;32m-> 2082\u001b[0m         \u001b[38;5;28;43mself\u001b[39;49m\u001b[38;5;241;43m.\u001b[39;49m\u001b[43mdraw\u001b[49m\u001b[43m(\u001b[49m\u001b[38;5;241;43m*\u001b[39;49m\u001b[43margs\u001b[49m\u001b[43m,\u001b[49m\u001b[43m \u001b[49m\u001b[38;5;241;43m*\u001b[39;49m\u001b[38;5;241;43m*\u001b[39;49m\u001b[43mkwargs\u001b[49m\u001b[43m)\u001b[49m\n",
      "File \u001b[0;32m/pfs/lustrep2/scratch/project_465000445/kalvik/master_kalvik/lib/python3.9/site-packages/matplotlib/backends/backend_agg.py:400\u001b[0m, in \u001b[0;36mFigureCanvasAgg.draw\u001b[0;34m(self)\u001b[0m\n\u001b[1;32m    396\u001b[0m \u001b[38;5;66;03m# Acquire a lock on the shared font cache.\u001b[39;00m\n\u001b[1;32m    397\u001b[0m \u001b[38;5;28;01mwith\u001b[39;00m RendererAgg\u001b[38;5;241m.\u001b[39mlock, \\\n\u001b[1;32m    398\u001b[0m      (\u001b[38;5;28mself\u001b[39m\u001b[38;5;241m.\u001b[39mtoolbar\u001b[38;5;241m.\u001b[39m_wait_cursor_for_draw_cm() \u001b[38;5;28;01mif\u001b[39;00m \u001b[38;5;28mself\u001b[39m\u001b[38;5;241m.\u001b[39mtoolbar\n\u001b[1;32m    399\u001b[0m       \u001b[38;5;28;01melse\u001b[39;00m nullcontext()):\n\u001b[0;32m--> 400\u001b[0m     \u001b[38;5;28;43mself\u001b[39;49m\u001b[38;5;241;43m.\u001b[39;49m\u001b[43mfigure\u001b[49m\u001b[38;5;241;43m.\u001b[39;49m\u001b[43mdraw\u001b[49m\u001b[43m(\u001b[49m\u001b[38;5;28;43mself\u001b[39;49m\u001b[38;5;241;43m.\u001b[39;49m\u001b[43mrenderer\u001b[49m\u001b[43m)\u001b[49m\n\u001b[1;32m    401\u001b[0m     \u001b[38;5;66;03m# A GUI class may be need to update a window using this draw, so\u001b[39;00m\n\u001b[1;32m    402\u001b[0m     \u001b[38;5;66;03m# don't forget to call the superclass.\u001b[39;00m\n\u001b[1;32m    403\u001b[0m     \u001b[38;5;28msuper\u001b[39m()\u001b[38;5;241m.\u001b[39mdraw()\n",
      "File \u001b[0;32m/pfs/lustrep2/scratch/project_465000445/kalvik/master_kalvik/lib/python3.9/site-packages/matplotlib/artist.py:95\u001b[0m, in \u001b[0;36m_finalize_rasterization.<locals>.draw_wrapper\u001b[0;34m(artist, renderer, *args, **kwargs)\u001b[0m\n\u001b[1;32m     93\u001b[0m \u001b[38;5;129m@wraps\u001b[39m(draw)\n\u001b[1;32m     94\u001b[0m \u001b[38;5;28;01mdef\u001b[39;00m \u001b[38;5;21mdraw_wrapper\u001b[39m(artist, renderer, \u001b[38;5;241m*\u001b[39margs, \u001b[38;5;241m*\u001b[39m\u001b[38;5;241m*\u001b[39mkwargs):\n\u001b[0;32m---> 95\u001b[0m     result \u001b[38;5;241m=\u001b[39m \u001b[43mdraw\u001b[49m\u001b[43m(\u001b[49m\u001b[43martist\u001b[49m\u001b[43m,\u001b[49m\u001b[43m \u001b[49m\u001b[43mrenderer\u001b[49m\u001b[43m,\u001b[49m\u001b[43m \u001b[49m\u001b[38;5;241;43m*\u001b[39;49m\u001b[43margs\u001b[49m\u001b[43m,\u001b[49m\u001b[43m \u001b[49m\u001b[38;5;241;43m*\u001b[39;49m\u001b[38;5;241;43m*\u001b[39;49m\u001b[43mkwargs\u001b[49m\u001b[43m)\u001b[49m\n\u001b[1;32m     96\u001b[0m     \u001b[38;5;28;01mif\u001b[39;00m renderer\u001b[38;5;241m.\u001b[39m_rasterizing:\n\u001b[1;32m     97\u001b[0m         renderer\u001b[38;5;241m.\u001b[39mstop_rasterizing()\n",
      "File \u001b[0;32m/pfs/lustrep2/scratch/project_465000445/kalvik/master_kalvik/lib/python3.9/site-packages/matplotlib/artist.py:72\u001b[0m, in \u001b[0;36mallow_rasterization.<locals>.draw_wrapper\u001b[0;34m(artist, renderer)\u001b[0m\n\u001b[1;32m     69\u001b[0m     \u001b[38;5;28;01mif\u001b[39;00m artist\u001b[38;5;241m.\u001b[39mget_agg_filter() \u001b[38;5;129;01mis\u001b[39;00m \u001b[38;5;129;01mnot\u001b[39;00m \u001b[38;5;28;01mNone\u001b[39;00m:\n\u001b[1;32m     70\u001b[0m         renderer\u001b[38;5;241m.\u001b[39mstart_filter()\n\u001b[0;32m---> 72\u001b[0m     \u001b[38;5;28;01mreturn\u001b[39;00m \u001b[43mdraw\u001b[49m\u001b[43m(\u001b[49m\u001b[43martist\u001b[49m\u001b[43m,\u001b[49m\u001b[43m \u001b[49m\u001b[43mrenderer\u001b[49m\u001b[43m)\u001b[49m\n\u001b[1;32m     73\u001b[0m \u001b[38;5;28;01mfinally\u001b[39;00m:\n\u001b[1;32m     74\u001b[0m     \u001b[38;5;28;01mif\u001b[39;00m artist\u001b[38;5;241m.\u001b[39mget_agg_filter() \u001b[38;5;129;01mis\u001b[39;00m \u001b[38;5;129;01mnot\u001b[39;00m \u001b[38;5;28;01mNone\u001b[39;00m:\n",
      "File \u001b[0;32m/pfs/lustrep2/scratch/project_465000445/kalvik/master_kalvik/lib/python3.9/site-packages/matplotlib/figure.py:3175\u001b[0m, in \u001b[0;36mFigure.draw\u001b[0;34m(self, renderer)\u001b[0m\n\u001b[1;32m   3172\u001b[0m         \u001b[38;5;66;03m# ValueError can occur when resizing a window.\u001b[39;00m\n\u001b[1;32m   3174\u001b[0m \u001b[38;5;28mself\u001b[39m\u001b[38;5;241m.\u001b[39mpatch\u001b[38;5;241m.\u001b[39mdraw(renderer)\n\u001b[0;32m-> 3175\u001b[0m \u001b[43mmimage\u001b[49m\u001b[38;5;241;43m.\u001b[39;49m\u001b[43m_draw_list_compositing_images\u001b[49m\u001b[43m(\u001b[49m\n\u001b[1;32m   3176\u001b[0m \u001b[43m    \u001b[49m\u001b[43mrenderer\u001b[49m\u001b[43m,\u001b[49m\u001b[43m \u001b[49m\u001b[38;5;28;43mself\u001b[39;49m\u001b[43m,\u001b[49m\u001b[43m \u001b[49m\u001b[43martists\u001b[49m\u001b[43m,\u001b[49m\u001b[43m \u001b[49m\u001b[38;5;28;43mself\u001b[39;49m\u001b[38;5;241;43m.\u001b[39;49m\u001b[43msuppressComposite\u001b[49m\u001b[43m)\u001b[49m\n\u001b[1;32m   3178\u001b[0m \u001b[38;5;28;01mfor\u001b[39;00m sfig \u001b[38;5;129;01min\u001b[39;00m \u001b[38;5;28mself\u001b[39m\u001b[38;5;241m.\u001b[39msubfigs:\n\u001b[1;32m   3179\u001b[0m     sfig\u001b[38;5;241m.\u001b[39mdraw(renderer)\n",
      "File \u001b[0;32m/pfs/lustrep2/scratch/project_465000445/kalvik/master_kalvik/lib/python3.9/site-packages/matplotlib/image.py:131\u001b[0m, in \u001b[0;36m_draw_list_compositing_images\u001b[0;34m(renderer, parent, artists, suppress_composite)\u001b[0m\n\u001b[1;32m    129\u001b[0m \u001b[38;5;28;01mif\u001b[39;00m not_composite \u001b[38;5;129;01mor\u001b[39;00m \u001b[38;5;129;01mnot\u001b[39;00m has_images:\n\u001b[1;32m    130\u001b[0m     \u001b[38;5;28;01mfor\u001b[39;00m a \u001b[38;5;129;01min\u001b[39;00m artists:\n\u001b[0;32m--> 131\u001b[0m         \u001b[43ma\u001b[49m\u001b[38;5;241;43m.\u001b[39;49m\u001b[43mdraw\u001b[49m\u001b[43m(\u001b[49m\u001b[43mrenderer\u001b[49m\u001b[43m)\u001b[49m\n\u001b[1;32m    132\u001b[0m \u001b[38;5;28;01melse\u001b[39;00m:\n\u001b[1;32m    133\u001b[0m     \u001b[38;5;66;03m# Composite any adjacent images together\u001b[39;00m\n\u001b[1;32m    134\u001b[0m     image_group \u001b[38;5;241m=\u001b[39m []\n",
      "File \u001b[0;32m/pfs/lustrep2/scratch/project_465000445/kalvik/master_kalvik/lib/python3.9/site-packages/matplotlib/artist.py:72\u001b[0m, in \u001b[0;36mallow_rasterization.<locals>.draw_wrapper\u001b[0;34m(artist, renderer)\u001b[0m\n\u001b[1;32m     69\u001b[0m     \u001b[38;5;28;01mif\u001b[39;00m artist\u001b[38;5;241m.\u001b[39mget_agg_filter() \u001b[38;5;129;01mis\u001b[39;00m \u001b[38;5;129;01mnot\u001b[39;00m \u001b[38;5;28;01mNone\u001b[39;00m:\n\u001b[1;32m     70\u001b[0m         renderer\u001b[38;5;241m.\u001b[39mstart_filter()\n\u001b[0;32m---> 72\u001b[0m     \u001b[38;5;28;01mreturn\u001b[39;00m \u001b[43mdraw\u001b[49m\u001b[43m(\u001b[49m\u001b[43martist\u001b[49m\u001b[43m,\u001b[49m\u001b[43m \u001b[49m\u001b[43mrenderer\u001b[49m\u001b[43m)\u001b[49m\n\u001b[1;32m     73\u001b[0m \u001b[38;5;28;01mfinally\u001b[39;00m:\n\u001b[1;32m     74\u001b[0m     \u001b[38;5;28;01mif\u001b[39;00m artist\u001b[38;5;241m.\u001b[39mget_agg_filter() \u001b[38;5;129;01mis\u001b[39;00m \u001b[38;5;129;01mnot\u001b[39;00m \u001b[38;5;28;01mNone\u001b[39;00m:\n",
      "File \u001b[0;32m/pfs/lustrep2/scratch/project_465000445/kalvik/master_kalvik/lib/python3.9/site-packages/matplotlib/axes/_base.py:3064\u001b[0m, in \u001b[0;36m_AxesBase.draw\u001b[0;34m(self, renderer)\u001b[0m\n\u001b[1;32m   3061\u001b[0m \u001b[38;5;28;01mif\u001b[39;00m artists_rasterized:\n\u001b[1;32m   3062\u001b[0m     _draw_rasterized(\u001b[38;5;28mself\u001b[39m\u001b[38;5;241m.\u001b[39mfigure, artists_rasterized, renderer)\n\u001b[0;32m-> 3064\u001b[0m \u001b[43mmimage\u001b[49m\u001b[38;5;241;43m.\u001b[39;49m\u001b[43m_draw_list_compositing_images\u001b[49m\u001b[43m(\u001b[49m\n\u001b[1;32m   3065\u001b[0m \u001b[43m    \u001b[49m\u001b[43mrenderer\u001b[49m\u001b[43m,\u001b[49m\u001b[43m \u001b[49m\u001b[38;5;28;43mself\u001b[39;49m\u001b[43m,\u001b[49m\u001b[43m \u001b[49m\u001b[43martists\u001b[49m\u001b[43m,\u001b[49m\u001b[43m \u001b[49m\u001b[38;5;28;43mself\u001b[39;49m\u001b[38;5;241;43m.\u001b[39;49m\u001b[43mfigure\u001b[49m\u001b[38;5;241;43m.\u001b[39;49m\u001b[43msuppressComposite\u001b[49m\u001b[43m)\u001b[49m\n\u001b[1;32m   3067\u001b[0m renderer\u001b[38;5;241m.\u001b[39mclose_group(\u001b[38;5;124m'\u001b[39m\u001b[38;5;124maxes\u001b[39m\u001b[38;5;124m'\u001b[39m)\n\u001b[1;32m   3068\u001b[0m \u001b[38;5;28mself\u001b[39m\u001b[38;5;241m.\u001b[39mstale \u001b[38;5;241m=\u001b[39m \u001b[38;5;28;01mFalse\u001b[39;00m\n",
      "File \u001b[0;32m/pfs/lustrep2/scratch/project_465000445/kalvik/master_kalvik/lib/python3.9/site-packages/matplotlib/image.py:131\u001b[0m, in \u001b[0;36m_draw_list_compositing_images\u001b[0;34m(renderer, parent, artists, suppress_composite)\u001b[0m\n\u001b[1;32m    129\u001b[0m \u001b[38;5;28;01mif\u001b[39;00m not_composite \u001b[38;5;129;01mor\u001b[39;00m \u001b[38;5;129;01mnot\u001b[39;00m has_images:\n\u001b[1;32m    130\u001b[0m     \u001b[38;5;28;01mfor\u001b[39;00m a \u001b[38;5;129;01min\u001b[39;00m artists:\n\u001b[0;32m--> 131\u001b[0m         \u001b[43ma\u001b[49m\u001b[38;5;241;43m.\u001b[39;49m\u001b[43mdraw\u001b[49m\u001b[43m(\u001b[49m\u001b[43mrenderer\u001b[49m\u001b[43m)\u001b[49m\n\u001b[1;32m    132\u001b[0m \u001b[38;5;28;01melse\u001b[39;00m:\n\u001b[1;32m    133\u001b[0m     \u001b[38;5;66;03m# Composite any adjacent images together\u001b[39;00m\n\u001b[1;32m    134\u001b[0m     image_group \u001b[38;5;241m=\u001b[39m []\n",
      "File \u001b[0;32m/pfs/lustrep2/scratch/project_465000445/kalvik/master_kalvik/lib/python3.9/site-packages/matplotlib/artist.py:72\u001b[0m, in \u001b[0;36mallow_rasterization.<locals>.draw_wrapper\u001b[0;34m(artist, renderer)\u001b[0m\n\u001b[1;32m     69\u001b[0m     \u001b[38;5;28;01mif\u001b[39;00m artist\u001b[38;5;241m.\u001b[39mget_agg_filter() \u001b[38;5;129;01mis\u001b[39;00m \u001b[38;5;129;01mnot\u001b[39;00m \u001b[38;5;28;01mNone\u001b[39;00m:\n\u001b[1;32m     70\u001b[0m         renderer\u001b[38;5;241m.\u001b[39mstart_filter()\n\u001b[0;32m---> 72\u001b[0m     \u001b[38;5;28;01mreturn\u001b[39;00m \u001b[43mdraw\u001b[49m\u001b[43m(\u001b[49m\u001b[43martist\u001b[49m\u001b[43m,\u001b[49m\u001b[43m \u001b[49m\u001b[43mrenderer\u001b[49m\u001b[43m)\u001b[49m\n\u001b[1;32m     73\u001b[0m \u001b[38;5;28;01mfinally\u001b[39;00m:\n\u001b[1;32m     74\u001b[0m     \u001b[38;5;28;01mif\u001b[39;00m artist\u001b[38;5;241m.\u001b[39mget_agg_filter() \u001b[38;5;129;01mis\u001b[39;00m \u001b[38;5;129;01mnot\u001b[39;00m \u001b[38;5;28;01mNone\u001b[39;00m:\n",
      "File \u001b[0;32m/pfs/lustrep2/scratch/project_465000445/kalvik/master_kalvik/lib/python3.9/site-packages/matplotlib/legend.py:726\u001b[0m, in \u001b[0;36mLegend.draw\u001b[0;34m(self, renderer)\u001b[0m\n\u001b[1;32m    722\u001b[0m     \u001b[38;5;28mself\u001b[39m\u001b[38;5;241m.\u001b[39m_legend_box\u001b[38;5;241m.\u001b[39mset_width(\u001b[38;5;28mself\u001b[39m\u001b[38;5;241m.\u001b[39mget_bbox_to_anchor()\u001b[38;5;241m.\u001b[39mwidth \u001b[38;5;241m-\u001b[39m pad)\n\u001b[1;32m    724\u001b[0m \u001b[38;5;66;03m# update the location and size of the legend. This needs to\u001b[39;00m\n\u001b[1;32m    725\u001b[0m \u001b[38;5;66;03m# be done in any case to clip the figure right.\u001b[39;00m\n\u001b[0;32m--> 726\u001b[0m bbox \u001b[38;5;241m=\u001b[39m \u001b[38;5;28;43mself\u001b[39;49m\u001b[38;5;241;43m.\u001b[39;49m\u001b[43m_legend_box\u001b[49m\u001b[38;5;241;43m.\u001b[39;49m\u001b[43mget_window_extent\u001b[49m\u001b[43m(\u001b[49m\u001b[43mrenderer\u001b[49m\u001b[43m)\u001b[49m\n\u001b[1;32m    727\u001b[0m \u001b[38;5;28mself\u001b[39m\u001b[38;5;241m.\u001b[39mlegendPatch\u001b[38;5;241m.\u001b[39mset_bounds(bbox\u001b[38;5;241m.\u001b[39mbounds)\n\u001b[1;32m    728\u001b[0m \u001b[38;5;28mself\u001b[39m\u001b[38;5;241m.\u001b[39mlegendPatch\u001b[38;5;241m.\u001b[39mset_mutation_scale(fontsize)\n",
      "File \u001b[0;32m/pfs/lustrep2/scratch/project_465000445/kalvik/master_kalvik/lib/python3.9/site-packages/matplotlib/offsetbox.py:402\u001b[0m, in \u001b[0;36mOffsetBox.get_window_extent\u001b[0;34m(self, renderer)\u001b[0m\n\u001b[1;32m    400\u001b[0m bbox \u001b[38;5;241m=\u001b[39m \u001b[38;5;28mself\u001b[39m\u001b[38;5;241m.\u001b[39mget_bbox(renderer)\n\u001b[1;32m    401\u001b[0m \u001b[38;5;28;01mtry\u001b[39;00m:  \u001b[38;5;66;03m# Some subclasses redefine get_offset to take no args.\u001b[39;00m\n\u001b[0;32m--> 402\u001b[0m     px, py \u001b[38;5;241m=\u001b[39m \u001b[38;5;28;43mself\u001b[39;49m\u001b[38;5;241;43m.\u001b[39;49m\u001b[43mget_offset\u001b[49m\u001b[43m(\u001b[49m\u001b[43mbbox\u001b[49m\u001b[43m,\u001b[49m\u001b[43m \u001b[49m\u001b[43mrenderer\u001b[49m\u001b[43m)\u001b[49m\n\u001b[1;32m    403\u001b[0m \u001b[38;5;28;01mexcept\u001b[39;00m \u001b[38;5;167;01mTypeError\u001b[39;00m:\n\u001b[1;32m    404\u001b[0m     px, py \u001b[38;5;241m=\u001b[39m \u001b[38;5;28mself\u001b[39m\u001b[38;5;241m.\u001b[39mget_offset()\n",
      "File \u001b[0;32m/pfs/lustrep2/scratch/project_465000445/kalvik/master_kalvik/lib/python3.9/site-packages/matplotlib/offsetbox.py:60\u001b[0m, in \u001b[0;36m_compat_get_offset.<locals>.get_offset\u001b[0;34m(self, *args, **kwargs)\u001b[0m\n\u001b[1;32m     56\u001b[0m params \u001b[38;5;241m=\u001b[39m _api\u001b[38;5;241m.\u001b[39mselect_matching_signature(sigs, \u001b[38;5;28mself\u001b[39m, \u001b[38;5;241m*\u001b[39margs, \u001b[38;5;241m*\u001b[39m\u001b[38;5;241m*\u001b[39mkwargs)\n\u001b[1;32m     57\u001b[0m bbox \u001b[38;5;241m=\u001b[39m (params[\u001b[38;5;124m\"\u001b[39m\u001b[38;5;124mbbox\u001b[39m\u001b[38;5;124m\"\u001b[39m] \u001b[38;5;28;01mif\u001b[39;00m \u001b[38;5;124m\"\u001b[39m\u001b[38;5;124mbbox\u001b[39m\u001b[38;5;124m\"\u001b[39m \u001b[38;5;129;01min\u001b[39;00m params \u001b[38;5;28;01melse\u001b[39;00m\n\u001b[1;32m     58\u001b[0m         Bbox\u001b[38;5;241m.\u001b[39mfrom_bounds(\u001b[38;5;241m-\u001b[39mparams[\u001b[38;5;124m\"\u001b[39m\u001b[38;5;124mxdescent\u001b[39m\u001b[38;5;124m\"\u001b[39m], \u001b[38;5;241m-\u001b[39mparams[\u001b[38;5;124m\"\u001b[39m\u001b[38;5;124mydescent\u001b[39m\u001b[38;5;124m\"\u001b[39m],\n\u001b[1;32m     59\u001b[0m                          params[\u001b[38;5;124m\"\u001b[39m\u001b[38;5;124mwidth\u001b[39m\u001b[38;5;124m\"\u001b[39m], params[\u001b[38;5;124m\"\u001b[39m\u001b[38;5;124mheight\u001b[39m\u001b[38;5;124m\"\u001b[39m]))\n\u001b[0;32m---> 60\u001b[0m \u001b[38;5;28;01mreturn\u001b[39;00m \u001b[43mmeth\u001b[49m\u001b[43m(\u001b[49m\u001b[43mparams\u001b[49m\u001b[43m[\u001b[49m\u001b[38;5;124;43m\"\u001b[39;49m\u001b[38;5;124;43mself\u001b[39;49m\u001b[38;5;124;43m\"\u001b[39;49m\u001b[43m]\u001b[49m\u001b[43m,\u001b[49m\u001b[43m \u001b[49m\u001b[43mbbox\u001b[49m\u001b[43m,\u001b[49m\u001b[43m \u001b[49m\u001b[43mparams\u001b[49m\u001b[43m[\u001b[49m\u001b[38;5;124;43m\"\u001b[39;49m\u001b[38;5;124;43mrenderer\u001b[39;49m\u001b[38;5;124;43m\"\u001b[39;49m\u001b[43m]\u001b[49m\u001b[43m)\u001b[49m\n",
      "File \u001b[0;32m/pfs/lustrep2/scratch/project_465000445/kalvik/master_kalvik/lib/python3.9/site-packages/matplotlib/offsetbox.py:313\u001b[0m, in \u001b[0;36mOffsetBox.get_offset\u001b[0;34m(self, bbox, renderer)\u001b[0m\n\u001b[1;32m    298\u001b[0m \u001b[38;5;129m@_compat_get_offset\u001b[39m\n\u001b[1;32m    299\u001b[0m \u001b[38;5;28;01mdef\u001b[39;00m \u001b[38;5;21mget_offset\u001b[39m(\u001b[38;5;28mself\u001b[39m, bbox, renderer):\n\u001b[1;32m    300\u001b[0m \u001b[38;5;250m    \u001b[39m\u001b[38;5;124;03m\"\"\"\u001b[39;00m\n\u001b[1;32m    301\u001b[0m \u001b[38;5;124;03m    Return the offset as a tuple (x, y).\u001b[39;00m\n\u001b[1;32m    302\u001b[0m \n\u001b[0;32m   (...)\u001b[0m\n\u001b[1;32m    310\u001b[0m \u001b[38;5;124;03m    renderer : `.RendererBase` subclass\u001b[39;00m\n\u001b[1;32m    311\u001b[0m \u001b[38;5;124;03m    \"\"\"\u001b[39;00m\n\u001b[1;32m    312\u001b[0m     \u001b[38;5;28;01mreturn\u001b[39;00m (\n\u001b[0;32m--> 313\u001b[0m         \u001b[38;5;28;43mself\u001b[39;49m\u001b[38;5;241;43m.\u001b[39;49m\u001b[43m_offset\u001b[49m\u001b[43m(\u001b[49m\u001b[43mbbox\u001b[49m\u001b[38;5;241;43m.\u001b[39;49m\u001b[43mwidth\u001b[49m\u001b[43m,\u001b[49m\u001b[43m \u001b[49m\u001b[43mbbox\u001b[49m\u001b[38;5;241;43m.\u001b[39;49m\u001b[43mheight\u001b[49m\u001b[43m,\u001b[49m\u001b[43m \u001b[49m\u001b[38;5;241;43m-\u001b[39;49m\u001b[43mbbox\u001b[49m\u001b[38;5;241;43m.\u001b[39;49m\u001b[43mx0\u001b[49m\u001b[43m,\u001b[49m\u001b[43m \u001b[49m\u001b[38;5;241;43m-\u001b[39;49m\u001b[43mbbox\u001b[49m\u001b[38;5;241;43m.\u001b[39;49m\u001b[43my0\u001b[49m\u001b[43m,\u001b[49m\u001b[43m \u001b[49m\u001b[43mrenderer\u001b[49m\u001b[43m)\u001b[49m\n\u001b[1;32m    314\u001b[0m         \u001b[38;5;28;01mif\u001b[39;00m \u001b[38;5;28mcallable\u001b[39m(\u001b[38;5;28mself\u001b[39m\u001b[38;5;241m.\u001b[39m_offset)\n\u001b[1;32m    315\u001b[0m         \u001b[38;5;28;01melse\u001b[39;00m \u001b[38;5;28mself\u001b[39m\u001b[38;5;241m.\u001b[39m_offset)\n",
      "File \u001b[0;32m/pfs/lustrep2/scratch/project_465000445/kalvik/master_kalvik/lib/python3.9/site-packages/matplotlib/legend.py:695\u001b[0m, in \u001b[0;36mLegend._findoffset\u001b[0;34m(self, width, height, xdescent, ydescent, renderer)\u001b[0m\n\u001b[1;32m    692\u001b[0m \u001b[38;5;250m\u001b[39m\u001b[38;5;124;03m\"\"\"Helper function to locate the legend.\"\"\"\u001b[39;00m\n\u001b[1;32m    694\u001b[0m \u001b[38;5;28;01mif\u001b[39;00m \u001b[38;5;28mself\u001b[39m\u001b[38;5;241m.\u001b[39m_loc \u001b[38;5;241m==\u001b[39m \u001b[38;5;241m0\u001b[39m:  \u001b[38;5;66;03m# \"best\".\u001b[39;00m\n\u001b[0;32m--> 695\u001b[0m     x, y \u001b[38;5;241m=\u001b[39m \u001b[38;5;28;43mself\u001b[39;49m\u001b[38;5;241;43m.\u001b[39;49m\u001b[43m_find_best_position\u001b[49m\u001b[43m(\u001b[49m\u001b[43mwidth\u001b[49m\u001b[43m,\u001b[49m\u001b[43m \u001b[49m\u001b[43mheight\u001b[49m\u001b[43m,\u001b[49m\u001b[43m \u001b[49m\u001b[43mrenderer\u001b[49m\u001b[43m)\u001b[49m\n\u001b[1;32m    696\u001b[0m \u001b[38;5;28;01melif\u001b[39;00m \u001b[38;5;28mself\u001b[39m\u001b[38;5;241m.\u001b[39m_loc \u001b[38;5;129;01min\u001b[39;00m Legend\u001b[38;5;241m.\u001b[39mcodes\u001b[38;5;241m.\u001b[39mvalues():  \u001b[38;5;66;03m# Fixed location.\u001b[39;00m\n\u001b[1;32m    697\u001b[0m     bbox \u001b[38;5;241m=\u001b[39m Bbox\u001b[38;5;241m.\u001b[39mfrom_bounds(\u001b[38;5;241m0\u001b[39m, \u001b[38;5;241m0\u001b[39m, width, height)\n",
      "File \u001b[0;32m/pfs/lustrep2/scratch/project_465000445/kalvik/master_kalvik/lib/python3.9/site-packages/matplotlib/legend.py:1142\u001b[0m, in \u001b[0;36mLegend._find_best_position\u001b[0;34m(self, width, height, renderer, consider)\u001b[0m\n\u001b[1;32m   1137\u001b[0m badness \u001b[38;5;241m=\u001b[39m \u001b[38;5;241m0\u001b[39m\n\u001b[1;32m   1138\u001b[0m \u001b[38;5;66;03m# XXX TODO: If markers are present, it would be good to take them\u001b[39;00m\n\u001b[1;32m   1139\u001b[0m \u001b[38;5;66;03m# into account when checking vertex overlaps in the next line.\u001b[39;00m\n\u001b[1;32m   1140\u001b[0m badness \u001b[38;5;241m=\u001b[39m (\u001b[38;5;28msum\u001b[39m(legendBox\u001b[38;5;241m.\u001b[39mcount_contains(line\u001b[38;5;241m.\u001b[39mvertices)\n\u001b[1;32m   1141\u001b[0m                \u001b[38;5;28;01mfor\u001b[39;00m line \u001b[38;5;129;01min\u001b[39;00m lines)\n\u001b[0;32m-> 1142\u001b[0m            \u001b[38;5;241m+\u001b[39m \u001b[43mlegendBox\u001b[49m\u001b[38;5;241;43m.\u001b[39;49m\u001b[43mcount_contains\u001b[49m\u001b[43m(\u001b[49m\u001b[43moffsets\u001b[49m\u001b[43m)\u001b[49m\n\u001b[1;32m   1143\u001b[0m            \u001b[38;5;241m+\u001b[39m legendBox\u001b[38;5;241m.\u001b[39mcount_overlaps(bboxes)\n\u001b[1;32m   1144\u001b[0m            \u001b[38;5;241m+\u001b[39m \u001b[38;5;28msum\u001b[39m(line\u001b[38;5;241m.\u001b[39mintersects_bbox(legendBox, filled\u001b[38;5;241m=\u001b[39m\u001b[38;5;28;01mFalse\u001b[39;00m)\n\u001b[1;32m   1145\u001b[0m                  \u001b[38;5;28;01mfor\u001b[39;00m line \u001b[38;5;129;01min\u001b[39;00m lines))\n\u001b[1;32m   1146\u001b[0m \u001b[38;5;28;01mif\u001b[39;00m badness \u001b[38;5;241m==\u001b[39m \u001b[38;5;241m0\u001b[39m:\n\u001b[1;32m   1147\u001b[0m     \u001b[38;5;28;01mreturn\u001b[39;00m l, b\n",
      "File \u001b[0;32m/pfs/lustrep2/scratch/project_465000445/kalvik/master_kalvik/lib/python3.9/site-packages/matplotlib/transforms.py:591\u001b[0m, in \u001b[0;36mBboxBase.count_contains\u001b[0;34m(self, vertices)\u001b[0m\n\u001b[1;32m    589\u001b[0m \u001b[38;5;28;01mif\u001b[39;00m \u001b[38;5;28mlen\u001b[39m(vertices) \u001b[38;5;241m==\u001b[39m \u001b[38;5;241m0\u001b[39m:\n\u001b[1;32m    590\u001b[0m     \u001b[38;5;28;01mreturn\u001b[39;00m \u001b[38;5;241m0\u001b[39m\n\u001b[0;32m--> 591\u001b[0m vertices \u001b[38;5;241m=\u001b[39m \u001b[43mnp\u001b[49m\u001b[38;5;241;43m.\u001b[39;49m\u001b[43masarray\u001b[49m\u001b[43m(\u001b[49m\u001b[43mvertices\u001b[49m\u001b[43m)\u001b[49m\n\u001b[1;32m    592\u001b[0m \u001b[38;5;28;01mwith\u001b[39;00m np\u001b[38;5;241m.\u001b[39merrstate(invalid\u001b[38;5;241m=\u001b[39m\u001b[38;5;124m'\u001b[39m\u001b[38;5;124mignore\u001b[39m\u001b[38;5;124m'\u001b[39m):\n\u001b[1;32m    593\u001b[0m     \u001b[38;5;28;01mreturn\u001b[39;00m (((\u001b[38;5;28mself\u001b[39m\u001b[38;5;241m.\u001b[39mmin \u001b[38;5;241m<\u001b[39m vertices) \u001b[38;5;241m&\u001b[39m\n\u001b[1;32m    594\u001b[0m              (vertices \u001b[38;5;241m<\u001b[39m \u001b[38;5;28mself\u001b[39m\u001b[38;5;241m.\u001b[39mmax))\u001b[38;5;241m.\u001b[39mall(axis\u001b[38;5;241m=\u001b[39m\u001b[38;5;241m1\u001b[39m)\u001b[38;5;241m.\u001b[39msum())\n",
      "\u001b[0;31mKeyboardInterrupt\u001b[0m: "
     ]
    },
    {
     "name": "stderr",
     "output_type": "stream",
     "text": [
      "/pfs/lustrep2/scratch/project_465000445/kalvik/master_kalvik/lib/python3.9/site-packages/IPython/core/pylabtools.py:152: UserWarning: Creating legend with loc=\"best\" can be slow with large amounts of data.\n",
      "  fig.canvas.print_figure(bytes_io, **kw)\n"
     ]
    }
   ],
   "source": [
    "x0 = sig_x*3 * np.sqrt(2)# m\n",
    "y0 = 0 # m\n",
    "x_dot0 = 0 # m/s\n",
    "y_dot0 = 0 # m/s\n",
    "\n",
    "sysinit2dx = np.array([x0, x_dot0, y0, y_dot0, gamma0, z0, SI.c])\n",
    "\n",
    "xs, zs, Es, fig, P, s = plot_oscillations(func = oscillator2d, sysinit = sysinit2dx, \\\n",
    "                                          t_span = t_span, t_eval = t,\\\n",
    "                                          rx = x0, ry = y0, phi = 0, delta =0)\n",
    "if save:\n",
    "    name = directory + f'{Energy}_GeV_single_particle_simulation_only_x_gamma_{actual}.png'\n",
    "    fig.savefig(name)"
   ]
  },
  {
   "cell_type": "code",
   "execution_count": null,
   "id": "59c43d2f-bcb0-4c66-9237-02a6d6559019",
   "metadata": {},
   "outputs": [],
   "source": [
    "x0 = 0 # m\n",
    "y0 = 3*sig_x * np.sqrt(2) # m\n",
    "x_dot0 = 0 # m/s\n",
    "y_dot0 = 0 # m/s\n",
    "sysinit2dy = np.array([x0, x_dot0, y0, y_dot0, gamma0, z0, SI.c])\n",
    "\n",
    "xs, zs, Es, fig2, P, s = plot_oscillations(func = oscillator2d, sysinit = \\\n",
    "                                           sysinit2dy, t_span = t_span, t_eval = t,\\\n",
    "                                           rx = x0, ry = y0, phi = 0, delta =0)\n",
    "if save:    \n",
    "    name = directory + f'{Energy}_GeV_single_particle_simulation_only_y_gamma_{actual}.png'   \n",
    "    fig2.savefig(name)"
   ]
  },
  {
   "cell_type": "code",
   "execution_count": null,
   "id": "eadb08fa-9314-4177-9211-c133425644db",
   "metadata": {},
   "outputs": [],
   "source": [
    "theta = np.pi/2\n",
    "x0 = 3*sig_x # m\n",
    "y0 = 0 # m\n",
    "ry = x0\n",
    "x_dot0 = 0 # m/s\n",
    "y_dot0 = 3*sig_xp*SI.c # m/s\n",
    "sysinit2d45 = np.array([x0, x_dot0, y0, y_dot0, gamma0, z0, SI.c])\n",
    "\n",
    "\n",
    "xs, zs, Es, fig3, P, s = plot_oscillations(func = oscillator2d, sysinit = sysinit2d45,\\\n",
    "                                           t_span = t_span, t_eval = t\\\n",
    "                                          , rx = x0, ry = ry, phi = 0, delta =-np.pi/2)\n",
    "if save:   \n",
    "    name = directory + f'{Energy}_GeV_single_particle_simulation_xy_out_of_phase_gamma_{actual}.png'\n",
    "    fig3.savefig(name)"
   ]
  },
  {
   "cell_type": "markdown",
   "id": "28c42e3e-4d35-48c8-bb4b-1ebb08cc15c6",
   "metadata": {},
   "source": [
    "fig2 = plt.figure(figsize=(8,6))\n",
    "plt.plot(z, energy_change*1e-9, label = 'analytic')\n",
    "plt.plot(z,total_energy_change/e*1e-9, label = 'simulated')\n",
    "plt.xlabel('z (m)')\n",
    "plt.ylabel('P (GeV/m)')\n",
    "plt.legend()"
   ]
  },
  {
   "cell_type": "code",
   "execution_count": null,
   "id": "d3f23f7e-422b-4b3f-95c5-c33e7d19d25e",
   "metadata": {},
   "outputs": [],
   "source": [
    "x0 = 3*sig_x # m\n",
    "y0 = 3*sig_x # m\n",
    "x_dot0 = 0 # m/s\n",
    "y_dot0 = 0 # m/s\n",
    "sysinit2d45 = np.array([x0, x_dot0, y0, y_dot0, gamma0, z0, SI.c])\n",
    "\n",
    "xs, zs, Es, fig4, P, s = plot_oscillations(func = oscillator2d, sysinit = sysinit2d45,\\\n",
    "                                           t_span = t_span, t_eval = t\\\n",
    "                                          , rx = x0, ry = y0, phi = 0, delta =0)\n",
    "if save: \n",
    "    name = directory + f'{Energy}_GeV_single_particle_simulation_xy_in_phase_gamma_{actual}.png'\n",
    "    fig4.savefig(name)"
   ]
  },
  {
   "cell_type": "code",
   "execution_count": null,
   "id": "30499aed-ea29-4b7d-9d7e-2194fe44d6d8",
   "metadata": {},
   "outputs": [],
   "source": [
    "print(1/SI.c*(SI.e**2/6/np.pi/SI.epsilon_0/SI.c**3 * (Ee/SI.m_e/SI.c**2)**4 * (3*sig_x*k_beta**2*SI.c**2)**2)/e*1e-9)"
   ]
  },
  {
   "cell_type": "code",
   "execution_count": null,
   "id": "6882444d-391f-4281-be5b-bc7d016ee8db",
   "metadata": {},
   "outputs": [],
   "source": [
    "P_av = np.mean(P)\n",
    "P_int = np.trapz(P, s)/L_plasma\n",
    "\n",
    "W = av_radiated_power(np.pi/2, Ee/SI.m_e/SI.c**2, k_beta, x0, y0)\n",
    "print(Ee/SI.m_e/SI.c**2)\n",
    "\n",
    "print(P_int/SI.e*1e-9)\n",
    "print(W/SI.e*1e-9)"
   ]
  },
  {
   "cell_type": "code",
   "execution_count": null,
   "id": "6851e0d8-ceec-440a-ab8c-e3e64a518222",
   "metadata": {},
   "outputs": [],
   "source": [
    "x0 = 10e-6 # m\n",
    "y0 = 0 # m\n",
    "z0 = 0 # m\n",
    "x_dot0 = 0 # m/s\n",
    "y_dot0 = 0 # m/s\n",
    "sysinit2dy = np.array([x0, x_dot0, y0, y_dot0, gamma0, z0, SI.c])\n",
    "\n",
    "xs, zs, Es, fig2, P, s = plot_oscillations(func = oscillator2d, sysinit = \\\n",
    "                                           sysinit2dy, t_span = t_span, t_eval = t,\\\n",
    "                                           rx = x0, ry = y0, phi = 0, delta =0)"
   ]
  },
  {
   "cell_type": "code",
   "execution_count": null,
   "id": "a10ee222-286f-4638-9b79-1a173e6f26b9",
   "metadata": {},
   "outputs": [],
   "source": [
    "if save:\n",
    "    fig2.savefig(f'single_particle_simulation_Evolution_of_beam_parameters_{(Energy)}GeV_\\\n",
    "    11m_inits_z{z0*1e6}_x{x0*1e6}_y{y0*1e6}\\\n",
    "    _xp{x_dot0/SI.c}_yp{y_dot0/SI.c}.png')"
   ]
  },
  {
   "cell_type": "code",
   "execution_count": null,
   "id": "0cd356c0-bdf9-411d-be6f-58bd9a34692b",
   "metadata": {},
   "outputs": [],
   "source": [
    "fig = plt.figure()\n",
    "plt.plot(s, P/e*1e-9, label = 'Simulated Energy Difference')\n",
    "plt.grid()\n",
    "plt.xlabel('Location [m]')\n",
    "plt.ylabel('Radiated Power [GeV/m]')\n",
    "plt.title(f'Energy loss due to radiation reaction for an initial energy of {Energy} GeV')"
   ]
  },
  {
   "cell_type": "code",
   "execution_count": null,
   "id": "30a4876a-846f-40de-9971-51d2f26f0b28",
   "metadata": {},
   "outputs": [],
   "source": [
    "#if save:\n",
    "#fig.savefig(f'single_particle_simulation_Energy_loss_{(Energy)}GeV_\\\n",
    "#11m_inits_z{z0*1e6}_x{x0*1e6}_y{y0*1e6}\\\n",
    "#_xp{x_dot0/SI.c}_yp{y_dot0/SI.c}.png')"
   ]
  },
  {
   "cell_type": "code",
   "execution_count": null,
   "id": "351ec657-9ce7-47f2-b179-189dee5f7cf8",
   "metadata": {},
   "outputs": [],
   "source": [
    "x0 = 10e-7 # m\n",
    "y0 = 0 # m\n",
    "z0 = 0 # m\n",
    "x_dot0 = 0 # m/s\n",
    "y_dot0 = 0 # m/s\n",
    "sysinit2d = np.array([x0, x_dot0, y0, y_dot0, gamma0])\n",
    "\n",
    "t, sol = lf.leapforg_integrator(t, sysinit2d, n0)\n",
    "x = sol[0,:]\n",
    "y = sol[2,:]\n",
    "E = sol[4,:]*SI.m_e*SI.c**2 /SI.e / 1e9"
   ]
  },
  {
   "cell_type": "code",
   "execution_count": null,
   "id": "d3206cb0-e8bc-4c80-bc63-38315a45115e",
   "metadata": {},
   "outputs": [],
   "source": [
    "print(x)"
   ]
  },
  {
   "cell_type": "code",
   "execution_count": null,
   "id": "24d5f74f-ab75-4f14-863f-2eb79913fe13",
   "metadata": {},
   "outputs": [],
   "source": [
    "plt.plot(t*SI.c, x)"
   ]
  },
  {
   "cell_type": "code",
   "execution_count": null,
   "id": "61169df2-d131-4bbb-b820-113abcd3dab0",
   "metadata": {},
   "outputs": [],
   "source": [
    "PS = 3.2e9 * SI.e\n",
    "gamma = (7.5e12*SI.e)/SI.m_e/SI.c**2\n",
    "k_beta = kp/np.sqrt(2*gamma)\n",
    "Sum = PS*12*np.pi*SI.epsilon_0/SI.e**2/(gamma*k_beta)**4"
   ]
  },
  {
   "cell_type": "code",
   "execution_count": null,
   "id": "0d7de117-026a-4c83-a990-744a03701d3d",
   "metadata": {},
   "outputs": [],
   "source": [
    "print(Sum)"
   ]
  },
  {
   "cell_type": "code",
   "execution_count": null,
   "id": "0d6a7a98-00a8-4b3b-8a6a-62d7eff34f6a",
   "metadata": {},
   "outputs": [],
   "source": [
    "print(np.sqrt(Sum))"
   ]
  },
  {
   "cell_type": "code",
   "execution_count": null,
   "id": "294ac0c2-dfd5-40c6-a49f-b93b34d64514",
   "metadata": {},
   "outputs": [],
   "source": []
  }
 ],
 "metadata": {
  "kernelspec": {
   "display_name": "Python 3 (ipykernel)",
   "language": "python",
   "name": "python3"
  },
  "language_info": {
   "codemirror_mode": {
    "name": "ipython",
    "version": 3
   },
   "file_extension": ".py",
   "mimetype": "text/x-python",
   "name": "python",
   "nbconvert_exporter": "python",
   "pygments_lexer": "ipython3",
   "version": "3.9.12"
  }
 },
 "nbformat": 4,
 "nbformat_minor": 5
}
