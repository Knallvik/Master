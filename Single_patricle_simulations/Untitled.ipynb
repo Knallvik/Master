{
 "cells": [
  {
   "cell_type": "code",
   "execution_count": 2,
   "id": "441be378-2ebc-441a-8b52-6d5858ad0775",
   "metadata": {},
   "outputs": [],
   "source": [
    "import numpy as np\n",
    "import scipy.constants as SI"
   ]
  },
  {
   "cell_type": "code",
   "execution_count": 53,
   "id": "8c4704ee-01d1-4823-8c83-b160495eb39e",
   "metadata": {},
   "outputs": [
    {
     "name": "stdout",
     "output_type": "stream",
     "text": [
      "16574.760119221686  GeV\n"
     ]
    }
   ],
   "source": [
    "n0 = 2e21\n",
    "Ee = 500e9 * SI.e\n",
    "L = 11\n",
    "gamma = Ee/SI.m_e/SI.c**2\n",
    "omega_p = SI.e*np.sqrt(n0/SI.m_e/SI.epsilon_0)\n",
    "k_p = omega_p/SI.c\n",
    "Ez = 6e9 # V/m\n",
    "emittance_nx = 160e-6\n",
    "emittance_ny = 0.56e-6\n",
    "tau_r = 2/3*SI.physical_constants['classical electron radius'][0]/SI.c\n",
    "E = 2/n0*(SI.m_e*SI.c**2)**2*(6*np.pi*SI.epsilon_0**(5/2)*Ez/SI.e**4/(emittance_nx+emittance_ny))**(2/3)\n",
    "print(E/SI.e/1e9, ' GeV')"
   ]
  },
  {
   "cell_type": "code",
   "execution_count": 47,
   "id": "0d46b8d3-b257-4fdb-890c-13383756d255",
   "metadata": {},
   "outputs": [
    {
     "name": "stdout",
     "output_type": "stream",
     "text": [
      "omega_p =  1 , damping =  7.734751401580877e-06\n"
     ]
    }
   ],
   "source": [
    "print('omega_p = ', 1,', damping = ',gamma*tau_r*omega_p/2)"
   ]
  },
  {
   "cell_type": "code",
   "execution_count": 48,
   "id": "f57ce069-8a89-4e47-bef8-613b50bea793",
   "metadata": {},
   "outputs": [
    {
     "name": "stdout",
     "output_type": "stream",
     "text": [
      "4.300370100325535\n"
     ]
    }
   ],
   "source": [
    "E0 = omega_p*SI.m_e*SI.c/SI.e\n",
    "print(E0/1e9)"
   ]
  },
  {
   "cell_type": "code",
   "execution_count": 49,
   "id": "02645f73-1e9d-4111-9562-8923ee3e6cb8",
   "metadata": {},
   "outputs": [
    {
     "name": "stdout",
     "output_type": "stream",
     "text": [
      "1.0674168200497219e-06    1.878626884133333e-15\n"
     ]
    }
   ],
   "source": [
    "left = 2*np.pi/np.sqrt(gamma)/k_p*np.sqrt(2)\n",
    "right = 2/3*SI.physical_constants['classical electron radius'][0]\n",
    "print(left, '  ', right)"
   ]
  },
  {
   "cell_type": "code",
   "execution_count": 55,
   "id": "661791b0-a5cf-4682-bcfb-6e9d495952df",
   "metadata": {},
   "outputs": [
    {
     "data": {
      "text/plain": [
       "1.1897830204963006e+22"
      ]
     },
     "execution_count": 55,
     "metadata": {},
     "output_type": "execute_result"
    }
   ],
   "source": [
    "(6*np.pi*SI.epsilon_0*SI.m_e*SI.c**2/100/SI.e**2/L/np.sqrt(gamma))**(2/3)\\\n",
    "*2*SI.epsilon_0*SI.m_e*SI.c**2/SI.e**2*(emittance_nx**2+emittance_ny**2)**(-1/3)"
   ]
  },
  {
   "cell_type": "code",
   "execution_count": 4,
   "id": "07b6c5a7-e93d-45ef-8d0a-4e0e993899fe",
   "metadata": {},
   "outputs": [
    {
     "name": "stdout",
     "output_type": "stream",
     "text": [
      "[0.34558419 0.82161814] [ 0.33043708 -1.30315723]\n"
     ]
    }
   ],
   "source": [
    "rng = np.random.default_rng(seed =1)\n",
    "x = rng.normal(size =2, seed = 1)\n",
    "y = rng.normal(size=2)\n",
    "print(x, y)"
   ]
  },
  {
   "cell_type": "code",
   "execution_count": null,
   "id": "877f2d70-7bc0-41c8-b386-fddbce819f0a",
   "metadata": {},
   "outputs": [],
   "source": []
  }
 ],
 "metadata": {
  "kernelspec": {
   "display_name": "Python 3 (ipykernel)",
   "language": "python",
   "name": "python3"
  },
  "language_info": {
   "codemirror_mode": {
    "name": "ipython",
    "version": 3
   },
   "file_extension": ".py",
   "mimetype": "text/x-python",
   "name": "python",
   "nbconvert_exporter": "python",
   "pygments_lexer": "ipython3",
   "version": "3.9.12"
  }
 },
 "nbformat": 4,
 "nbformat_minor": 5
}
