{
 "cells": [
  {
   "cell_type": "code",
   "execution_count": 1,
   "id": "441be378-2ebc-441a-8b52-6d5858ad0775",
   "metadata": {},
   "outputs": [],
   "source": [
    "import numpy as np\n",
    "import scipy.constants as SI"
   ]
  },
  {
   "cell_type": "code",
   "execution_count": 16,
   "id": "8c4704ee-01d1-4823-8c83-b160495eb39e",
   "metadata": {},
   "outputs": [
    {
     "name": "stdout",
     "output_type": "stream",
     "text": [
      "4735.645748349054  GeV\n"
     ]
    }
   ],
   "source": [
    "n0 = 7e21\n",
    "Ee = 5000e9 * SI.e\n",
    "gamma = Ee/SI.m_e/SI.c**2\n",
    "omega_p = SI.e*np.sqrt(n0/SI.m_e/SI.epsilon_0)\n",
    "Ez = 6e9 # V/m\n",
    "emittance_nx = 160e-6\n",
    "emittance_ny = 0.56e-6\n",
    "tau_r = 2/3*SI.physical_constants['classical electron radius'][0]/SI.c\n",
    "E = 2/n0*(SI.m_e*SI.c**2)**2*(6*np.pi*SI.epsilon_0**(5/2)*Ez/SI.e**4/(emittance_nx+emittance_ny))**(2/3)\n",
    "print(E/SI.e/1e9, ' GeV')"
   ]
  },
  {
   "cell_type": "code",
   "execution_count": 18,
   "id": "0d46b8d3-b257-4fdb-890c-13383756d255",
   "metadata": {},
   "outputs": [
    {
     "name": "stdout",
     "output_type": "stream",
     "text": [
      "omega_p =  1 , damping =  0.0001447039485829259\n"
     ]
    }
   ],
   "source": [
    "print('omega_p = ', 1,', damping = ',gamma*tau_r*omega_p/2)"
   ]
  },
  {
   "cell_type": "code",
   "execution_count": 11,
   "id": "f57ce069-8a89-4e47-bef8-613b50bea793",
   "metadata": {},
   "outputs": [
    {
     "name": "stdout",
     "output_type": "stream",
     "text": [
      "4.300370100325535\n"
     ]
    }
   ],
   "source": [
    "E0 = omega_p*SI.m_e*SI.c/SI.e\n",
    "print(E0/1e9)"
   ]
  },
  {
   "cell_type": "code",
   "execution_count": null,
   "id": "02645f73-1e9d-4111-9562-8923ee3e6cb8",
   "metadata": {},
   "outputs": [],
   "source": []
  }
 ],
 "metadata": {
  "kernelspec": {
   "display_name": "Python 3 (ipykernel)",
   "language": "python",
   "name": "python3"
  },
  "language_info": {
   "codemirror_mode": {
    "name": "ipython",
    "version": 3
   },
   "file_extension": ".py",
   "mimetype": "text/x-python",
   "name": "python",
   "nbconvert_exporter": "python",
   "pygments_lexer": "ipython3",
   "version": "3.8.10"
  }
 },
 "nbformat": 4,
 "nbformat_minor": 5
}
