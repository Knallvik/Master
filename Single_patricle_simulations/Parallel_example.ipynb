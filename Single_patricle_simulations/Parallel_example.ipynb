{
 "cells": [
  {
   "cell_type": "code",
   "execution_count": 1,
   "id": "c367c1c5-1b3f-4afa-a6d7-6890e2f1dea2",
   "metadata": {},
   "outputs": [],
   "source": [
    "from joblib import Parallel, delayed\n",
    "import numpy as np"
   ]
  },
  {
   "cell_type": "code",
   "execution_count": 32,
   "id": "c32a79cd-33ed-4a4f-971d-fc026796b9f9",
   "metadata": {},
   "outputs": [],
   "source": [
    "def pro(i):\n",
    "    vec = i\n",
    "    u = i**2\n",
    "    return vec, u\n",
    "res = Parallel(n_jobs=1)(delayed(pro)(i) for i in range(10))"
   ]
  },
  {
   "cell_type": "code",
   "execution_count": 36,
   "id": "a14e98c7-d0e2-444f-8e24-16439329b3e6",
   "metadata": {},
   "outputs": [
    {
     "name": "stdout",
     "output_type": "stream",
     "text": [
      "[(0, 0), (1, 1), (2, 4), (3, 9), (4, 16), (5, 25), (6, 36), (7, 49), (8, 64), (9, 81)]\n"
     ]
    }
   ],
   "source": [
    "print(res)"
   ]
  },
  {
   "cell_type": "code",
   "execution_count": 37,
   "id": "ff73ddce-66d1-499b-9d74-79b8fe23b3ee",
   "metadata": {},
   "outputs": [],
   "source": [
    "u_vec = np.array(res)"
   ]
  },
  {
   "cell_type": "code",
   "execution_count": 38,
   "id": "ee9fbdc9-0e1a-402e-86c4-3f59de61703d",
   "metadata": {},
   "outputs": [
    {
     "data": {
      "text/plain": [
       "array([[ 0,  0],\n",
       "       [ 1,  1],\n",
       "       [ 2,  4],\n",
       "       [ 3,  9],\n",
       "       [ 4, 16],\n",
       "       [ 5, 25],\n",
       "       [ 6, 36],\n",
       "       [ 7, 49],\n",
       "       [ 8, 64],\n",
       "       [ 9, 81]])"
      ]
     },
     "execution_count": 38,
     "metadata": {},
     "output_type": "execute_result"
    }
   ],
   "source": [
    "u_vec"
   ]
  },
  {
   "cell_type": "code",
   "execution_count": 39,
   "id": "0fd4ac0c-84e9-4435-9b24-5fefc62e35c9",
   "metadata": {},
   "outputs": [],
   "source": [
    "u = u_vec[:,1]"
   ]
  },
  {
   "cell_type": "code",
   "execution_count": 40,
   "id": "e7c23fc1-c92a-4708-a4da-4140cd47f7a8",
   "metadata": {},
   "outputs": [
    {
     "data": {
      "text/plain": [
       "array([ 0,  1,  4,  9, 16, 25, 36, 49, 64, 81])"
      ]
     },
     "execution_count": 40,
     "metadata": {},
     "output_type": "execute_result"
    }
   ],
   "source": [
    "u"
   ]
  },
  {
   "cell_type": "code",
   "execution_count": 41,
   "id": "66edc28b-c55a-43d1-b28a-bff401f41c1f",
   "metadata": {},
   "outputs": [
    {
     "data": {
      "text/plain": [
       "2.23"
      ]
     },
     "execution_count": 41,
     "metadata": {},
     "output_type": "execute_result"
    }
   ],
   "source": [
    "t0 = 1.10\n",
    "t01 = 1.16\n",
    "t016 = 1\n",
    "t1 = 2.23\n",
    "t1/t016"
   ]
  },
  {
   "cell_type": "code",
   "execution_count": null,
   "id": "51a2a516-57a8-48e0-abeb-620980e8ef31",
   "metadata": {},
   "outputs": [],
   "source": []
  }
 ],
 "metadata": {
  "kernelspec": {
   "display_name": "Python 3 (ipykernel)",
   "language": "python",
   "name": "python3"
  },
  "language_info": {
   "codemirror_mode": {
    "name": "ipython",
    "version": 3
   },
   "file_extension": ".py",
   "mimetype": "text/x-python",
   "name": "python",
   "nbconvert_exporter": "python",
   "pygments_lexer": "ipython3",
   "version": "3.9.12"
  }
 },
 "nbformat": 4,
 "nbformat_minor": 5
}
