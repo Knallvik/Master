{
 "cells": [
  {
   "cell_type": "code",
   "execution_count": 4,
   "id": "9f2ef4c7-d330-4457-8a1d-6bc7171c31a0",
   "metadata": {},
   "outputs": [
    {
     "name": "stdout",
     "output_type": "stream",
     "text": [
      "initializing ocelot...\n"
     ]
    }
   ],
   "source": [
    "import numpy as np\n",
    "import sys\n",
    "sys.path.append('../OPAL/')\n",
    "from opal import *\n",
    "from scipy.integrate import odeint\n",
    "import scipy.constants as SI\n",
    "from opal.utilities.relativity import gamma2proper_velocity"
   ]
  },
  {
   "cell_type": "code",
   "execution_count": null,
   "id": "6e1d1df7-ac55-4004-b046-b02783177401",
   "metadata": {},
   "outputs": [],
   "source": [
    "def evovle_betatron_motion():\n",
    "    "
   ]
  }
 ],
 "metadata": {
  "kernelspec": {
   "display_name": "Python 3 (ipykernel)",
   "language": "python",
   "name": "python3"
  },
  "language_info": {
   "codemirror_mode": {
    "name": "ipython",
    "version": 3
   },
   "file_extension": ".py",
   "mimetype": "text/x-python",
   "name": "python",
   "nbconvert_exporter": "python",
   "pygments_lexer": "ipython3",
   "version": "3.8.10"
  }
 },
 "nbformat": 4,
 "nbformat_minor": 5
}
