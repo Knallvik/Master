{
 "cells": [
  {
   "cell_type": "code",
   "execution_count": 1,
   "id": "3e51e13d-9e78-46aa-b5d3-f67dbd52c5d3",
   "metadata": {},
   "outputs": [],
   "source": [
    "import sys\n",
    "sys.path.append('../../ABEL')\n",
    "from abel import *\n",
    "from abel.utilities import larmor as lr\n",
    "%load_ext autoreload\n",
    "%autoreload 2"
   ]
  },
  {
   "cell_type": "code",
   "execution_count": 2,
   "id": "701d7c1e-e643-4991-8e25-e93ef4955708",
   "metadata": {},
   "outputs": [],
   "source": [
    "import numpy as np\n",
    "import time\n",
    "import scipy.constants as SI \n",
    "import abel.utilities.plasma_physics as pp\n",
    "import matplotlib.pyplot as plt"
   ]
  },
  {
   "cell_type": "code",
   "execution_count": 3,
   "id": "1e66f095-371c-471a-8cd8-2e18f2e9d60b",
   "metadata": {},
   "outputs": [],
   "source": [
    "## define driver\n",
    "driver = SourceBasic()\n",
    "driver.charge = -2.7e10 * SI.e # [C]\n",
    "driver.energy = 100e9 # [eV]\n",
    "driver.rel_energy_spread = 0.01\n",
    "driver.bunch_length = 50e-6 # [m]\n",
    "driver.z_offset = 580e-6 # [m]\n",
    "driver.emit_nx, driver.emit_ny = 80e-6, 80e-6 # [m rad]\n",
    "driver.beta_x, driver.beta_y = 5, 5 #30e-3, 30e-3 [m]\n",
    "driver.num_particles = 100000\n",
    "driver.jitter.x = 0#2e-7 # [m] 2e-6\n",
    "driver.jitter.y = 0#2e-7 # [m] 100e-9\n",
    "driver.jitter.t = 0 #10e-15 # [m]\n",
    "driver.symmetrize = True\n",
    "driver.seed = 1\n",
    "\n",
    "test_particle = SourceSingleParticle()\n",
    "test_particle.energy = 1500e9 # [eV]\n",
    "test_particle.x_offset = 8.4e-6/2 # [m]\n",
    "test_particle.y_offset = 8.4e-6/2 # [m]\n",
    "test_particle.y_angle = 0 #test_particle.x_offset/pp.beta_matched(2e21, test_particle.energy)\n",
    "test_particle.x_angle = 0\n",
    "\n",
    "# define a stage\n",
    "stage = StageHipace()\n",
    "stage.driver_source = driver\n",
    "stage.length = 20 # [m]\n",
    "stage.plasma_density = 2e21 # [m^-3]\n",
    "stage.nom_energy_gain = 31.9e9/(11/stage.length) # [eV]\n",
    "stage.radiation_reaction = True\n",
    "stage.ion_motion = False\n",
    "stage.beam_ionization=False\n",
    "stage.ramp_beta_mag = 5\n",
    "stage.num_nodes = 13\n",
    "stage.test_particle_source = test_particle\n",
    "\n",
    "# define witness bunch\n",
    "witness = SourceBasic()\n",
    "witness.charge = -1e10 * SI.e # [C]\n",
    "witness.energy = 1500e9 # [eV]\n",
    "witness.rel_energy_spread = 0.01\n",
    "witness.bunch_length = 28e-6 # [m]\n",
    "witness.z_offset = 0 # [m]\n",
    "witness.emit_nx, witness.emit_ny = 80e-6, 80e-6 # [m rad]\n",
    "witness.beta_x = stage.matched_beta_function(witness.energy)\n",
    "witness.beta_y = witness.beta_x\n",
    "witness.num_particles = 50000\n",
    "witness.x_offset, witness.y_offset = 0, 0 # [m]\n",
    "witness.jitter.x = 0\n",
    "witness.symmetrize = True\n",
    "witness.seed = driver.seed\n",
    "test_particle.z_offset = witness.z_offset # [m]\n",
    "\n",
    "# beam delivery system\n",
    "bds = BeamDeliverySystemBasic()\n",
    "bds.beta_x, bds.beta_y = 8e-3, 0.4e-3 # [m]\n",
    "bds.bunch_length = 0.75 * bds.beta_y\n",
    "\n",
    "linac = Linac()\n",
    "linac.stage = stage\n",
    "linac.source = witness\n",
    "linac.num_stages = 1\n",
    "shots = 1"
   ]
  },
  {
   "cell_type": "code",
   "execution_count": null,
   "id": "7cb4da57-95d8-4d13-8e41-8ea8c003c1ba",
   "metadata": {},
   "outputs": [
    {
     "name": "stdout",
     "output_type": "stream",
     "text": [
      "Tracking element 1 (SourceBasic, stage 0, s = 0.0 m, 1500.1 GeV, -1.60 nC, 1.0% rms, 78.8/79.7 µm-rad)\n",
      ">> Starting HiPACE++ (job 6918875):   0%|\u001b[32m        \u001b[0m| 0/7610 [1:30:03<?, ? steps/s]\u001b[0m"
     ]
    },
    {
     "name": "stderr",
     "output_type": "stream",
     "text": [
      "[AbstractIOHandlerImpl] IO Task OPEN_FILE failed with exception. Clearing IO queue and passing on the exception.\n",
      "[AbstractIOHandlerImpl] IO Task OPEN_FILE failed with exception. Clearing IO queue and passing on the exception.\n"
     ]
    }
   ],
   "source": [
    "linac.run(f'linac_hipace_RR_{stage.radiation_reaction}', num_shots=shots, overwrite=True, parallel=False);"
   ]
  },
  {
   "cell_type": "code",
   "execution_count": null,
   "id": "abe6477e-5293-46ba-ab16-234ce6ea4019",
   "metadata": {},
   "outputs": [],
   "source": [
    "fig, Ez = linac.stages[0].plot_wake()\n",
    "print(Ez/1e9)"
   ]
  },
  {
   "cell_type": "code",
   "execution_count": null,
   "id": "cb4ddb6d-5565-43e7-82b3-c7d6ad60e35e",
   "metadata": {},
   "outputs": [],
   "source": [
    "fig1, E1 = linac.stages[0].plot_test_particle_evolution()\n",
    "xps, yps = linac.stages[0].test_particle_evolution.xp, linac.stages[0].test_particle_evolution.yp\n",
    "gammas = E1*SI.e/SI.m_e/SI.c**2\n",
    "print(linac.stages[0].test_particle_evolution.x[0])\n",
    "z = np.linspace(0,stage.length, len(E1))\n",
    "#fig1.savefig('Plots/hipace_test_particle_evolution.png', bbox_inches='tight')"
   ]
  },
  {
   "cell_type": "code",
   "execution_count": null,
   "id": "abc43424-3498-45cb-b4b1-4895c8a85252",
   "metadata": {},
   "outputs": [],
   "source": [
    "z, P = lr.larmor_formula(z, xps, yps, gammas)"
   ]
  },
  {
   "cell_type": "code",
   "execution_count": null,
   "id": "d8c5c4f1-6759-43c2-8967-a18fb0d97673",
   "metadata": {},
   "outputs": [],
   "source": [
    "fig = plt.figure(figsize =(8,6))\n",
    "plt.plot(z, P/SI.e/1e9)\n",
    "plt.grid()\n",
    "plt.xlabel('s [m]')\n",
    "plt.ylabel('Radiated Power [GeV/m]')\n",
    "plt.title(f'Radiated Power of a Single Particle in HiPACE++')\n",
    "#fig.savefig(f'Plots/hipace_energy_loss_benchmark_1500_GeV.png')"
   ]
  },
  {
   "cell_type": "code",
   "execution_count": null,
   "id": "7f58c386-0343-45bf-a720-e63047d346bc",
   "metadata": {},
   "outputs": [],
   "source": [
    "## define driver\n",
    "driver = SourceBasic()\n",
    "driver.charge = -2.7e10 * SI.e # [C]\n",
    "driver.energy = 100e9 # [eV]\n",
    "driver.rel_energy_spread = 0.01\n",
    "driver.bunch_length = 50e-6 # [m]\n",
    "driver.z_offset = 580e-6 # [m]\n",
    "driver.emit_nx, driver.emit_ny = 80e-6, 80e-6 # [m rad]\n",
    "driver.beta_x, driver.beta_y = 5, 5 #30e-3, 30e-3 [m]\n",
    "driver.num_particles = 100000\n",
    "driver.jitter.x = 0#2e-7 # [m] 2e-6\n",
    "driver.jitter.y = 0#2e-7 # [m] 100e-9\n",
    "driver.jitter.t = 0 #10e-15 # [m]\n",
    "driver.symmetrize = True\n",
    "driver.seed = 1\n",
    "\n",
    "test_particle = SourceSingleParticle()\n",
    "test_particle.energy = 1500e9 # [eV]\n",
    "test_particle.x_offset = 3e-6/2 # [m]\n",
    "test_particle.y_offset = 3e-6/2 # [m]\n",
    "test_particle.y_angle = 0 #test_particle.x_offset/pp.beta_matched(2e21, test_particle.energy)\n",
    "test_particle.x_angle = 0\n",
    "\n",
    "# define a stage\n",
    "stage = StageHipace()\n",
    "stage.driver_source = driver\n",
    "stage.length = 20 # [m]\n",
    "stage.plasma_density = 2e21 # [m^-3]\n",
    "stage.nom_energy_gain = 31.9e9/(11/stage.length) # [eV]\n",
    "stage.radiation_reaction = False\n",
    "stage.ion_motion = False\n",
    "stage.beam_ionization=False\n",
    "stage.ramp_beta_mag = 5\n",
    "stage.num_nodes = 13\n",
    "stage.test_particle_source = test_particle\n",
    "\n",
    "# define witness bunch\n",
    "witness = SourceBasic()\n",
    "witness.charge = -1e10 * SI.e # [C]\n",
    "witness.energy = 1500e9 # [eV]\n",
    "witness.rel_energy_spread = 0.01\n",
    "witness.bunch_length = 28e-6 # [m]\n",
    "witness.z_offset = 0 # [m]\n",
    "witness.emit_nx, witness.emit_ny = 80e-6, 80e-6 # [m rad]\n",
    "witness.beta_x = stage.matched_beta_function(witness.energy)\n",
    "witness.beta_y = witness.beta_x\n",
    "witness.num_particles = 50000\n",
    "witness.x_offset, witness.y_offset = 0, 0 # [m]\n",
    "witness.jitter.x = 0\n",
    "witness.symmetrize = True\n",
    "witness.seed = driver.seed\n",
    "test_particle.z_offset = witness.z_offset # [m]\n",
    "\n",
    "# beam delivery system\n",
    "bds = BeamDeliverySystemBasic()\n",
    "bds.beta_x, bds.beta_y = 8e-3, 0.4e-3 # [m]\n",
    "bds.bunch_length = 0.75 * bds.beta_y\n",
    "\n",
    "linac2 = Linac()\n",
    "linac2.stage = stage\n",
    "linac2.source = witness\n",
    "linac2.num_stages = 1\n",
    "shots = 1"
   ]
  },
  {
   "cell_type": "code",
   "execution_count": null,
   "id": "f3a673a7-429e-49f1-a64f-857f75c3e786",
   "metadata": {},
   "outputs": [],
   "source": [
    "linac2.run(f'linac_hipace_RR_{stage.radiation_reaction}', num_shots=shots, overwrite=True, parallel=False);"
   ]
  },
  {
   "cell_type": "code",
   "execution_count": null,
   "id": "936cb2ef-051c-4234-8afa-3b4c9d5c8b7a",
   "metadata": {},
   "outputs": [],
   "source": [
    "fig2, E2 = linac2.stages[0].plot_test_particle_evolution()\n",
    "z = np.linspace(0,stage.length, len(E1))\n",
    "#fig2.savefig('hipace_stage_evolution', bbox_inches = 'tight')"
   ]
  },
  {
   "cell_type": "code",
   "execution_count": null,
   "id": "052137eb-9d47-4ade-8401-b528fd6666a8",
   "metadata": {},
   "outputs": [],
   "source": [
    "P_act = np.zeros(E1.size-1)\n",
    "dz = z[1]-z[0]\n",
    "s = np.empty_like(P_act)\n",
    "for i in range(P_act.size):\n",
    "    P_act[i] = ((E2[i+1]-E2[i])-(E1[i+1]-E1[i]))/dz/1e9\n",
    "    s[i] = 1/2*(z[i+1]+z[i])\n",
    "\n",
    "fig = plt.figure()\n",
    "plt.plot(s, E2-E1)\n",
    "plt.title('Energy Loss')\n",
    "plt.xlabel('Location [m]')\n",
    "plt.ylabel('Energy Loss (GeV)')\n",
    "plt.grid()\n",
    "#fig.savefig('Energy_loss_hipace.png', bbox_inches = 'tight')"
   ]
  },
  {
   "cell_type": "code",
   "execution_count": null,
   "id": "69b3b9e6-6ff1-44e0-a715-670baeeb1ab2",
   "metadata": {},
   "outputs": [],
   "source": [
    "print(linac.stages[-1].test_particle_evolution.x[0])"
   ]
  },
  {
   "cell_type": "code",
   "execution_count": null,
   "id": "a994328d-ec20-469a-993e-cd842efe133a",
   "metadata": {},
   "outputs": [],
   "source": [
    "energy_loss_larmor = lr.mean_larmor_formula(z, stage.plasma_density, \\\n",
    "                        E1*SI.e/SI.m_e/SI.c**2, test_particle.x_offset*2, test_particle.y_offset*2)"
   ]
  },
  {
   "cell_type": "code",
   "execution_count": null,
   "id": "07539fa4-2bf9-4091-a654-7ea3b6d6a9c6",
   "metadata": {},
   "outputs": [],
   "source": [
    "plt.plot(z, (E2-E1)/1e9)\n",
    "plt.plot(z, energy_loss_larmor)"
   ]
  },
  {
   "cell_type": "code",
   "execution_count": null,
   "id": "2c192e0f-93ee-4bbf-9860-f21f5e60bf6f",
   "metadata": {},
   "outputs": [],
   "source": []
  }
 ],
 "metadata": {
  "kernelspec": {
   "display_name": "Python 3 (ipykernel)",
   "language": "python",
   "name": "python3"
  },
  "language_info": {
   "codemirror_mode": {
    "name": "ipython",
    "version": 3
   },
   "file_extension": ".py",
   "mimetype": "text/x-python",
   "name": "python",
   "nbconvert_exporter": "python",
   "pygments_lexer": "ipython3",
   "version": "3.9.12"
  }
 },
 "nbformat": 4,
 "nbformat_minor": 5
}
