{
 "cells": [
  {
   "cell_type": "code",
   "execution_count": 1,
   "id": "3e51e13d-9e78-46aa-b5d3-f67dbd52c5d3",
   "metadata": {},
   "outputs": [],
   "source": [
    "import sys\n",
    "sys.path.append('../../ABEL')\n",
    "from abel import *\n",
    "from abel.utilities import larmor as lr\n",
    "%load_ext autoreload\n",
    "%autoreload 2"
   ]
  },
  {
   "cell_type": "code",
   "execution_count": 2,
   "id": "701d7c1e-e643-4991-8e25-e93ef4955708",
   "metadata": {},
   "outputs": [],
   "source": [
    "import numpy as np\n",
    "import time\n",
    "import scipy.constants as SI \n",
    "import abel.utilities.plasma_physics as pp\n",
    "import matplotlib.pyplot as plt"
   ]
  },
  {
   "cell_type": "code",
   "execution_count": 3,
   "id": "1e66f095-371c-471a-8cd8-2e18f2e9d60b",
   "metadata": {},
   "outputs": [],
   "source": [
    "## define driver\n",
    "driver = SourceBasic()\n",
    "driver.charge = -2.7e10 * SI.e # [C]\n",
    "driver.energy = 100e9 # [eV]\n",
    "driver.rel_energy_spread = 0.01\n",
    "driver.bunch_length = 50e-6 # [m]\n",
    "driver.z_offset = 580e-6 # [m]\n",
    "driver.emit_nx, driver.emit_ny = 80e-6, 80e-6 # [m rad]\n",
    "driver.beta_x, driver.beta_y = 5, 5 #30e-3, 30e-3 [m]\n",
    "driver.num_particles = 100000\n",
    "driver.jitter.x = 0#2e-7 # [m] 2e-6\n",
    "driver.jitter.y = 0#2e-7 # [m] 100e-9\n",
    "driver.jitter.t = 0 #10e-15 # [m]\n",
    "driver.symmetrize = True\n",
    "driver.seed = 1\n",
    "\n",
    "test_particle = SourceSingleParticle()\n",
    "test_particle.energy = 1500e9 # [eV]\n",
    "test_particle.x_offset = 8.4e-6/2 # [m]\n",
    "test_particle.y_offset = 8.4e-6/2 # [m]\n",
    "test_particle.y_angle = 0 #test_particle.x_offset/pp.beta_matched(2e21, test_particle.energy)\n",
    "test_particle.x_angle = 0\n",
    "\n",
    "# define a stage\n",
    "stage = StageHipace()\n",
    "stage.driver_source = driver\n",
    "stage.length = 20 # [m]\n",
    "stage.plasma_density = 2e21 # [m^-3]\n",
    "stage.nom_energy_gain = 31.9e9/(11/stage.length) # [eV]\n",
    "stage.radiation_reaction = True\n",
    "stage.ion_motion = False\n",
    "stage.beam_ionization=False\n",
    "stage.ramp_beta_mag = 5\n",
    "stage.num_nodes = 13\n",
    "stage.test_particle_source = test_particle\n",
    "\n",
    "# define witness bunch\n",
    "witness = SourceBasic()\n",
    "witness.charge = -1e10 * SI.e # [C]\n",
    "witness.energy = 1500e9 # [eV]\n",
    "witness.rel_energy_spread = 0.01\n",
    "witness.bunch_length = 28e-6 # [m]\n",
    "witness.z_offset = 0 # [m]\n",
    "witness.emit_nx, witness.emit_ny = 80e-6, 80e-6 # [m rad]\n",
    "witness.beta_x = stage.matched_beta_function(witness.energy)\n",
    "witness.beta_y = witness.beta_x\n",
    "witness.num_particles = 50000\n",
    "witness.x_offset, witness.y_offset = 0, 0 # [m]\n",
    "witness.jitter.x = 0\n",
    "witness.symmetrize = True\n",
    "witness.seed = driver.seed\n",
    "test_particle.z_offset = witness.z_offset # [m]\n",
    "\n",
    "# beam delivery system\n",
    "bds = BeamDeliverySystemBasic()\n",
    "bds.beta_x, bds.beta_y = 8e-3, 0.4e-3 # [m]\n",
    "bds.bunch_length = 0.75 * bds.beta_y\n",
    "\n",
    "linac = Linac()\n",
    "linac.stage = stage\n",
    "linac.source = witness\n",
    "linac.num_stages = 1\n",
    "shots = 1"
   ]
  },
  {
   "cell_type": "code",
   "execution_count": 4,
   "id": "7cb4da57-95d8-4d13-8e41-8ea8c003c1ba",
   "metadata": {},
   "outputs": [
    {
     "name": "stdout",
     "output_type": "stream",
     "text": [
      "Tracking element 1 (SourceBasic, stage 0, s = 0.0 m, 1500.1 GeV, -1.60 nC, 1.0% rms, 78.8/79.7 µm-rad)\n",
      ">> Starting HiPACE++ (job 6918875):   0%|\u001b[32m        \u001b[0m| 0/7610 [1:30:03<?, ? steps/s]\u001b[0m"
     ]
    },
    {
     "name": "stderr",
     "output_type": "stream",
     "text": [
      "[AbstractIOHandlerImpl] IO Task OPEN_FILE failed with exception. Clearing IO queue and passing on the exception.\n",
      "[AbstractIOHandlerImpl] IO Task OPEN_FILE failed with exception. Clearing IO queue and passing on the exception.\n"
     ]
    },
    {
     "ename": "Error",
     "evalue": "Read Error in backend HDF5\nObject type:\tFile\nError type:\tInaccessible\nFurther description:\tSupplied directory is not valid: run_data/temp/7e6da28e-d398-427a-8d3f-6f51ba1ab8ac/diags/hdf5/",
     "output_type": "error",
     "traceback": [
      "\u001b[0;31m---------------------------------------------------------------------------\u001b[0m",
      "\u001b[0;31mError\u001b[0m                                     Traceback (most recent call last)",
      "Cell \u001b[0;32mIn[4], line 1\u001b[0m\n\u001b[0;32m----> 1\u001b[0m \u001b[43mlinac\u001b[49m\u001b[38;5;241;43m.\u001b[39;49m\u001b[43mrun\u001b[49m\u001b[43m(\u001b[49m\u001b[38;5;124;43mf\u001b[39;49m\u001b[38;5;124;43m'\u001b[39;49m\u001b[38;5;124;43mlinac_hipace_RR_\u001b[39;49m\u001b[38;5;132;43;01m{\u001b[39;49;00m\u001b[43mstage\u001b[49m\u001b[38;5;241;43m.\u001b[39;49m\u001b[43mradiation_reaction\u001b[49m\u001b[38;5;132;43;01m}\u001b[39;49;00m\u001b[38;5;124;43m'\u001b[39;49m\u001b[43m,\u001b[49m\u001b[43m \u001b[49m\u001b[43mnum_shots\u001b[49m\u001b[38;5;241;43m=\u001b[39;49m\u001b[43mshots\u001b[49m\u001b[43m,\u001b[49m\u001b[43m \u001b[49m\u001b[43moverwrite\u001b[49m\u001b[38;5;241;43m=\u001b[39;49m\u001b[38;5;28;43;01mTrue\u001b[39;49;00m\u001b[43m,\u001b[49m\u001b[43m \u001b[49m\u001b[43mparallel\u001b[49m\u001b[38;5;241;43m=\u001b[39;49m\u001b[38;5;28;43;01mFalse\u001b[39;49;00m\u001b[43m)\u001b[49m;\n",
      "File \u001b[0;32m/pfs/lustrep2/scratch/project_465000445/kalvik/thesis_scripts/ABEL_scripts/../../ABEL/abel/classes/runnable.py:54\u001b[0m, in \u001b[0;36mRunnable.run\u001b[0;34m(self, run_name, num_shots, savedepth, verbose, overwrite, parallel, max_cores)\u001b[0m\n\u001b[1;32m     50\u001b[0m \u001b[38;5;28;01melse\u001b[39;00m:   \n\u001b[1;32m     51\u001b[0m     \n\u001b[1;32m     52\u001b[0m     \u001b[38;5;66;03m# perform in-series tracking\u001b[39;00m\n\u001b[1;32m     53\u001b[0m     \u001b[38;5;28;01mfor\u001b[39;00m shot \u001b[38;5;129;01min\u001b[39;00m \u001b[38;5;28mrange\u001b[39m(num_shots):\n\u001b[0;32m---> 54\u001b[0m         \u001b[38;5;28;43mself\u001b[39;49m\u001b[38;5;241;43m.\u001b[39;49m\u001b[43mperform_shot\u001b[49m\u001b[43m(\u001b[49m\u001b[43mshot\u001b[49m\u001b[43m)\u001b[49m\n\u001b[1;32m     56\u001b[0m \u001b[38;5;66;03m# return final beam from first shot\u001b[39;00m\n\u001b[1;32m     57\u001b[0m \u001b[38;5;28mself\u001b[39m\u001b[38;5;241m.\u001b[39m\u001b[38;5;18m__dict__\u001b[39m\u001b[38;5;241m.\u001b[39mupdate(\u001b[38;5;28mself\u001b[39m[\u001b[38;5;241m0\u001b[39m]\u001b[38;5;241m.\u001b[39m\u001b[38;5;18m__dict__\u001b[39m)\n",
      "File \u001b[0;32m/pfs/lustrep2/scratch/project_465000445/kalvik/thesis_scripts/ABEL_scripts/../../ABEL/abel/classes/runnable.py:87\u001b[0m, in \u001b[0;36mRunnable.perform_shot\u001b[0;34m(self, shot)\u001b[0m\n\u001b[1;32m     84\u001b[0m     \u001b[38;5;28mprint\u001b[39m(\u001b[38;5;124m'\u001b[39m\u001b[38;5;124m>> SHOT \u001b[39m\u001b[38;5;124m'\u001b[39m \u001b[38;5;241m+\u001b[39m \u001b[38;5;28mstr\u001b[39m(shot\u001b[38;5;241m+\u001b[39m\u001b[38;5;241m1\u001b[39m) \u001b[38;5;241m+\u001b[39m \u001b[38;5;124m'\u001b[39m\u001b[38;5;124m/\u001b[39m\u001b[38;5;124m'\u001b[39m \u001b[38;5;241m+\u001b[39m \u001b[38;5;28mstr\u001b[39m(\u001b[38;5;28mself\u001b[39m\u001b[38;5;241m.\u001b[39mnum_shots), flush\u001b[38;5;241m=\u001b[39m\u001b[38;5;28;01mTrue\u001b[39;00m)\n\u001b[1;32m     86\u001b[0m \u001b[38;5;66;03m#if overwrite_from is None: # TODO\u001b[39;00m\n\u001b[0;32m---> 87\u001b[0m beam \u001b[38;5;241m=\u001b[39m \u001b[38;5;28;43mself\u001b[39;49m\u001b[38;5;241;43m.\u001b[39;49m\u001b[43mtrack\u001b[49m\u001b[43m(\u001b[49m\u001b[43mbeam\u001b[49m\u001b[38;5;241;43m=\u001b[39;49m\u001b[38;5;28;43;01mNone\u001b[39;49;00m\u001b[43m,\u001b[49m\u001b[43m \u001b[49m\u001b[43msavedepth\u001b[49m\u001b[38;5;241;43m=\u001b[39;49m\u001b[38;5;28;43mself\u001b[39;49m\u001b[38;5;241;43m.\u001b[39;49m\u001b[43msavedepth\u001b[49m\u001b[43m,\u001b[49m\u001b[43m \u001b[49m\u001b[43mrunnable\u001b[49m\u001b[38;5;241;43m=\u001b[39;49m\u001b[38;5;28;43mself\u001b[39;49m\u001b[43m,\u001b[49m\u001b[43m \u001b[49m\u001b[43mverbose\u001b[49m\u001b[38;5;241;43m=\u001b[39;49m\u001b[38;5;28;43mself\u001b[39;49m\u001b[38;5;241;43m.\u001b[39;49m\u001b[43mverbose\u001b[49m\u001b[43m)\u001b[49m\n\u001b[1;32m     89\u001b[0m \u001b[38;5;66;03m# save object to file\u001b[39;00m\n\u001b[1;32m     90\u001b[0m \u001b[38;5;28mself\u001b[39m\u001b[38;5;241m.\u001b[39msave()\n",
      "File \u001b[0;32m/pfs/lustrep2/scratch/project_465000445/kalvik/thesis_scripts/ABEL_scripts/../../ABEL/abel/classes/beamline/beamline.py:39\u001b[0m, in \u001b[0;36mBeamline.track\u001b[0;34m(self, beam, savedepth, runnable, verbose)\u001b[0m\n\u001b[1;32m     35\u001b[0m \u001b[38;5;66;03m#self.assemble_trackables()\u001b[39;00m\n\u001b[1;32m     36\u001b[0m \n\u001b[1;32m     37\u001b[0m \u001b[38;5;66;03m# perform element-wise tracking\u001b[39;00m\n\u001b[1;32m     38\u001b[0m \u001b[38;5;28;01mfor\u001b[39;00m trackable \u001b[38;5;129;01min\u001b[39;00m \u001b[38;5;28mself\u001b[39m\u001b[38;5;241m.\u001b[39mtrackables:\n\u001b[0;32m---> 39\u001b[0m     beam \u001b[38;5;241m=\u001b[39m \u001b[43mtrackable\u001b[49m\u001b[38;5;241;43m.\u001b[39;49m\u001b[43mtrack\u001b[49m\u001b[43m(\u001b[49m\u001b[43mbeam\u001b[49m\u001b[43m,\u001b[49m\u001b[43m \u001b[49m\u001b[43msavedepth\u001b[49m\u001b[38;5;241;43m-\u001b[39;49m\u001b[38;5;241;43m1\u001b[39;49m\u001b[43m,\u001b[49m\u001b[43m \u001b[49m\u001b[43mrunnable\u001b[49m\u001b[43m,\u001b[49m\u001b[43m \u001b[49m\u001b[43mverbose\u001b[49m\u001b[43m)\u001b[49m\n\u001b[1;32m     41\u001b[0m \u001b[38;5;28;01mreturn\u001b[39;00m beam\n",
      "File \u001b[0;32m/pfs/lustrep2/scratch/project_465000445/kalvik/thesis_scripts/ABEL_scripts/../../ABEL/abel/classes/stage/impl/stage_hipace.py:146\u001b[0m, in \u001b[0;36mStageHipace.track\u001b[0;34m(self, beam0, savedepth, runnable, verbose)\u001b[0m\n\u001b[1;32m    143\u001b[0m hipace_write_jobscript(filename_job_script, filename_input, num_nodes\u001b[38;5;241m=\u001b[39m\u001b[38;5;28mself\u001b[39m\u001b[38;5;241m.\u001b[39mnum_nodes)\n\u001b[1;32m    145\u001b[0m \u001b[38;5;66;03m# run HiPACE++\u001b[39;00m\n\u001b[0;32m--> 146\u001b[0m beam, driver, test_particle \u001b[38;5;241m=\u001b[39m \u001b[43mhipace_run\u001b[49m\u001b[43m(\u001b[49m\u001b[43mfilename_job_script\u001b[49m\u001b[43m,\u001b[49m\u001b[43m \u001b[49m\u001b[38;5;28;43mself\u001b[39;49m\u001b[38;5;241;43m.\u001b[39;49m\u001b[43mnum_steps\u001b[49m\u001b[43m)\u001b[49m\n\u001b[1;32m    147\u001b[0m \u001b[38;5;28;01mif\u001b[39;00m \u001b[38;5;28mself\u001b[39m\u001b[38;5;241m.\u001b[39mdriver_only:\n\u001b[1;32m    148\u001b[0m     beam \u001b[38;5;241m=\u001b[39m beam0\n",
      "File \u001b[0;32m/pfs/lustrep2/scratch/project_465000445/kalvik/thesis_scripts/ABEL_scripts/../../ABEL/abel/apis/hipace/hipace_api.py:195\u001b[0m, in \u001b[0;36mhipace_run\u001b[0;34m(filename_job_script, num_steps, runfolder, quiet)\u001b[0m\n\u001b[1;32m    193\u001b[0m \u001b[38;5;28;01mexcept\u001b[39;00m:\n\u001b[1;32m    194\u001b[0m     beam \u001b[38;5;241m=\u001b[39m \u001b[38;5;28;01mNone\u001b[39;00m\n\u001b[0;32m--> 195\u001b[0m driver \u001b[38;5;241m=\u001b[39m \u001b[43mBeam\u001b[49m\u001b[38;5;241;43m.\u001b[39;49m\u001b[43mload\u001b[49m\u001b[43m(\u001b[49m\u001b[43mfilename\u001b[49m\u001b[43m,\u001b[49m\u001b[43m \u001b[49m\u001b[43mbeam_name\u001b[49m\u001b[38;5;241;43m=\u001b[39;49m\u001b[38;5;124;43m'\u001b[39;49m\u001b[38;5;124;43mdriver\u001b[39;49m\u001b[38;5;124;43m'\u001b[39;49m\u001b[43m)\u001b[49m\n\u001b[1;32m    197\u001b[0m \u001b[38;5;28;01mtry\u001b[39;00m:\n\u001b[1;32m    198\u001b[0m     test_particle \u001b[38;5;241m=\u001b[39m Beam\u001b[38;5;241m.\u001b[39mload(filename, beam_name\u001b[38;5;241m=\u001b[39m\u001b[38;5;124m'\u001b[39m\u001b[38;5;124mtest_particle\u001b[39m\u001b[38;5;124m'\u001b[39m)\n",
      "File \u001b[0;32m/pfs/lustrep2/scratch/project_465000445/kalvik/thesis_scripts/ABEL_scripts/../../ABEL/abel/classes/beam.py:719\u001b[0m, in \u001b[0;36mBeam.load\u001b[0;34m(_, filename, beam_name)\u001b[0m\n\u001b[1;32m    715\u001b[0m \u001b[38;5;129m@classmethod\u001b[39m\n\u001b[1;32m    716\u001b[0m \u001b[38;5;28;01mdef\u001b[39;00m \u001b[38;5;21mload\u001b[39m(_, filename, beam_name\u001b[38;5;241m=\u001b[39m\u001b[38;5;124m'\u001b[39m\u001b[38;5;124mbeam\u001b[39m\u001b[38;5;124m'\u001b[39m):\n\u001b[1;32m    717\u001b[0m     \n\u001b[1;32m    718\u001b[0m     \u001b[38;5;66;03m# load file\u001b[39;00m\n\u001b[0;32m--> 719\u001b[0m     series \u001b[38;5;241m=\u001b[39m \u001b[43mio\u001b[49m\u001b[38;5;241;43m.\u001b[39;49m\u001b[43mSeries\u001b[49m\u001b[43m(\u001b[49m\u001b[43mfilename\u001b[49m\u001b[43m,\u001b[49m\u001b[43m \u001b[49m\u001b[43mio\u001b[49m\u001b[38;5;241;43m.\u001b[39;49m\u001b[43mAccess\u001b[49m\u001b[38;5;241;43m.\u001b[39;49m\u001b[43mread_only\u001b[49m\u001b[43m)\u001b[49m\n\u001b[1;32m    721\u001b[0m     \u001b[38;5;66;03m# find index (use last one)\u001b[39;00m\n\u001b[1;32m    722\u001b[0m     \u001b[38;5;241m*\u001b[39m_, index \u001b[38;5;241m=\u001b[39m series\u001b[38;5;241m.\u001b[39miterations\n",
      "\u001b[0;31mError\u001b[0m: Read Error in backend HDF5\nObject type:\tFile\nError type:\tInaccessible\nFurther description:\tSupplied directory is not valid: run_data/temp/7e6da28e-d398-427a-8d3f-6f51ba1ab8ac/diags/hdf5/"
     ]
    }
   ],
   "source": [
    "linac.run(f'linac_hipace_RR_{stage.radiation_reaction}', num_shots=shots, overwrite=True, parallel=False);"
   ]
  },
  {
   "cell_type": "code",
   "execution_count": null,
   "id": "abe6477e-5293-46ba-ab16-234ce6ea4019",
   "metadata": {},
   "outputs": [],
   "source": [
    "fig, Ez = linac.stages[0].plot_wake()\n",
    "print(Ez/1e9)"
   ]
  },
  {
   "cell_type": "code",
   "execution_count": null,
   "id": "cb4ddb6d-5565-43e7-82b3-c7d6ad60e35e",
   "metadata": {},
   "outputs": [],
   "source": [
    "fig1, E1 = linac.stages[0].plot_test_particle_evolution()\n",
    "xps, yps = linac.stages[0].test_particle_evolution.xp, linac.stages[0].test_particle_evolution.yp\n",
    "gammas = E1*SI.e/SI.m_e/SI.c**2\n",
    "print(linac.stages[0].test_particle_evolution.x[0])\n",
    "z = np.linspace(0,stage.length, len(E1))\n",
    "#fig1.savefig('Plots/hipace_test_particle_evolution.png', bbox_inches='tight')"
   ]
  },
  {
   "cell_type": "code",
   "execution_count": null,
   "id": "abc43424-3498-45cb-b4b1-4895c8a85252",
   "metadata": {},
   "outputs": [],
   "source": [
    "z, P = lr.larmor_formula(z, xps, yps, gammas)"
   ]
  },
  {
   "cell_type": "code",
   "execution_count": null,
   "id": "d8c5c4f1-6759-43c2-8967-a18fb0d97673",
   "metadata": {},
   "outputs": [],
   "source": [
    "fig = plt.figure(figsize =(8,6))\n",
    "plt.plot(z, P/SI.e/1e9)\n",
    "plt.grid()\n",
    "plt.xlabel('s [m]')\n",
    "plt.ylabel('Radiated Power [GeV/m]')\n",
    "plt.title(f'Radiated Power of a Single Particle in HiPACE++')\n",
    "#fig.savefig(f'Plots/hipace_energy_loss_benchmark_1500_GeV.png')"
   ]
  },
  {
   "cell_type": "code",
   "execution_count": null,
   "id": "7f58c386-0343-45bf-a720-e63047d346bc",
   "metadata": {},
   "outputs": [],
   "source": [
    "## define driver\n",
    "driver = SourceBasic()\n",
    "driver.charge = -2.7e10 * SI.e # [C]\n",
    "driver.energy = 100e9 # [eV]\n",
    "driver.rel_energy_spread = 0.01\n",
    "driver.bunch_length = 50e-6 # [m]\n",
    "driver.z_offset = 580e-6 # [m]\n",
    "driver.emit_nx, driver.emit_ny = 80e-6, 80e-6 # [m rad]\n",
    "driver.beta_x, driver.beta_y = 5, 5 #30e-3, 30e-3 [m]\n",
    "driver.num_particles = 100000\n",
    "driver.jitter.x = 0#2e-7 # [m] 2e-6\n",
    "driver.jitter.y = 0#2e-7 # [m] 100e-9\n",
    "driver.jitter.t = 0 #10e-15 # [m]\n",
    "driver.symmetrize = True\n",
    "driver.seed = 1\n",
    "\n",
    "test_particle = SourceSingleParticle()\n",
    "test_particle.energy = 1500e9 # [eV]\n",
    "test_particle.x_offset = 3e-6/2 # [m]\n",
    "test_particle.y_offset = 3e-6/2 # [m]\n",
    "test_particle.y_angle = 0 #test_particle.x_offset/pp.beta_matched(2e21, test_particle.energy)\n",
    "test_particle.x_angle = 0\n",
    "\n",
    "# define a stage\n",
    "stage = StageHipace()\n",
    "stage.driver_source = driver\n",
    "stage.length = 20 # [m]\n",
    "stage.plasma_density = 2e21 # [m^-3]\n",
    "stage.nom_energy_gain = 31.9e9/(11/stage.length) # [eV]\n",
    "stage.radiation_reaction = False\n",
    "stage.ion_motion = False\n",
    "stage.beam_ionization=False\n",
    "stage.ramp_beta_mag = 5\n",
    "stage.num_nodes = 13\n",
    "stage.test_particle_source = test_particle\n",
    "\n",
    "# define witness bunch\n",
    "witness = SourceBasic()\n",
    "witness.charge = -1e10 * SI.e # [C]\n",
    "witness.energy = 1500e9 # [eV]\n",
    "witness.rel_energy_spread = 0.01\n",
    "witness.bunch_length = 28e-6 # [m]\n",
    "witness.z_offset = 0 # [m]\n",
    "witness.emit_nx, witness.emit_ny = 80e-6, 80e-6 # [m rad]\n",
    "witness.beta_x = stage.matched_beta_function(witness.energy)\n",
    "witness.beta_y = witness.beta_x\n",
    "witness.num_particles = 50000\n",
    "witness.x_offset, witness.y_offset = 0, 0 # [m]\n",
    "witness.jitter.x = 0\n",
    "witness.symmetrize = True\n",
    "witness.seed = driver.seed\n",
    "test_particle.z_offset = witness.z_offset # [m]\n",
    "\n",
    "# beam delivery system\n",
    "bds = BeamDeliverySystemBasic()\n",
    "bds.beta_x, bds.beta_y = 8e-3, 0.4e-3 # [m]\n",
    "bds.bunch_length = 0.75 * bds.beta_y\n",
    "\n",
    "linac2 = Linac()\n",
    "linac2.stage = stage\n",
    "linac2.source = witness\n",
    "linac2.num_stages = 1\n",
    "shots = 1"
   ]
  },
  {
   "cell_type": "code",
   "execution_count": null,
   "id": "f3a673a7-429e-49f1-a64f-857f75c3e786",
   "metadata": {},
   "outputs": [],
   "source": [
    "linac2.run(f'linac_hipace_RR_{stage.radiation_reaction}', num_shots=shots, overwrite=True, parallel=False);"
   ]
  },
  {
   "cell_type": "code",
   "execution_count": null,
   "id": "936cb2ef-051c-4234-8afa-3b4c9d5c8b7a",
   "metadata": {},
   "outputs": [],
   "source": [
    "fig2, E2 = linac2.stages[0].plot_test_particle_evolution()\n",
    "z = np.linspace(0,stage.length, len(E1))\n",
    "#fig2.savefig('hipace_stage_evolution', bbox_inches = 'tight')"
   ]
  },
  {
   "cell_type": "code",
   "execution_count": null,
   "id": "052137eb-9d47-4ade-8401-b528fd6666a8",
   "metadata": {},
   "outputs": [],
   "source": [
    "P_act = np.zeros(E1.size-1)\n",
    "dz = z[1]-z[0]\n",
    "s = np.empty_like(P_act)\n",
    "for i in range(P_act.size):\n",
    "    P_act[i] = ((E2[i+1]-E2[i])-(E1[i+1]-E1[i]))/dz/1e9\n",
    "    s[i] = 1/2*(z[i+1]+z[i])\n",
    "\n",
    "fig = plt.figure()\n",
    "plt.plot(s, E2-E1)\n",
    "plt.title('Energy Loss')\n",
    "plt.xlabel('Location [m]')\n",
    "plt.ylabel('Energy Loss (GeV)')\n",
    "plt.grid()\n",
    "#fig.savefig('Energy_loss_hipace.png', bbox_inches = 'tight')"
   ]
  },
  {
   "cell_type": "code",
   "execution_count": null,
   "id": "69b3b9e6-6ff1-44e0-a715-670baeeb1ab2",
   "metadata": {},
   "outputs": [],
   "source": [
    "print(linac.stages[-1].test_particle_evolution.x[0])"
   ]
  },
  {
   "cell_type": "code",
   "execution_count": null,
   "id": "a994328d-ec20-469a-993e-cd842efe133a",
   "metadata": {},
   "outputs": [],
   "source": [
    "energy_loss_larmor = lr.mean_larmor_formula(z, stage.plasma_density, \\\n",
    "                        E1*SI.e/SI.m_e/SI.c**2, test_particle.x_offset*2, test_particle.y_offset*2)"
   ]
  },
  {
   "cell_type": "code",
   "execution_count": null,
   "id": "07539fa4-2bf9-4091-a654-7ea3b6d6a9c6",
   "metadata": {},
   "outputs": [],
   "source": [
    "plt.plot(z, (E2-E1)/1e9)\n",
    "plt.plot(z, energy_loss_larmor)"
   ]
  },
  {
   "cell_type": "code",
   "execution_count": null,
   "id": "2c192e0f-93ee-4bbf-9860-f21f5e60bf6f",
   "metadata": {},
   "outputs": [],
   "source": []
  }
 ],
 "metadata": {
  "kernelspec": {
   "display_name": "Python 3 (ipykernel)",
   "language": "python",
   "name": "python3"
  },
  "language_info": {
   "codemirror_mode": {
    "name": "ipython",
    "version": 3
   },
   "file_extension": ".py",
   "mimetype": "text/x-python",
   "name": "python",
   "nbconvert_exporter": "python",
   "pygments_lexer": "ipython3",
   "version": "3.9.12"
  }
 },
 "nbformat": 4,
 "nbformat_minor": 5
}
