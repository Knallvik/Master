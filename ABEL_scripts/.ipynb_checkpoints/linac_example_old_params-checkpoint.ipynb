{
 "cells": [
  {
   "cell_type": "markdown",
   "id": "35b4299f-1afc-4fc2-84ef-1af913515b36",
   "metadata": {},
   "source": [
    "# ABEL linac tracking example\n",
    "\n",
    "By Carl A. Lindstrøm (University of Oslo), 8 Sep 2023"
   ]
  },
  {
   "cell_type": "markdown",
   "id": "13270181-9972-4f1f-808a-a86d2e17d53b",
   "metadata": {},
   "source": [
    "### Import ABEL framework"
   ]
  },
  {
   "cell_type": "code",
   "execution_count": null,
   "id": "e290fd8e-eb5a-4a89-90d3-77765398b1c9",
   "metadata": {},
   "outputs": [],
   "source": [
    "import sys\n",
    "sys.path.append('../../ABEL/')\n",
    "from abel import *\n",
    "\n",
    "%load_ext autoreload\n",
    "%autoreload 2"
   ]
  },
  {
   "cell_type": "code",
   "execution_count": null,
   "id": "26f062f7-53a6-4e17-849c-26865e3e27eb",
   "metadata": {},
   "outputs": [],
   "source": [
    "import numpy as np\n",
    "import time\n",
    "import scipy.constants as SI \n",
    "import abel.utilities.plasma_physics as pp\n",
    "import matplotlib.pyplot as plt"
   ]
  },
  {
   "cell_type": "markdown",
   "id": "92996b82-518c-4e23-bf59-56b55f4021f4",
   "metadata": {},
   "source": [
    "### Define the linac and beams"
   ]
  },
  {
   "cell_type": "code",
   "execution_count": null,
   "id": "392dc163-469e-4a0e-b98a-376a5d6eef02",
   "metadata": {},
   "outputs": [],
   "source": [
    "driver = SourceBasic()\n",
    "driver.charge = -2.7e10 * SI.e # [C]\n",
    "driver.energy = 31.25e9 # [eV]/\n",
    "driver.rel_energy_spread = 0.01\n",
    "driver.bunch_length = 42e-6 # [m]\n",
    "driver.z_offset = 300e-6 # [m]\n",
    "driver.emit_nx, driver.emit_ny = 10e-6, 10e-6 # [m rad]\n",
    "driver.beta_x, driver.beta_y = 30e-3, 30e-3 # [m]\n",
    "driver.num_particles = 100000\n",
    "driver.jitter.x = 0e-9 # [m]\n",
    "driver.jitter.y = 0e-9 # [m]\n",
    "driver.symmetrize = True\n",
    "\n",
    "# define stage\n",
    "stage = StageQuasistatic2d()\n",
    "stage.driver_source = driver\n",
    "stage.nom_energy_gain = 31.9e9 # [eV] 31.9e9 \n",
    "stage.length = 5 # [m]\n",
    "stage.plasma_density = 7e21 # [m^-3]\n",
    "stage.ramp_beta_mag = 5\n",
    "stage.enable_radiation_reaction = True\n",
    "stage.save_evolution = False\n",
    "\n",
    "# define first stage (half length)\n",
    "first_stage = StageQuasistatic2d()\n",
    "first_stage.driver_source = stage.driver_source\n",
    "first_stage.nom_energy_gain = stage.nom_energy_gain/2\n",
    "first_stage.length = stage.length/2\n",
    "first_stage.plasma_density = stage.plasma_density\n",
    "first_stage.ramp_beta_mag = stage.ramp_beta_mag\n",
    "first_stage.enable_radiation_reaction = stage.enable_radiation_reaction\n",
    "first_stage.save_evolution = stage.save_evolution\n",
    "\n",
    "# define beam\n",
    "source = SourceBasic()\n",
    "source.charge = -1e10 * SI.e # [C]\n",
    "source.energy = 5e9 # [eV]\n",
    "source.rel_energy_spread = 0.01\n",
    "source.bunch_length = 18e-6 # [m]\n",
    "source.z_offset = -33e-6 # [m]\n",
    "source.emit_nx, source.emit_ny = 160e-6, 0.56e-6 # [m rad]\n",
    "source.beta_x = stage.matched_beta_function(source.energy)\n",
    "print(source.beta_x)\n",
    "source.beta_y = source.beta_x\n",
    "source.num_particles = 1000\n",
    "source.jitter.t = driver.jitter.t\n",
    "source.symmetrize = True\n",
    "\n",
    "# define interstage\n",
    "interstage = InterstageBasic()\n",
    "interstage.beta0 = lambda E: stage.matched_beta_function(E)\n",
    "interstage.dipole_length = lambda E: 1 * np.sqrt(E/10e9) # [m(eV)]\n",
    "interstage.dipole_field = 1.0 # [T]\n",
    "\n",
    "# beam delivery system\n",
    "bds = BeamDeliverySystemBasic()\n",
    "bds.beta_x, bds.beta_y = 8e-3, 0.4e-3 # [m]\n",
    "bds.bunch_length = 0.75 * bds.beta_y\n",
    "\n",
    "# define linac\n",
    "linac = Linac()\n",
    "linac.source = source\n",
    "linac.stage = stage\n",
    "linac.first_stage = first_stage\n",
    "linac.interstage = interstage\n",
    "linac.num_stages = 16\n",
    "shots = 1"
   ]
  },
  {
   "cell_type": "markdown",
   "id": "7c58144f-67e5-4047-b8e1-3cac91160274",
   "metadata": {},
   "source": [
    "### Run simulations"
   ]
  },
  {
   "cell_type": "code",
   "execution_count": null,
   "id": "fb254ebe-bfea-4903-b1a9-e13f833f763c",
   "metadata": {},
   "outputs": [],
   "source": [
    "start = time.time()\n",
    "linac.run(f'linac_example_old_params_RR_{stage.enable_radiation_reaction}_stages_{linac.num_stages}', num_shots=shots, overwrite=True, parallel=False);\n",
    "end = time.time()\n",
    "\n",
    "print((end - start)/60, ' min') # time in minutes"
   ]
  },
  {
   "cell_type": "code",
   "execution_count": null,
   "id": "96f54b46-917f-4fc0-83ef-a48ecff24ebb",
   "metadata": {},
   "outputs": [],
   "source": [
    "rel_spread = linac.get_beam(31).rel_energy_spread()\n",
    "print(rel_spread)"
   ]
  },
  {
   "cell_type": "markdown",
   "id": "be3e5073-4225-461b-ba48-a1046a273183",
   "metadata": {},
   "source": [
    "### Plot the wakefield"
   ]
  },
  {
   "cell_type": "code",
   "execution_count": null,
   "id": "d3e7bf1f-2fb0-493c-851e-e8d54d39b8b1",
   "metadata": {
    "tags": []
   },
   "outputs": [],
   "source": [
    "# plot the first-stage wakefield\n",
    "linac.stages[0].plot_wakefield()"
   ]
  },
  {
   "cell_type": "code",
   "execution_count": null,
   "id": "55cff99f-1b57-4aec-af3a-6e1ed530a8f9",
   "metadata": {},
   "outputs": [],
   "source": [
    "# plot the last-stage wakefield\n",
    "linac.stages[-1].plot_wakefield()"
   ]
  },
  {
   "cell_type": "code",
   "execution_count": null,
   "id": "a1859f02-321c-4983-81b9-b605451a05c6",
   "metadata": {},
   "outputs": [],
   "source": [
    "wake0 = linac.stages[0].plot_wake()\n",
    "wake_final = linac.stages[-1].plot_wake()\n",
    "#wake0.savefig(f'Plots/Old_Params/wake0_old_params_RR_{stage.enable_radiation_reaction}_stages_{linac.num_stages}', bbox_inches='tight')\n",
    "#wake_final.savefig(f'Plots/Old_Params/wake_final_old_params_RR_{stage.enable_radiation_reaction}_stages_{linac.num_stages}', bbox_inches='tight')"
   ]
  },
  {
   "cell_type": "code",
   "execution_count": null,
   "id": "862101d7-e612-40fa-8b6f-12a500044754",
   "metadata": {},
   "outputs": [],
   "source": [
    "#fig = linac.stages[0].plot_evolution()\n",
    "fig_last = linac.stages[-1].plot_evolution()"
   ]
  },
  {
   "cell_type": "markdown",
   "id": "ea2437f9-7cce-4929-839c-a86a4d11f01d",
   "metadata": {},
   "source": [
    "### Plot beam evolution and survey"
   ]
  },
  {
   "cell_type": "code",
   "execution_count": null,
   "id": "2002d963-f266-4bc7-aac7-2fcd94e322ea",
   "metadata": {},
   "outputs": [],
   "source": [
    "# plot linac survey\n",
    "linac.plot_survey()\n",
    "\n",
    "# plot beam evolution\n",
    "beam_evolution = linac.plot_evolution(use_stage_nums=False)\n",
    "#beam_evolution.savefig(f\"Plots/Old_Params/beam_evolution_old_params_RR_{stage.enable_radiation_reaction}\\\n",
    "#_stages_{linac.num_stages}.png\", bbox_inches='tight')\n",
    "\n",
    "linac[0].plot_waterfalls()\n"
   ]
  },
  {
   "cell_type": "code",
   "execution_count": null,
   "id": "af4fe2e7-3433-4c1e-b68c-5237bcdf8958",
   "metadata": {},
   "outputs": [],
   "source": [
    "gif = linac.animate_lps()"
   ]
  },
  {
   "cell_type": "markdown",
   "id": "e4065eff-83a6-4f85-9d13-5ee9dd181f3b",
   "metadata": {},
   "source": [
    "![](run_data/linac_example/plots/lps_shot0.gif)"
   ]
  },
  {
   "cell_type": "code",
   "execution_count": null,
   "id": "5580933f-f654-4cc7-82db-9e9145326b3b",
   "metadata": {},
   "outputs": [],
   "source": [
    "stage_num = 15\n",
    "shot_num = 0\n",
    "stage_tracked = linac[shot_num].stages[stage_num]  # Get a specific acceleration stage in a linac. Zero indexing.\n",
    "beam_out = linac[shot_num].get_beam(stage_num*2+1)  # Get the corresponding beam after the acceleration stage. Zero indexing."
   ]
  },
  {
   "cell_type": "code",
   "execution_count": null,
   "id": "d0da665b-a4dd-424c-abe2-48f668f761eb",
   "metadata": {},
   "outputs": [],
   "source": [
    "stage_tracked.print_current_summary(stage_tracked.drive_beam, linac.initial_beam, beam_out)"
   ]
  },
  {
   "cell_type": "code",
   "execution_count": null,
   "id": "e400fdd1-a859-477d-b4e1-c6fa466fb645",
   "metadata": {},
   "outputs": [],
   "source": []
  }
 ],
 "metadata": {
  "kernelspec": {
   "display_name": "Python 3 (ipykernel)",
   "language": "python",
   "name": "python3"
  },
  "language_info": {
   "codemirror_mode": {
    "name": "ipython",
    "version": 3
   },
   "file_extension": ".py",
   "mimetype": "text/x-python",
   "name": "python",
   "nbconvert_exporter": "python",
   "pygments_lexer": "ipython3",
   "version": "3.9.12"
  }
 },
 "nbformat": 4,
 "nbformat_minor": 5
}
