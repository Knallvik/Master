{
 "cells": [
  {
   "cell_type": "markdown",
   "id": "35b4299f-1afc-4fc2-84ef-1af913515b36",
   "metadata": {},
   "source": [
    "# ABEL linac tracking example\n",
    "\n",
    "By Carl A. Lindstrøm (University of Oslo), 8 Sep 2023"
   ]
  },
  {
   "cell_type": "markdown",
   "id": "13270181-9972-4f1f-808a-a86d2e17d53b",
   "metadata": {},
   "source": [
    "### Import ABEL framework"
   ]
  },
  {
   "cell_type": "code",
   "execution_count": 1,
   "id": "e290fd8e-eb5a-4a89-90d3-77765398b1c9",
   "metadata": {},
   "outputs": [
    {
     "name": "stdout",
     "output_type": "stream",
     "text": [
      "41.91412687301636  sek\n"
     ]
    }
   ],
   "source": [
    "import time\n",
    "start = time.time()\n",
    "\n",
    "import sys\n",
    "sys.path.append('../../ABEL/')\n",
    "from abel import *\n",
    "end = time.time()\n",
    "print(end-start, ' sek')\n",
    "\n",
    "import numpy as np\n",
    "import scipy.constants as SI \n",
    "import abel.utilities.plasma_physics as pp\n",
    "\n",
    "%load_ext autoreload\n",
    "%autoreload 2"
   ]
  },
  {
   "cell_type": "markdown",
   "id": "92996b82-518c-4e23-bf59-56b55f4021f4",
   "metadata": {},
   "source": [
    "### Define the linac and beams"
   ]
  },
  {
   "cell_type": "code",
   "execution_count": 2,
   "id": "392dc163-469e-4a0e-b98a-376a5d6eef02",
   "metadata": {},
   "outputs": [
    {
     "name": "stdout",
     "output_type": "stream",
     "text": [
      "1.0628186523164077e-05\n"
     ]
    }
   ],
   "source": [
    "# define driver\n",
    "driver = SourceBasic()\n",
    "driver.charge = -2.7e10 * SI.e # [C]\n",
    "driver.energy = 31.25e9 # [eV]\n",
    "driver.rel_energy_spread = 0.01\n",
    "driver.bunch_length = 50e-6 # [m]\n",
    "driver.z_offset = 580e-6 # [m]\n",
    "driver.emit_nx, driver.emit_ny = 80e-6, 80e-6 # [m rad]\n",
    "driver.beta_x, driver.beta_y = 5, 5 #30e-3, 30e-3 # [m]\n",
    "driver.num_particles = 100000\n",
    "driver.jitter.x = 0 # [m] 2e-6\n",
    "driver.jitter.y = 0 # [m] 100e-9\n",
    "driver.jitter.t = 0 # 10e-15 # [m]\n",
    "driver.symmetrize = True\n",
    "#drive_beam = driver.track()  # Convert a Source object to a Beam object.  ######\n",
    "\n",
    "\n",
    "# define stage\n",
    "stage = StageQuasistatic2d()\n",
    "#stage = StagePrtclTransWakeInstability()                      #######\n",
    "#stage.drive_beam = drive_beam                                 #######\n",
    "stage.driver_source = driver\n",
    "stage.length = 11 # [m]\n",
    "stage.nom_energy_gain = 31.9e9 # [eV]\n",
    "stage.plasma_density = 2e21 # [m^-3]\n",
    "stage.ramp_beta_mag = 5\n",
    "stage.enable_radiation_reaction = False\n",
    "stage.save_evolution = True\n",
    "if stage.enable_radiation_reaction == False:\n",
    "    stage.save_evolution = False\n",
    "\n",
    "# define first stage (half length)\n",
    "first_stage = StageQuasistatic2d()\n",
    "#first_stage = StagePrtclTransWakeInstability()                      #######\n",
    "#first_stage.drive_beam = drive_beam                                 #######\n",
    "first_stage.driver_source = driver\n",
    "first_stage.nom_energy_gain = stage.nom_energy_gain/2\n",
    "first_stage.length = stage.length/2\n",
    "first_stage.plasma_density = stage.plasma_density\n",
    "first_stage.ramp_beta_mag = stage.ramp_beta_mag\n",
    "first_stage.enable_radiation_reaction = stage.enable_radiation_reaction\n",
    "first_stage.save_evolution = stage.save_evolution\n",
    "\n",
    "# define beam\n",
    "source = SourceBasic()\n",
    "source.charge = -1e10 * SI.e # [C]\n",
    "source.energy = 5e9 # [eV]\n",
    "#source.rel_energy_spread = 0.1\n",
    "source.rel_energy_spread = 0.01\n",
    "source.bunch_length = 28e-6 # [m]\n",
    "source.z_offset = 0e-6 # [m]\n",
    "source.emit_nx, source.emit_ny = 160e-6, 0.56e-6 # [m rad]\n",
    "source.beta_x = stage.matched_beta_function(source.energy)\n",
    "source.beta_y = source.beta_x\n",
    "print(source.beta_x*np.sqrt(source.emit_nx/(source.energy*SI.e/SI.m_e/SI.c**2)))\n",
    "source.num_particles = 50000\n",
    "source.jitter.t = driver.jitter.t\n",
    "source.symmetrize = True\n",
    "beam = source.track()\n",
    "\n",
    "\"\"\"\n",
    "main_gamma = energy2gamma(source.energy)\n",
    "main_sigma_x = np.sqrt(source.emit_nx/main_gamma*source.beta_x)  # [m]\n",
    "main_sigma_y = np.sqrt(source.emit_ny/main_gamma*source.beta_y)  # [m]\n",
    "source.x_offset = main_sigma_x*0.1  # [m]\n",
    "source.y_offset = main_sigma_y*0.1  # [m]\n",
    "\"\"\"\n",
    "# define interstage\n",
    "interstage = InterstageBasic()\n",
    "#interstage = InterstageElegant()\n",
    "interstage.beta0 = lambda E: stage.matched_beta_function(E)\n",
    "interstage.dipole_length = lambda E: 1 * np.sqrt(E/10e9) # [m(eV)]\n",
    "interstage.dipole_field = 1.  # [T]\n",
    "#interstage.dipole_field = lambda E: np.min([1.0, 100e9/E]) # [T]\n",
    "\n",
    "# beam delivery system\n",
    "bds = BeamDeliverySystemBasic()\n",
    "bds.beta_x, bds.beta_y = 8e-3, 0.4e-3 # [m]\n",
    "bds.bunch_length = 0.75 * bds.beta_y\n",
    "\n",
    "# define linac\n",
    "linac = Linac()\n",
    "linac.source = source\n",
    "linac.stage = stage\n",
    "linac.first_stage = first_stage\n",
    "linac.interstage = interstage\n",
    "linac.num_stages: int = 16*3\n",
    "shots = 1"
   ]
  },
  {
   "cell_type": "markdown",
   "id": "7c58144f-67e5-4047-b8e1-3cac91160274",
   "metadata": {},
   "source": [
    "### Run simulations"
   ]
  },
  {
   "cell_type": "code",
   "execution_count": 3,
   "id": "fb254ebe-bfea-4903-b1a9-e13f833f763c",
   "metadata": {},
   "outputs": [
    {
     "name": "stdout",
     "output_type": "stream",
     "text": [
      "Tracking element 1 (SourceBasic, stage 0, s = 0.0 m, 5.0 GeV, -1.60 nC, 1.0% rms, 159.5/0.6 µm-rad)\n",
      "Tracking element 2 (StageQuasistatic2d, stage 1, s = 5.5 m, 21.1 GeV, -1.60 nC, 3.2% rms, 159.5/0.6 µm-rad)\n",
      "Tracking element 3 (InterstageBasic, stage 1, s = 12.4 m, 21.1 GeV, -1.60 nC, 3.2% rms, 159.5/0.6 µm-rad)\n",
      "Tracking element 4 (StageQuasistatic2d, stage 2, s = 23.4 m, 53.0 GeV, -1.60 nC, 1.5% rms, 159.5/0.6 µm-rad)\n",
      "Tracking element 5 (InterstageBasic, stage 2, s = 34.4 m, 53.0 GeV, -1.60 nC, 1.5% rms, 159.5/0.6 µm-rad)\n",
      "Tracking element 6 (StageQuasistatic2d, stage 3, s = 45.4 m, 85.0 GeV, -1.60 nC, 0.8% rms, 159.5/0.6 µm-rad)\n",
      "Tracking element 7 (InterstageBasic, stage 3, s = 59.4 m, 85.0 GeV, -1.60 nC, 0.8% rms, 159.5/0.6 µm-rad)\n"
     ]
    },
    {
     "ename": "KeyboardInterrupt",
     "evalue": "",
     "output_type": "error",
     "traceback": [
      "\u001b[0;31m---------------------------------------------------------------------------\u001b[0m",
      "\u001b[0;31mKeyboardInterrupt\u001b[0m                         Traceback (most recent call last)",
      "Cell \u001b[0;32mIn[3], line 2\u001b[0m\n\u001b[1;32m      1\u001b[0m start \u001b[38;5;241m=\u001b[39m time\u001b[38;5;241m.\u001b[39mtime()\n\u001b[0;32m----> 2\u001b[0m \u001b[43mlinac\u001b[49m\u001b[38;5;241;43m.\u001b[39;49m\u001b[43mrun\u001b[49m\u001b[43m(\u001b[49m\u001b[38;5;124;43mf\u001b[39;49m\u001b[38;5;124;43m'\u001b[39;49m\u001b[38;5;124;43mlinac_example_new_solver_RR_\u001b[39;49m\u001b[38;5;132;43;01m{\u001b[39;49;00m\u001b[43mstage\u001b[49m\u001b[38;5;241;43m.\u001b[39;49m\u001b[43menable_radiation_reaction\u001b[49m\u001b[38;5;132;43;01m}\u001b[39;49;00m\u001b[38;5;124;43m_stages_\u001b[39;49m\u001b[38;5;132;43;01m{\u001b[39;49;00m\u001b[43mlinac\u001b[49m\u001b[38;5;241;43m.\u001b[39;49m\u001b[43mnum_stages\u001b[49m\u001b[38;5;132;43;01m}\u001b[39;49;00m\u001b[38;5;124;43m'\u001b[39;49m\u001b[43m,\u001b[49m\u001b[43m \u001b[49m\u001b[43mnum_shots\u001b[49m\u001b[38;5;241;43m=\u001b[39;49m\u001b[43mshots\u001b[49m\u001b[43m,\u001b[49m\u001b[43m \u001b[49m\u001b[43moverwrite\u001b[49m\u001b[38;5;241;43m=\u001b[39;49m\u001b[38;5;28;43;01mFalse\u001b[39;49;00m\u001b[43m,\u001b[49m\u001b[43m \u001b[49m\u001b[43mparallel\u001b[49m\u001b[38;5;241;43m=\u001b[39;49m\u001b[38;5;28;43;01mFalse\u001b[39;49;00m\u001b[43m)\u001b[49m;\n\u001b[1;32m      3\u001b[0m end \u001b[38;5;241m=\u001b[39m time\u001b[38;5;241m.\u001b[39mtime()\n\u001b[1;32m      5\u001b[0m \u001b[38;5;28mprint\u001b[39m((end \u001b[38;5;241m-\u001b[39m start)\u001b[38;5;241m/\u001b[39m\u001b[38;5;241m60\u001b[39m, \u001b[38;5;124m'\u001b[39m\u001b[38;5;124m min\u001b[39m\u001b[38;5;124m'\u001b[39m) \u001b[38;5;66;03m# time in minutes\u001b[39;00m\n",
      "File \u001b[0;32m/pfs/lustrep2/scratch/project_465000445/kalvik/thesis_scripts/ABEL_scripts/../../ABEL/abel/classes/runnable.py:54\u001b[0m, in \u001b[0;36mRunnable.run\u001b[0;34m(self, run_name, num_shots, savedepth, verbose, overwrite, parallel, max_cores)\u001b[0m\n\u001b[1;32m     50\u001b[0m \u001b[38;5;28;01melse\u001b[39;00m:   \n\u001b[1;32m     51\u001b[0m     \n\u001b[1;32m     52\u001b[0m     \u001b[38;5;66;03m# perform in-series tracking\u001b[39;00m\n\u001b[1;32m     53\u001b[0m     \u001b[38;5;28;01mfor\u001b[39;00m shot \u001b[38;5;129;01min\u001b[39;00m \u001b[38;5;28mrange\u001b[39m(num_shots):\n\u001b[0;32m---> 54\u001b[0m         \u001b[38;5;28;43mself\u001b[39;49m\u001b[38;5;241;43m.\u001b[39;49m\u001b[43mperform_shot\u001b[49m\u001b[43m(\u001b[49m\u001b[43mshot\u001b[49m\u001b[43m)\u001b[49m\n\u001b[1;32m     56\u001b[0m \u001b[38;5;66;03m# return final beam from first shot\u001b[39;00m\n\u001b[1;32m     57\u001b[0m \u001b[38;5;28mself\u001b[39m\u001b[38;5;241m.\u001b[39m\u001b[38;5;18m__dict__\u001b[39m\u001b[38;5;241m.\u001b[39mupdate(\u001b[38;5;28mself\u001b[39m[\u001b[38;5;241m0\u001b[39m]\u001b[38;5;241m.\u001b[39m\u001b[38;5;18m__dict__\u001b[39m)\n",
      "File \u001b[0;32m/pfs/lustrep2/scratch/project_465000445/kalvik/thesis_scripts/ABEL_scripts/../../ABEL/abel/classes/runnable.py:87\u001b[0m, in \u001b[0;36mRunnable.perform_shot\u001b[0;34m(self, shot)\u001b[0m\n\u001b[1;32m     84\u001b[0m     \u001b[38;5;28mprint\u001b[39m(\u001b[38;5;124m'\u001b[39m\u001b[38;5;124m>> SHOT \u001b[39m\u001b[38;5;124m'\u001b[39m \u001b[38;5;241m+\u001b[39m \u001b[38;5;28mstr\u001b[39m(shot\u001b[38;5;241m+\u001b[39m\u001b[38;5;241m1\u001b[39m) \u001b[38;5;241m+\u001b[39m \u001b[38;5;124m'\u001b[39m\u001b[38;5;124m/\u001b[39m\u001b[38;5;124m'\u001b[39m \u001b[38;5;241m+\u001b[39m \u001b[38;5;28mstr\u001b[39m(\u001b[38;5;28mself\u001b[39m\u001b[38;5;241m.\u001b[39mnum_shots), flush\u001b[38;5;241m=\u001b[39m\u001b[38;5;28;01mTrue\u001b[39;00m)\n\u001b[1;32m     86\u001b[0m \u001b[38;5;66;03m#if overwrite_from is None: # TODO\u001b[39;00m\n\u001b[0;32m---> 87\u001b[0m beam \u001b[38;5;241m=\u001b[39m \u001b[38;5;28;43mself\u001b[39;49m\u001b[38;5;241;43m.\u001b[39;49m\u001b[43mtrack\u001b[49m\u001b[43m(\u001b[49m\u001b[43mbeam\u001b[49m\u001b[38;5;241;43m=\u001b[39;49m\u001b[38;5;28;43;01mNone\u001b[39;49;00m\u001b[43m,\u001b[49m\u001b[43m \u001b[49m\u001b[43msavedepth\u001b[49m\u001b[38;5;241;43m=\u001b[39;49m\u001b[38;5;28;43mself\u001b[39;49m\u001b[38;5;241;43m.\u001b[39;49m\u001b[43msavedepth\u001b[49m\u001b[43m,\u001b[49m\u001b[43m \u001b[49m\u001b[43mrunnable\u001b[49m\u001b[38;5;241;43m=\u001b[39;49m\u001b[38;5;28;43mself\u001b[39;49m\u001b[43m,\u001b[49m\u001b[43m \u001b[49m\u001b[43mverbose\u001b[49m\u001b[38;5;241;43m=\u001b[39;49m\u001b[38;5;28;43mself\u001b[39;49m\u001b[38;5;241;43m.\u001b[39;49m\u001b[43mverbose\u001b[49m\u001b[43m)\u001b[49m\n\u001b[1;32m     89\u001b[0m \u001b[38;5;66;03m# save object to file\u001b[39;00m\n\u001b[1;32m     90\u001b[0m \u001b[38;5;28mself\u001b[39m\u001b[38;5;241m.\u001b[39msave()\n",
      "File \u001b[0;32m/pfs/lustrep2/scratch/project_465000445/kalvik/thesis_scripts/ABEL_scripts/../../ABEL/abel/classes/beamline/beamline.py:36\u001b[0m, in \u001b[0;36mBeamline.track\u001b[0;34m(self, beam, savedepth, runnable, verbose)\u001b[0m\n\u001b[1;32m     34\u001b[0m \u001b[38;5;66;03m# perform element-wise tracking\u001b[39;00m\n\u001b[1;32m     35\u001b[0m \u001b[38;5;28;01mfor\u001b[39;00m trackable \u001b[38;5;129;01min\u001b[39;00m \u001b[38;5;28mself\u001b[39m\u001b[38;5;241m.\u001b[39mtrackables:\n\u001b[0;32m---> 36\u001b[0m     beam \u001b[38;5;241m=\u001b[39m \u001b[43mtrackable\u001b[49m\u001b[38;5;241;43m.\u001b[39;49m\u001b[43mtrack\u001b[49m\u001b[43m(\u001b[49m\u001b[43mbeam\u001b[49m\u001b[43m,\u001b[49m\u001b[43m \u001b[49m\u001b[43msavedepth\u001b[49m\u001b[38;5;241;43m-\u001b[39;49m\u001b[38;5;241;43m1\u001b[39;49m\u001b[43m,\u001b[49m\u001b[43m \u001b[49m\u001b[43mrunnable\u001b[49m\u001b[43m,\u001b[49m\u001b[43m \u001b[49m\u001b[43mverbose\u001b[49m\u001b[43m)\u001b[49m\n\u001b[1;32m     38\u001b[0m \u001b[38;5;28;01mreturn\u001b[39;00m beam\n",
      "File \u001b[0;32m/pfs/lustrep2/scratch/project_465000445/kalvik/thesis_scripts/ABEL_scripts/../../ABEL/abel/classes/stage/impl/stage_quasistatic_2d.py:79\u001b[0m, in \u001b[0;36mStageQuasistatic2d.track\u001b[0;34m(self, beam0, savedepth, runnable, verbose)\u001b[0m\n\u001b[1;32m     77\u001b[0m \u001b[38;5;66;03m# perform tracking\u001b[39;00m\n\u001b[1;32m     78\u001b[0m \u001b[38;5;28;01mwith\u001b[39;00m suppress_stdout():\n\u001b[0;32m---> 79\u001b[0m     bunches \u001b[38;5;241m=\u001b[39m \u001b[43mplasma\u001b[49m\u001b[38;5;241;43m.\u001b[39;49m\u001b[43mtrack\u001b[49m\u001b[43m(\u001b[49m\u001b[43m[\u001b[49m\u001b[43mdriver0_wake_t\u001b[49m\u001b[43m,\u001b[49m\u001b[43m \u001b[49m\u001b[43mbeam0_wake_t\u001b[49m\u001b[43m]\u001b[49m\u001b[43m,\u001b[49m\u001b[43m \u001b[49m\u001b[43mopmd_diag\u001b[49m\u001b[38;5;241;43m=\u001b[39;49m\u001b[38;5;28;43;01mTrue\u001b[39;49;00m\u001b[43m,\u001b[49m\u001b[43m \u001b[49m\u001b[43mdiag_dir\u001b[49m\u001b[38;5;241;43m=\u001b[39;49m\u001b[43mtmpfolder\u001b[49m\u001b[43m)\u001b[49m\n\u001b[1;32m     81\u001b[0m \u001b[38;5;66;03m# convert back to ABEL beams\u001b[39;00m\n\u001b[1;32m     82\u001b[0m beam \u001b[38;5;241m=\u001b[39m wake_t_bunch2beam(bunches[\u001b[38;5;241m1\u001b[39m][\u001b[38;5;241m-\u001b[39m\u001b[38;5;241m1\u001b[39m])\n",
      "File \u001b[0;32m/pfs/lustrep2/scratch/project_465000445/kalvik/master_kalvik/lib/python3.9/site-packages/wake_t/beamline_elements/field_element.py:119\u001b[0m, in \u001b[0;36mFieldElement.track\u001b[0;34m(self, bunches, opmd_diag, diag_dir)\u001b[0m\n\u001b[1;32m    106\u001b[0m tracker \u001b[38;5;241m=\u001b[39m Tracker(\n\u001b[1;32m    107\u001b[0m     t_final\u001b[38;5;241m=\u001b[39m\u001b[38;5;28mself\u001b[39m\u001b[38;5;241m.\u001b[39mlength\u001b[38;5;241m/\u001b[39mct\u001b[38;5;241m.\u001b[39mc,\n\u001b[1;32m    108\u001b[0m     bunches\u001b[38;5;241m=\u001b[39mbunches,\n\u001b[0;32m   (...)\u001b[0m\n\u001b[1;32m    115\u001b[0m     section_name\u001b[38;5;241m=\u001b[39m\u001b[38;5;28mself\u001b[39m\u001b[38;5;241m.\u001b[39mname\n\u001b[1;32m    116\u001b[0m )\n\u001b[1;32m    118\u001b[0m \u001b[38;5;66;03m# Do tracking.\u001b[39;00m\n\u001b[0;32m--> 119\u001b[0m bunch_list \u001b[38;5;241m=\u001b[39m \u001b[43mtracker\u001b[49m\u001b[38;5;241;43m.\u001b[39;49m\u001b[43mdo_tracking\u001b[49m\u001b[43m(\u001b[49m\u001b[43m)\u001b[49m\n\u001b[1;32m    121\u001b[0m \u001b[38;5;66;03m# If only tracking one bunch, do not return list of lists.\u001b[39;00m\n\u001b[1;32m    122\u001b[0m \u001b[38;5;28;01mif\u001b[39;00m \u001b[38;5;28mlen\u001b[39m(bunch_list) \u001b[38;5;241m==\u001b[39m \u001b[38;5;241m1\u001b[39m:\n",
      "File \u001b[0;32m/pfs/lustrep2/scratch/project_465000445/kalvik/master_kalvik/lib/python3.9/site-packages/wake_t/tracking/tracker.py:133\u001b[0m, in \u001b[0;36mTracker.do_tracking\u001b[0;34m(self)\u001b[0m\n\u001b[1;32m    131\u001b[0m \u001b[38;5;66;03m# Calculate fields at t=0.\u001b[39;00m\n\u001b[1;32m    132\u001b[0m \u001b[38;5;28;01mfor\u001b[39;00m field \u001b[38;5;129;01min\u001b[39;00m \u001b[38;5;28mself\u001b[39m\u001b[38;5;241m.\u001b[39mnum_fields:\n\u001b[0;32m--> 133\u001b[0m     \u001b[43mfield\u001b[49m\u001b[38;5;241;43m.\u001b[39;49m\u001b[43mupdate\u001b[49m\u001b[43m(\u001b[49m\u001b[38;5;28;43mself\u001b[39;49m\u001b[38;5;241;43m.\u001b[39;49m\u001b[43mbunches\u001b[49m\u001b[43m)\u001b[49m\n\u001b[1;32m    135\u001b[0m \u001b[38;5;66;03m# Generate initial diagnostics.\u001b[39;00m\n\u001b[1;32m    136\u001b[0m \u001b[38;5;28mself\u001b[39m\u001b[38;5;241m.\u001b[39mgenerate_diagnostics()\n",
      "File \u001b[0;32m/pfs/lustrep2/scratch/project_465000445/kalvik/master_kalvik/lib/python3.9/site-packages/wake_t/fields/numerical_field.py:66\u001b[0m, in \u001b[0;36mNumericalField.update\u001b[0;34m(self, bunches)\u001b[0m\n\u001b[1;32m     64\u001b[0m \u001b[38;5;28;01melse\u001b[39;00m:\n\u001b[1;32m     65\u001b[0m     \u001b[38;5;28mself\u001b[39m\u001b[38;5;241m.\u001b[39mevolve_properties(bunches)\n\u001b[0;32m---> 66\u001b[0m \u001b[38;5;28;43mself\u001b[39;49m\u001b[38;5;241;43m.\u001b[39;49m\u001b[43mcalculate_field\u001b[49m\u001b[43m(\u001b[49m\u001b[43mbunches\u001b[49m\u001b[43m)\u001b[49m\n",
      "File \u001b[0;32m/pfs/lustrep2/scratch/project_465000445/kalvik/master_kalvik/lib/python3.9/site-packages/wake_t/fields/numerical_field.py:90\u001b[0m, in \u001b[0;36mNumericalField.calculate_field\u001b[0;34m(self, bunches)\u001b[0m\n\u001b[1;32m     85\u001b[0m \u001b[38;5;28;01mdef\u001b[39;00m \u001b[38;5;21mcalculate_field\u001b[39m(\n\u001b[1;32m     86\u001b[0m     \u001b[38;5;28mself\u001b[39m,\n\u001b[1;32m     87\u001b[0m     bunches: List[ParticleBunch]\n\u001b[1;32m     88\u001b[0m ) \u001b[38;5;241m-\u001b[39m\u001b[38;5;241m>\u001b[39m \u001b[38;5;28;01mNone\u001b[39;00m:\n\u001b[1;32m     89\u001b[0m \u001b[38;5;250m    \u001b[39m\u001b[38;5;124;03m\"\"\"Calculate field using the current properties and given bunches.\"\"\"\u001b[39;00m\n\u001b[0;32m---> 90\u001b[0m     \u001b[38;5;28;43mself\u001b[39;49m\u001b[38;5;241;43m.\u001b[39;49m\u001b[43m_calculate_field\u001b[49m\u001b[43m(\u001b[49m\u001b[43mbunches\u001b[49m\u001b[43m)\u001b[49m\n",
      "File \u001b[0;32m/pfs/lustrep2/scratch/project_465000445/kalvik/master_kalvik/lib/python3.9/site-packages/wake_t/fields/rz_wakefield.py:143\u001b[0m, in \u001b[0;36mRZWakefield._calculate_field\u001b[0;34m(self, bunches)\u001b[0m\n\u001b[1;32m    141\u001b[0m \u001b[38;5;28mself\u001b[39m\u001b[38;5;241m.\u001b[39me_r[:] \u001b[38;5;241m=\u001b[39m \u001b[38;5;241m0.\u001b[39m\n\u001b[1;32m    142\u001b[0m \u001b[38;5;28mself\u001b[39m\u001b[38;5;241m.\u001b[39mb_t[:] \u001b[38;5;241m=\u001b[39m \u001b[38;5;241m0.\u001b[39m\n\u001b[0;32m--> 143\u001b[0m \u001b[38;5;28;43mself\u001b[39;49m\u001b[38;5;241;43m.\u001b[39;49m\u001b[43m_calculate_wakefield\u001b[49m\u001b[43m(\u001b[49m\u001b[43mbunches\u001b[49m\u001b[43m)\u001b[49m\n",
      "File \u001b[0;32m/pfs/lustrep2/scratch/project_465000445/kalvik/master_kalvik/lib/python3.9/site-packages/wake_t/physics_models/plasma_wakefields/qs_rz_baxevanis/wakefield.py:179\u001b[0m, in \u001b[0;36mQuasistatic2DWakefield._calculate_wakefield\u001b[0;34m(self, bunches)\u001b[0m\n\u001b[1;32m    176\u001b[0m     a_env_2 \u001b[38;5;241m=\u001b[39m np\u001b[38;5;241m.\u001b[39mzeros((\u001b[38;5;28mself\u001b[39m\u001b[38;5;241m.\u001b[39mn_xi, \u001b[38;5;28mself\u001b[39m\u001b[38;5;241m.\u001b[39mn_r))\n\u001b[1;32m    178\u001b[0m \u001b[38;5;66;03m# Calculate plasma wakefields\u001b[39;00m\n\u001b[0;32m--> 179\u001b[0m \u001b[43mcalculate_wakefields\u001b[49m\u001b[43m(\u001b[49m\n\u001b[1;32m    180\u001b[0m \u001b[43m    \u001b[49m\u001b[43ma_env_2\u001b[49m\u001b[43m,\u001b[49m\u001b[43m \u001b[49m\u001b[43mbunches\u001b[49m\u001b[43m,\u001b[49m\u001b[43m \u001b[49m\u001b[38;5;28;43mself\u001b[39;49m\u001b[38;5;241;43m.\u001b[39;49m\u001b[43mr_max\u001b[49m\u001b[43m,\u001b[49m\u001b[43m \u001b[49m\u001b[38;5;28;43mself\u001b[39;49m\u001b[38;5;241;43m.\u001b[39;49m\u001b[43mxi_min\u001b[49m\u001b[43m,\u001b[49m\u001b[43m \u001b[49m\u001b[38;5;28;43mself\u001b[39;49m\u001b[38;5;241;43m.\u001b[39;49m\u001b[43mxi_max\u001b[49m\u001b[43m,\u001b[49m\n\u001b[1;32m    181\u001b[0m \u001b[43m    \u001b[49m\u001b[38;5;28;43mself\u001b[39;49m\u001b[38;5;241;43m.\u001b[39;49m\u001b[43mn_r\u001b[49m\u001b[43m,\u001b[49m\u001b[43m \u001b[49m\u001b[38;5;28;43mself\u001b[39;49m\u001b[38;5;241;43m.\u001b[39;49m\u001b[43mn_xi\u001b[49m\u001b[43m,\u001b[49m\u001b[43m \u001b[49m\u001b[38;5;28;43mself\u001b[39;49m\u001b[38;5;241;43m.\u001b[39;49m\u001b[43mppc\u001b[49m\u001b[43m,\u001b[49m\u001b[43m \u001b[49m\u001b[38;5;28;43mself\u001b[39;49m\u001b[38;5;241;43m.\u001b[39;49m\u001b[43mn_p\u001b[49m\u001b[43m,\u001b[49m\n\u001b[1;32m    182\u001b[0m \u001b[43m    \u001b[49m\u001b[43mr_max_plasma\u001b[49m\u001b[38;5;241;43m=\u001b[39;49m\u001b[38;5;28;43mself\u001b[39;49m\u001b[38;5;241;43m.\u001b[39;49m\u001b[43mr_max_plasma\u001b[49m\u001b[43m,\u001b[49m\n\u001b[1;32m    183\u001b[0m \u001b[43m    \u001b[49m\u001b[43mparabolic_coefficient\u001b[49m\u001b[38;5;241;43m=\u001b[39;49m\u001b[43mparabolic_coefficient\u001b[49m\u001b[43m,\u001b[49m\n\u001b[1;32m    184\u001b[0m \u001b[43m    \u001b[49m\u001b[43mp_shape\u001b[49m\u001b[38;5;241;43m=\u001b[39;49m\u001b[38;5;28;43mself\u001b[39;49m\u001b[38;5;241;43m.\u001b[39;49m\u001b[43mp_shape\u001b[49m\u001b[43m,\u001b[49m\u001b[43m \u001b[49m\u001b[43mmax_gamma\u001b[49m\u001b[38;5;241;43m=\u001b[39;49m\u001b[38;5;28;43mself\u001b[39;49m\u001b[38;5;241;43m.\u001b[39;49m\u001b[43mmax_gamma\u001b[49m\u001b[43m,\u001b[49m\n\u001b[1;32m    185\u001b[0m \u001b[43m    \u001b[49m\u001b[43mplasma_pusher\u001b[49m\u001b[38;5;241;43m=\u001b[39;49m\u001b[38;5;28;43mself\u001b[39;49m\u001b[38;5;241;43m.\u001b[39;49m\u001b[43mplasma_pusher\u001b[49m\u001b[43m,\u001b[49m\n\u001b[1;32m    186\u001b[0m \u001b[43m    \u001b[49m\u001b[43mfld_arrays\u001b[49m\u001b[38;5;241;43m=\u001b[39;49m\u001b[43m[\u001b[49m\u001b[38;5;28;43mself\u001b[39;49m\u001b[38;5;241;43m.\u001b[39;49m\u001b[43mrho\u001b[49m\u001b[43m,\u001b[49m\u001b[43m \u001b[49m\u001b[38;5;28;43mself\u001b[39;49m\u001b[38;5;241;43m.\u001b[39;49m\u001b[43mchi\u001b[49m\u001b[43m,\u001b[49m\u001b[43m \u001b[49m\u001b[38;5;28;43mself\u001b[39;49m\u001b[38;5;241;43m.\u001b[39;49m\u001b[43me_r\u001b[49m\u001b[43m,\u001b[49m\u001b[43m \u001b[49m\u001b[38;5;28;43mself\u001b[39;49m\u001b[38;5;241;43m.\u001b[39;49m\u001b[43me_z\u001b[49m\u001b[43m,\u001b[49m\u001b[43m \u001b[49m\u001b[38;5;28;43mself\u001b[39;49m\u001b[38;5;241;43m.\u001b[39;49m\u001b[43mb_t\u001b[49m\u001b[43m,\u001b[49m\n\u001b[1;32m    187\u001b[0m \u001b[43m                \u001b[49m\u001b[38;5;28;43mself\u001b[39;49m\u001b[38;5;241;43m.\u001b[39;49m\u001b[43mxi_fld\u001b[49m\u001b[43m,\u001b[49m\u001b[43m \u001b[49m\u001b[38;5;28;43mself\u001b[39;49m\u001b[38;5;241;43m.\u001b[39;49m\u001b[43mr_fld\u001b[49m\u001b[43m]\u001b[49m\u001b[43m)\u001b[49m\n",
      "File \u001b[0;32m/pfs/lustrep2/scratch/project_465000445/kalvik/master_kalvik/lib/python3.9/site-packages/wake_t/physics_models/plasma_wakefields/qs_rz_baxevanis/solver.py:123\u001b[0m, in \u001b[0;36mcalculate_wakefields\u001b[0;34m(laser_a2, bunches, r_max, xi_min, xi_max, n_r, n_xi, ppc, n_p, r_max_plasma, parabolic_coefficient, p_shape, max_gamma, plasma_pusher, fld_arrays)\u001b[0m\n\u001b[1;32m    118\u001b[0m     calculate_beam_source(bunch, n_p, n_r, n_xi, r_fld[\u001b[38;5;241m0\u001b[39m], xi_fld[\u001b[38;5;241m0\u001b[39m],\n\u001b[1;32m    119\u001b[0m                           dr, dxi, p_shape, b_t_beam)\n\u001b[1;32m    121\u001b[0m \u001b[38;5;66;03m# Evolve plasma from right to left and calculate psi, b_t_bar, rho and\u001b[39;00m\n\u001b[1;32m    122\u001b[0m \u001b[38;5;66;03m# chi on a grid.\u001b[39;00m\n\u001b[0;32m--> 123\u001b[0m \u001b[43mevolve_plasma_and_calculate_fields\u001b[49m\u001b[43m(\u001b[49m\n\u001b[1;32m    124\u001b[0m \u001b[43m    \u001b[49m\u001b[43mpp\u001b[49m\u001b[43m,\u001b[49m\u001b[43m \u001b[49m\u001b[43ma2\u001b[49m\u001b[43m,\u001b[49m\u001b[43m \u001b[49m\u001b[43mnabla_a2\u001b[49m\u001b[43m,\u001b[49m\u001b[43m \u001b[49m\u001b[43mb_t_beam\u001b[49m\u001b[43m,\u001b[49m\u001b[43m \u001b[49m\u001b[43mpsi\u001b[49m\u001b[43m,\u001b[49m\u001b[43m \u001b[49m\u001b[43mb_t_bar\u001b[49m\u001b[43m,\u001b[49m\u001b[43m \u001b[49m\u001b[43mrho\u001b[49m\u001b[43m,\u001b[49m\u001b[43m \u001b[49m\u001b[43mchi\u001b[49m\u001b[43m,\u001b[49m\n\u001b[1;32m    125\u001b[0m \u001b[43m    \u001b[49m\u001b[43mxi_fld\u001b[49m\u001b[43m,\u001b[49m\u001b[43m \u001b[49m\u001b[43mr_fld\u001b[49m\u001b[43m,\u001b[49m\u001b[43m \u001b[49m\u001b[43mdxi\u001b[49m\u001b[43m,\u001b[49m\u001b[43m \u001b[49m\u001b[43mdr\u001b[49m\u001b[43m,\u001b[49m\u001b[43m \u001b[49m\u001b[43mn_xi\u001b[49m\u001b[43m,\u001b[49m\u001b[43m \u001b[49m\u001b[43mn_r\u001b[49m\u001b[43m,\u001b[49m\n\u001b[1;32m    126\u001b[0m \u001b[43m    \u001b[49m\u001b[43mmax_gamma\u001b[49m\u001b[43m,\u001b[49m\u001b[43m \u001b[49m\u001b[43mp_shape\u001b[49m\u001b[43m,\u001b[49m\u001b[43m \u001b[49m\u001b[43mplasma_pusher\u001b[49m\u001b[43m)\u001b[49m\n\u001b[1;32m    128\u001b[0m \u001b[38;5;66;03m# Calculate derived fields (E_z, W_r, and E_r).\u001b[39;00m\n\u001b[1;32m    129\u001b[0m E_0 \u001b[38;5;241m=\u001b[39m ge\u001b[38;5;241m.\u001b[39mplasma_cold_non_relativisct_wave_breaking_field(n_p\u001b[38;5;241m*\u001b[39m\u001b[38;5;241m1e-6\u001b[39m)\n",
      "File \u001b[0;32m/pfs/lustrep2/scratch/project_465000445/kalvik/master_kalvik/lib/python3.9/site-packages/wake_t/physics_models/plasma_wakefields/qs_rz_baxevanis/solver.py:185\u001b[0m, in \u001b[0;36mevolve_plasma_and_calculate_fields\u001b[0;34m(pp, a2, nabla_a2, b_t_0, psi, b_t_bar, rho, chi, xi_fld, r_fld, dxi, dr, n_xi, n_r, max_gamma, p_shape, plasma_pusher)\u001b[0m\n\u001b[1;32m    183\u001b[0m \u001b[38;5;28;01melif\u001b[39;00m plasma_pusher \u001b[38;5;241m==\u001b[39m \u001b[38;5;124m'\u001b[39m\u001b[38;5;124mrk4\u001b[39m\u001b[38;5;124m'\u001b[39m:\n\u001b[1;32m    184\u001b[0m     dr_arrays, dpr_arrays \u001b[38;5;241m=\u001b[39m pp\u001b[38;5;241m.\u001b[39mget_rk4_arrays()\n\u001b[0;32m--> 185\u001b[0m     \u001b[43mcalculate_with_rk4\u001b[49m\u001b[43m(\u001b[49m\n\u001b[1;32m    186\u001b[0m \u001b[43m        \u001b[49m\u001b[43mpp\u001b[49m\u001b[38;5;241;43m.\u001b[39;49m\u001b[43mr\u001b[49m\u001b[43m,\u001b[49m\u001b[43m \u001b[49m\u001b[43mpp\u001b[49m\u001b[38;5;241;43m.\u001b[39;49m\u001b[43mpr\u001b[49m\u001b[43m,\u001b[49m\u001b[43m \u001b[49m\u001b[43mpp\u001b[49m\u001b[38;5;241;43m.\u001b[39;49m\u001b[43mpz\u001b[49m\u001b[43m,\u001b[49m\u001b[43m \u001b[49m\u001b[43mpp\u001b[49m\u001b[38;5;241;43m.\u001b[39;49m\u001b[43mgamma\u001b[49m\u001b[43m,\u001b[49m\u001b[43m \u001b[49m\u001b[43mpp\u001b[49m\u001b[38;5;241;43m.\u001b[39;49m\u001b[43mq\u001b[49m\u001b[43m,\u001b[49m\n\u001b[1;32m    187\u001b[0m \u001b[43m        \u001b[49m\u001b[43mpp\u001b[49m\u001b[38;5;241;43m.\u001b[39;49m\u001b[43mr_max_plasma\u001b[49m\u001b[43m,\u001b[49m\u001b[43m \u001b[49m\u001b[43mpp\u001b[49m\u001b[38;5;241;43m.\u001b[39;49m\u001b[43mdr_p\u001b[49m\u001b[43m,\u001b[49m\u001b[43m \u001b[49m\u001b[43mpp\u001b[49m\u001b[38;5;241;43m.\u001b[39;49m\u001b[43mparabolic_coefficient\u001b[49m\u001b[43m,\u001b[49m\n\u001b[1;32m    188\u001b[0m \u001b[43m        \u001b[49m\u001b[43ma2\u001b[49m\u001b[43m,\u001b[49m\u001b[43m \u001b[49m\u001b[43mnabla_a2\u001b[49m\u001b[43m,\u001b[49m\u001b[43m \u001b[49m\u001b[43mb_t_0\u001b[49m\u001b[43m,\u001b[49m\u001b[43m \u001b[49m\u001b[43mpsi\u001b[49m\u001b[43m,\u001b[49m\u001b[43m \u001b[49m\u001b[43mb_t_bar\u001b[49m\u001b[43m,\u001b[49m\u001b[43m \u001b[49m\u001b[43mrho\u001b[49m\u001b[43m,\u001b[49m\u001b[43m \u001b[49m\u001b[43mchi\u001b[49m\u001b[43m,\u001b[49m\n\u001b[1;32m    189\u001b[0m \u001b[43m        \u001b[49m\u001b[43mxi_fld\u001b[49m\u001b[43m,\u001b[49m\u001b[43m \u001b[49m\u001b[43mr_fld\u001b[49m\u001b[43m,\u001b[49m\u001b[43m \u001b[49m\u001b[43mdxi\u001b[49m\u001b[43m,\u001b[49m\u001b[43m \u001b[49m\u001b[43mdr\u001b[49m\u001b[43m,\u001b[49m\u001b[43m \u001b[49m\u001b[43mn_xi\u001b[49m\u001b[43m,\u001b[49m\u001b[43m \u001b[49m\u001b[43mn_r\u001b[49m\u001b[43m,\u001b[49m\n\u001b[1;32m    190\u001b[0m \u001b[43m        \u001b[49m\u001b[43mmax_gamma\u001b[49m\u001b[43m,\u001b[49m\u001b[43m \u001b[49m\u001b[43mp_shape\u001b[49m\u001b[43m,\u001b[49m\n\u001b[1;32m    191\u001b[0m \u001b[43m        \u001b[49m\u001b[38;5;241;43m*\u001b[39;49m\u001b[43mdr_arrays\u001b[49m\u001b[43m,\u001b[49m\u001b[43m \u001b[49m\u001b[38;5;241;43m*\u001b[39;49m\u001b[43mdpr_arrays\u001b[49m\u001b[43m,\u001b[49m\n\u001b[1;32m    192\u001b[0m \u001b[43m        \u001b[49m\u001b[38;5;241;43m*\u001b[39;49m\u001b[43mpp\u001b[49m\u001b[38;5;241;43m.\u001b[39;49m\u001b[43mget_rk4_field_arrays\u001b[49m\u001b[43m(\u001b[49m\u001b[38;5;241;43m0\u001b[39;49m\u001b[43m)\u001b[49m\u001b[43m,\u001b[49m\n\u001b[1;32m    193\u001b[0m \u001b[43m        \u001b[49m\u001b[38;5;241;43m*\u001b[39;49m\u001b[43mpp\u001b[49m\u001b[38;5;241;43m.\u001b[39;49m\u001b[43mget_rk4_field_arrays\u001b[49m\u001b[43m(\u001b[49m\u001b[38;5;241;43m1\u001b[39;49m\u001b[43m)\u001b[49m\u001b[43m,\u001b[49m\n\u001b[1;32m    194\u001b[0m \u001b[43m        \u001b[49m\u001b[38;5;241;43m*\u001b[39;49m\u001b[43mpp\u001b[49m\u001b[38;5;241;43m.\u001b[39;49m\u001b[43mget_rk4_field_arrays\u001b[49m\u001b[43m(\u001b[49m\u001b[38;5;241;43m2\u001b[39;49m\u001b[43m)\u001b[49m\u001b[43m,\u001b[49m\n\u001b[1;32m    195\u001b[0m \u001b[43m        \u001b[49m\u001b[38;5;241;43m*\u001b[39;49m\u001b[43mpp\u001b[49m\u001b[38;5;241;43m.\u001b[39;49m\u001b[43mget_rk4_field_arrays\u001b[49m\u001b[43m(\u001b[49m\u001b[38;5;241;43m3\u001b[39;49m\u001b[43m)\u001b[49m\n\u001b[1;32m    196\u001b[0m \u001b[43m    \u001b[49m\u001b[43m)\u001b[49m\n\u001b[1;32m    198\u001b[0m \u001b[38;5;66;03m# Raise error if pusher is not recognized.\u001b[39;00m\n\u001b[1;32m    199\u001b[0m \u001b[38;5;28;01melse\u001b[39;00m:\n\u001b[1;32m    200\u001b[0m     \u001b[38;5;28;01mraise\u001b[39;00m \u001b[38;5;167;01mValueError\u001b[39;00m(\n\u001b[1;32m    201\u001b[0m         \u001b[38;5;124m\"\u001b[39m\u001b[38;5;124mPlasma pusher \u001b[39m\u001b[38;5;124m'\u001b[39m\u001b[38;5;132;01m{}\u001b[39;00m\u001b[38;5;124m'\u001b[39m\u001b[38;5;124m not recognized.\u001b[39m\u001b[38;5;124m\"\u001b[39m\u001b[38;5;241m.\u001b[39mformat(plasma_pusher))\n",
      "\u001b[0;31mKeyboardInterrupt\u001b[0m: "
     ]
    }
   ],
   "source": [
    "start = time.time()\n",
    "linac.run(f'linac_example_new_solver_RR_{stage.enable_radiation_reaction}_stages_{linac.num_stages}', num_shots=shots, overwrite=False, parallel=False);\n",
    "end = time.time()\n",
    "\n",
    "print((end - start)/60, ' min') # time in minutes"
   ]
  },
  {
   "cell_type": "markdown",
   "id": "be3e5073-4225-461b-ba48-a1046a273183",
   "metadata": {},
   "source": [
    "### Plot the wakefield"
   ]
  },
  {
   "cell_type": "code",
   "execution_count": null,
   "id": "d3e7bf1f-2fb0-493c-851e-e8d54d39b8b1",
   "metadata": {
    "tags": []
   },
   "outputs": [],
   "source": [
    "# plot the first-stage wakefield\n",
    "linac.stages[0].plot_wakefield()"
   ]
  },
  {
   "cell_type": "code",
   "execution_count": null,
   "id": "55cff99f-1b57-4aec-af3a-6e1ed530a8f9",
   "metadata": {},
   "outputs": [],
   "source": [
    "# plot the last-stage wakefield\n",
    "linac.stages[-1].plot_wakefield()"
   ]
  },
  {
   "cell_type": "code",
   "execution_count": null,
   "id": "a1859f02-321c-4983-81b9-b605451a05c6",
   "metadata": {},
   "outputs": [],
   "source": [
    "wake0 = linac.stages[0].plot_wake()\n",
    "wake_final = linac.stages[-1].plot_wake()\n",
    "if linac.num_stages < 17:\n",
    "    wake0.savefig(f'Plots/New_Params/wake0_new_params_RR_{stage.enable_radiation_reaction}_stages_{linac.num_stages}', bbox_inches='tight')\n",
    "    wake_final.savefig(f'Plots/New_Params/wake_final_new_params_RR_{stage.enable_radiation_reaction}_stages_{linac.num_stages}', bbox_inches='tight')\n",
    "else:\n",
    "    wake_final.savefig(f'Plots/New_Params/wake_final_new_params_RR_{stage.enable_radiation_reaction}_stages_{linac.num_stages}', bbox_inches='tight')"
   ]
  },
  {
   "cell_type": "code",
   "execution_count": null,
   "id": "862101d7-e612-40fa-8b6f-12a500044754",
   "metadata": {},
   "outputs": [],
   "source": [
    "#fig = linac.stages[0].plot_evolution()\n",
    "fig_last = linac.stages[-1].plot_evolution()"
   ]
  },
  {
   "cell_type": "markdown",
   "id": "ea2437f9-7cce-4929-839c-a86a4d11f01d",
   "metadata": {},
   "source": [
    "### Plot beam evolution and survey"
   ]
  },
  {
   "cell_type": "code",
   "execution_count": null,
   "id": "2002d963-f266-4bc7-aac7-2fcd94e322ea",
   "metadata": {},
   "outputs": [],
   "source": [
    "# plot linac survey\n",
    "linac.plot_survey()\n",
    "\n",
    "# plot beam evolution\n",
    "beam_evolution = linac.plot_evolution(use_stage_nums=False)\n",
    "beam_evolution.savefig(f\"Plots/New_Params/beam_evolution_new_params_RR_{stage.enable_radiation_reaction}\\\n",
    "_stages_{linac.num_stages}_test.png\", bbox_inches = 'tight')\n",
    "linac[0].plot_waterfalls()\n"
   ]
  },
  {
   "cell_type": "code",
   "execution_count": null,
   "id": "af4fe2e7-3433-4c1e-b68c-5237bcdf8958",
   "metadata": {},
   "outputs": [],
   "source": [
    "gif = linac.animate_lps()"
   ]
  },
  {
   "cell_type": "markdown",
   "id": "e4065eff-83a6-4f85-9d13-5ee9dd181f3b",
   "metadata": {},
   "source": [
    "![](run_data/linac_example/plots/lps_shot0.gif)"
   ]
  },
  {
   "cell_type": "code",
   "execution_count": null,
   "id": "5580933f-f654-4cc7-82db-9e9145326b3b",
   "metadata": {},
   "outputs": [],
   "source": [
    "stage_num = 15\n",
    "shot_num = 0\n",
    "stage_tracked = linac[shot_num].stages[stage_num]  # Get a specific acceleration stage in a linac. Zero indexing.\n",
    "beam_out = linac[shot_num].get_beam(stage_num*2+1)  # Get the corresponding beam after the acceleration stage. Zero indexing."
   ]
  },
  {
   "cell_type": "raw",
   "id": "c01ed154-1daa-42be-9b56-c21ec216e959",
   "metadata": {},
   "source": [
    "#plt.hist(beam.xs()**2, bins = 100)\n",
    "x_2 = np.linspace(0,2e-9,100)\n",
    "gamma = source.energy*SI.e/SI.m_e/SI.c**2\n",
    "kp = pp.k_p(stage.plasma_density)\n",
    "#plt.plot(x_2, np.exp(-x_2/(np.sqrt(2/gamma)*source.emit_nx/kp)))\n",
    "#plt.yscale('log')\n",
    "sig_x = np.sqrt(np.sqrt(2/gamma)*source.emit_nx/kp)*1e6\n",
    "fig, ax = plt.subplots(tight_layout = True)\n",
    "\n",
    "A = np.sqrt(beam.xs()**2 + beam.xps()**2*(source.beta_x)**2)*1e6\n",
    "A_lin = np.linspace(0,1.8e-5, 100)*1e6\n",
    "A_prob = A_lin/sig_x**2*np.exp(-0.5*A_lin**2/sig_x**2)\n",
    "ax.plot(A_lin,A_prob, label = 'Analytical PDF')\n",
    "ax.hist(A, bins = 100, density = True, stacked=True, label = 'Actual distribution of beam')\n",
    "ax.grid()\n",
    "ax.set_xlabel('Amplitude [$\\mu m$]')\n",
    "ax.set_ylabel('Probability Density')\n",
    "ax.set_title('Probability Distribution of Particle Amplitudes')\n",
    "ax.legend()\n",
    "plt.show()\n",
    "#fig.savefig('PDF_amplitudes')\n",
    "#print('sig_x² = ', np.sqrt(2/gamma)*source.emit_nx/kp)\n",
    "#print(np.sqrt(np.mean(A**2)))\n",
    "#print((np.mean(A**2))/sig_x**2)\n",
    "#print(np.trapz(A_lin/sig_x**2*np.exp(-0.5*A_lin**2/sig_x**2),A_lin))"
   ]
  },
  {
   "cell_type": "code",
   "execution_count": null,
   "id": "ebff5ed0-55c8-48e6-894a-a63b02fa2920",
   "metadata": {},
   "outputs": [],
   "source": [
    "Final_energies = [linac.get_beam(-1, shot = i).energy()/1e9 for i in range(shots)]\n",
    "Final_spread = [linac.get_beam(-1, shot = i).rel_energy_spread() for i in range(shots)]\n",
    "energy_standard_error = np.std(Final_energies)\n",
    "mean_energy = np.mean(Final_energies)\n",
    "print('RMS energy spread is ', energy_standard_error, 'Mean final energy is ', mean_energy)\n",
    "\n",
    "gamma = source.energy*SI.e/SI.m_e/SI.c**2\n",
    "kp = pp.k_p(stage.plasma_density)\n",
    "k_beta = kp/np.sqrt(2*gamma)\n",
    "sig_x2 = (np.sqrt(2/gamma)*source.emit_nx/kp)\n",
    "sig_y2 = (np.sqrt(2/gamma)*source.emit_ny/kp)\n",
    "\n",
    "Expected_energy_loss = SI.e**2/6/np.pi/SI.epsilon_0 * (gamma*k_beta)**4*(sig_x2+sig_y2)*stage.length\n",
    "Expected_energy_spread = SI.e**2/6/np.pi/SI.epsilon_0 * (gamma*k_beta)**4*\\\n",
    "np.sqrt((sig_x2**2+sig_y2**2))*stage.length/(source.energy*SI.e)\n",
    "\n",
    "print('expected energy loss is ', Expected_energy_loss/SI.e/1e9)\n",
    "print('expected energy spread is ', Expected_energy_spread)\n",
    "print('actual energy spread is ', np.mean(Final_spread), \\\n",
    "      'standard error in energy spread is ', np.std(Final_spread))"
   ]
  }
 ],
 "metadata": {
  "kernelspec": {
   "display_name": "Python 3 (ipykernel)",
   "language": "python",
   "name": "python3"
  },
  "language_info": {
   "codemirror_mode": {
    "name": "ipython",
    "version": 3
   },
   "file_extension": ".py",
   "mimetype": "text/x-python",
   "name": "python",
   "nbconvert_exporter": "python",
   "pygments_lexer": "ipython3",
   "version": "3.9.12"
  }
 },
 "nbformat": 4,
 "nbformat_minor": 5
}
