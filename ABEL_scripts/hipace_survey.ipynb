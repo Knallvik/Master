{
 "cells": [
  {
   "cell_type": "code",
   "execution_count": 1,
   "id": "3e51e13d-9e78-46aa-b5d3-f67dbd52c5d3",
   "metadata": {},
   "outputs": [],
   "source": [
    "import sys\n",
    "sys.path.append('../../ABEL')\n",
    "from abel import *\n",
    "%load_ext autoreload\n",
    "%autoreload 2"
   ]
  },
  {
   "cell_type": "code",
   "execution_count": 2,
   "id": "701d7c1e-e643-4991-8e25-e93ef4955708",
   "metadata": {},
   "outputs": [],
   "source": [
    "import numpy as np\n",
    "import time\n",
    "import scipy.constants as SI \n",
    "import abel.utilities.plasma_physics as pp\n",
    "import matplotlib.pyplot as plt"
   ]
  },
  {
   "cell_type": "code",
   "execution_count": 4,
   "id": "1e66f095-371c-471a-8cd8-2e18f2e9d60b",
   "metadata": {},
   "outputs": [],
   "source": [
    "## define driver\n",
    "driver = SourceBasic()\n",
    "driver.charge = -2.7e10 * SI.e # [C]\n",
    "driver.energy = 31.25e9 # [eV]\n",
    "driver.rel_energy_spread = 0.01\n",
    "driver.bunch_length = 50e-6 # [m]\n",
    "driver.z_offset = 580e-6 # [m]\n",
    "driver.emit_nx, driver.emit_ny = 80e-6, 80e-6 # [m rad]\n",
    "driver.beta_x, driver.beta_y = 5, 5 #30e-3, 30e-3 [m]\n",
    "driver.num_particles = 100000\n",
    "driver.jitter.x = 0#2e-7 # [m] 2e-6\n",
    "driver.jitter.y = 0#2e-7 # [m] 100e-9\n",
    "driver.jitter.t = 0 #10e-15 # [m]\n",
    "driver.symmetrize = True\n",
    "driver.seed = 1\n",
    "\n",
    "#test_particle = SourceSingleParticle()\n",
    "#test_particle.energy = 1500e9 # [eV]\n",
    "#test_particle.z_offset = 0 # [m]\n",
    "#test_particle.x_offset = 4e-6 # [m]\n",
    "#test_particle.y_offset = 0 # [m]\n",
    "#test_particle.y_angle = test_particle.x_offset/pp.beta_matched(2e21, test_particle.energy)\n",
    "#test_particle.x_angle = 0\n",
    "\n",
    "# define a stage\n",
    "stage = StageHipace()\n",
    "stage.driver_source = driver\n",
    "stage.length = 11 # [m]\n",
    "stage.plasma_density = 2e21 # [m^-3]\n",
    "stage.nom_energy_gain = 31.9e9 # [eV]\n",
    "stage.radiation_reaction = True\n",
    "stage.ion_motion = False\n",
    "stage.beam_ionization=False\n",
    "stage.ramp_beta_mag = 5\n",
    "stage.num_nodes = 16\n",
    "#stage.test_particle_source = test_particle\n",
    "\n",
    "# define first stage (half length)\n",
    "first_stage = StageHipace()\n",
    "#first_stage = StagePrtclTransWakeInstability()                      #######\n",
    "#first_stage.drive_beam = drive_beam                                 #######\n",
    "first_stage.driver_source = driver\n",
    "first_stage.nom_energy_gain = stage.nom_energy_gain/2\n",
    "first_stage.length = stage.length/2\n",
    "first_stage.plasma_density = stage.plasma_density\n",
    "first_stage.ramp_beta_mag = stage.ramp_beta_mag\n",
    "first_stage.radiation_reaction = stage.radiation_reaction\n",
    "\n",
    "# define interstage\n",
    "interstage = InterstageBasic()\n",
    "#interstage = InterstageElegant()\n",
    "interstage.beta0 = lambda E: stage.matched_beta_function(E)\n",
    "interstage.dipole_length = lambda E: 1 * np.sqrt(E/10e9) # [m(eV)]\n",
    "interstage.dipole_field = 1.  # [T]\n",
    "\n",
    "# define witness bunch\n",
    "witness = SourceBasic()\n",
    "witness.charge = -1e10 * SI.e # [C]\n",
    "witness.energy = 5e9 # [eV]\n",
    "witness.rel_energy_spread = 0.01\n",
    "witness.bunch_length = 28e-6 # [m]\n",
    "witness.z_offset = 0 # [m]\n",
    "witness.emit_nx, witness.emit_ny = 160e-6, 0.56e-6 # [m rad]\n",
    "witness.beta_x = stage.matched_beta_function(witness.energy)\n",
    "witness.beta_y = witness.beta_x\n",
    "witness.num_particles = 50000\n",
    "witness.x_offset, witness.y_offset = 0, 0 # [m]\n",
    "witness.jitter.x = 0\n",
    "witness.symmetrize = True\n",
    "witness.seed = driver.seed\n",
    "\n",
    "# beam delivery system\n",
    "bds = BeamDeliverySystemBasic()\n",
    "bds.beta_x, bds.beta_y = 8e-3, 0.4e-3 # [m]\n",
    "bds.bunch_length = 0.75 * bds.beta_y\n",
    "\n",
    "linac = Linac()\n",
    "linac.first_stage = first_stage\n",
    "linac.interstage = interstage\n",
    "linac.stage = stage\n",
    "linac.source = witness\n",
    "linac.num_stages = 16\n",
    "shots = 1"
   ]
  },
  {
   "cell_type": "code",
   "execution_count": 5,
   "id": "7cb4da57-95d8-4d13-8e41-8ea8c003c1ba",
   "metadata": {},
   "outputs": [
    {
     "name": "stdout",
     "output_type": "stream",
     "text": [
      "Tracking element 1 (SourceBasic, stage 0, s = 0.0 m, 5.0 GeV, -1.60 nC, 1.0% rms, 157.6/0.6 µm-rad)\n",
      ">> Starting HiPACE++ (job 6527971):   0%|\u001b[32m          \u001b[0m| 0/6618 [00:43<?, ? steps/s]\u001b[0m"
     ]
    },
    {
     "name": "stderr",
     "output_type": "stream",
     "text": [
      "[AbstractIOHandlerImpl] IO Task OPEN_FILE failed with exception. Clearing IO queue and passing on the exception.\n",
      "[AbstractIOHandlerImpl] IO Task OPEN_FILE failed with exception. Clearing IO queue and passing on the exception.\n",
      "\n",
      "KeyboardInterrupt\n",
      "\n"
     ]
    }
   ],
   "source": [
    "linac.run(f'linac_hipace_RR_{stage.radiation_reaction}', num_shots=shots, overwrite=True, parallel=False);"
   ]
  },
  {
   "cell_type": "code",
   "execution_count": null,
   "id": "abe6477e-5293-46ba-ab16-234ce6ea4019",
   "metadata": {},
   "outputs": [],
   "source": [
    "fig = linac.stages[0].plot_wake()"
   ]
  },
  {
   "cell_type": "code",
   "execution_count": null,
   "id": "a994328d-ec20-469a-993e-cd842efe133a",
   "metadata": {},
   "outputs": [],
   "source": [
    "linac.plot_survey()"
   ]
  },
  {
   "cell_type": "code",
   "execution_count": null,
   "id": "9ff068b3-8c0b-4edf-b337-45ff007702f6",
   "metadata": {},
   "outputs": [],
   "source": []
  }
 ],
 "metadata": {
  "kernelspec": {
   "display_name": "Python 3 (ipykernel)",
   "language": "python",
   "name": "python3"
  },
  "language_info": {
   "codemirror_mode": {
    "name": "ipython",
    "version": 3
   },
   "file_extension": ".py",
   "mimetype": "text/x-python",
   "name": "python",
   "nbconvert_exporter": "python",
   "pygments_lexer": "ipython3",
   "version": "3.9.12"
  }
 },
 "nbformat": 4,
 "nbformat_minor": 5
}
