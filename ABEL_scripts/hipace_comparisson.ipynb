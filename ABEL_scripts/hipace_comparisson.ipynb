{
 "cells": [
  {
   "cell_type": "code",
   "execution_count": 1,
   "id": "3e51e13d-9e78-46aa-b5d3-f67dbd52c5d3",
   "metadata": {},
   "outputs": [],
   "source": [
    "import sys\n",
    "sys.path.append('../../ABEL')\n",
    "from abel import *\n",
    "%load_ext autoreload\n",
    "%autoreload 2"
   ]
  },
  {
   "cell_type": "code",
   "execution_count": 2,
   "id": "701d7c1e-e643-4991-8e25-e93ef4955708",
   "metadata": {},
   "outputs": [],
   "source": [
    "import numpy as np\n",
    "import time\n",
    "import scipy.constants as SI \n",
    "import abel.utilities.plasma_physics as pp"
   ]
  },
  {
   "cell_type": "code",
   "execution_count": 3,
   "id": "0ac7f582-2284-44a8-aaac-758a816d3121",
   "metadata": {},
   "outputs": [],
   "source": [
    "# define driver\n",
    "driver = SourceBasic()\n",
    "driver.charge = -2.7e10 * SI.e # [C]\n",
    "driver.energy = 31.25e9 # [eV]\n",
    "driver.rel_energy_spread = 0.01\n",
    "driver.bunch_length = 50e-6 # [m]\n",
    "driver.z_offset = 580e-6 # [m]\n",
    "driver.emit_nx, driver.emit_ny = 80e-6, 80e-6 # [m rad]\n",
    "driver.beta_x, driver.beta_y = 5, 5 #30e-3, 30e-3 [m]\n",
    "driver.num_particles = 100000\n",
    "driver.jitter.x = 0#2e-7 # [m] 2e-6\n",
    "driver.jitter.y = 0#2e-7 # [m] 100e-9\n",
    "driver.jitter.t = 0 #10e-15 # [m]\n",
    "driver.symmetrize = True\n",
    "\n",
    "# define a stage\n",
    "stage = StageHipace()\n",
    "stage.driver_source = driver\n",
    "stage.length = 11 # [m]\n",
    "stage.plasma_density = 2e21 # [m^-3]\n",
    "stage.nom_energy_gain = 31.9e9/(11/stage.length) # [eV]\n",
    "stage.radiation_reaction = True\n",
    "stage.ion_motion = True\n",
    "stage.beam_ionization=False\n",
    "stage.ramp_beta_mag = 30\n",
    "stage.num_nodes = 16\n",
    "\n",
    "# define witness bunch\n",
    "witness = SourceBasic()\n",
    "witness.charge = -1e10 * SI.e # [C]\n",
    "witness.energy = 470e9 # [eV]\n",
    "witness.rel_energy_spread = 0.01\n",
    "witness.bunch_length = 28e-6 # [m]\n",
    "witness.z_offset = 0 # [m]\n",
    "witness.emit_nx, witness.emit_ny = 80e-6, 80e-6 # [m rad]\n",
    "witness.beta_x = stage.matched_beta_function(witness.energy)*0.5\n",
    "witness.beta_y = witness.beta_x\n",
    "witness.num_particles = 50000\n",
    "witness.x_offset, witness.y_offset = 0, 0 # [m]\n",
    "witness.jitter.x = 0\n",
    "witness.symmetrize = True\n",
    "\n",
    "# beam delivery system\n",
    "bds = BeamDeliverySystemBasic()\n",
    "bds.beta_x, bds.beta_y = 8e-3, 0.4e-3 # [m]\n",
    "bds.bunch_length = 0.75 * bds.beta_y\n",
    "\n",
    "linac = Linac()\n",
    "linac.stage = stage\n",
    "linac.source = witness\n",
    "linac.num_stages = 1\n",
    "shots = 1"
   ]
  },
  {
   "cell_type": "code",
   "execution_count": 4,
   "id": "7cb4da57-95d8-4d13-8e41-8ea8c003c1ba",
   "metadata": {},
   "outputs": [
    {
     "name": "stdout",
     "output_type": "stream",
     "text": [
      "Tracking element 1 (SourceBasic, stage 0, s = 0.0 m, 469.9 GeV, -1.60 nC, 1.0% rms, 79.1/79.7 µm-rad)\n",
      ">> Starting HiPACE++ (job 6162861):   0%|\u001b[32m          \u001b[0m| 0/7487 [05:39<?, ? steps/s]\u001b[0m"
     ]
    },
    {
     "name": "stderr",
     "output_type": "stream",
     "text": [
      "\n",
      "KeyboardInterrupt\n",
      "\n"
     ]
    }
   ],
   "source": [
    "linac.run(f'linac_hipace_RR_{stage.radiation_reaction}', num_shots=shots, overwrite=True, parallel=False);"
   ]
  },
  {
   "cell_type": "code",
   "execution_count": null,
   "id": "7f58c386-0343-45bf-a720-e63047d346bc",
   "metadata": {},
   "outputs": [],
   "source": [
    "fig = linac.stages[-1].plot_evolution()"
   ]
  },
  {
   "cell_type": "code",
   "execution_count": null,
   "id": "f3a673a7-429e-49f1-a64f-857f75c3e786",
   "metadata": {},
   "outputs": [],
   "source": [
    "fig2 = linac.plot_evolution()"
   ]
  },
  {
   "cell_type": "code",
   "execution_count": null,
   "id": "66f3320f-7f8c-4bee-98f7-7d2e7080fc1c",
   "metadata": {},
   "outputs": [],
   "source": [
    "wake_hipace = linac.stages[-1].plot_wake()"
   ]
  },
  {
   "cell_type": "raw",
   "id": "105748c3-b24e-4180-9ab5-167aab705bcd",
   "metadata": {},
   "source": [
    "Final_energies = [linac.get_beam(-1, shot = i).energy()/1e9 for i in range(shots)]\n",
    "energy_standard_error = np.std(Final_energies)\n",
    "mean_energy = np.mean(Final_energies)\n",
    "print('Standard error in energy spread is ', energy_standard_error, 'Mean final energy is ', mean_energy)\n",
    "\n",
    "gamma = (witness.energy+33e9)*SI.e/SI.m_e/SI.c**2\n",
    "kp = pp.k_p(stage.plasma_density)\n",
    "k_beta = kp/np.sqrt(2*gamma)\n",
    "\n",
    "#stage.matched_beta_function(witness.energy)\n",
    "sigma_sqs = np.sqrt(2*gamma)/kp/gamma*(witness.emit_nx + witness.emit_ny)\n",
    "\n",
    "Expected_energy_loss = SI.e**2/6/np.pi/SI.epsilon_0 * (gamma*k_beta)**4*(sigma_sqs)*stage.length/SI.e/1e9\n",
    "print('Expected energy loss is ', Expected_energy_loss, ' GeV')\n",
    "print('Actual energy loss is ', 1535.74-1533.77, ' +- 0.2 GeV')"
   ]
  },
  {
   "cell_type": "code",
   "execution_count": null,
   "id": "936cb2ef-051c-4234-8afa-3b4c9d5c8b7a",
   "metadata": {},
   "outputs": [],
   "source": []
  }
 ],
 "metadata": {
  "kernelspec": {
   "display_name": "Python 3 (ipykernel)",
   "language": "python",
   "name": "python3"
  },
  "language_info": {
   "codemirror_mode": {
    "name": "ipython",
    "version": 3
   },
   "file_extension": ".py",
   "mimetype": "text/x-python",
   "name": "python",
   "nbconvert_exporter": "python",
   "pygments_lexer": "ipython3",
   "version": "3.9.12"
  }
 },
 "nbformat": 4,
 "nbformat_minor": 5
}
