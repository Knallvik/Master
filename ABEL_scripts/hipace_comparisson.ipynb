{
 "cells": [
  {
   "cell_type": "code",
   "execution_count": 1,
   "id": "3e51e13d-9e78-46aa-b5d3-f67dbd52c5d3",
   "metadata": {},
   "outputs": [],
   "source": [
    "import sys\n",
    "sys.path.append('../../ABEL')\n",
    "from abel import *"
   ]
  },
  {
   "cell_type": "code",
   "execution_count": 2,
   "id": "701d7c1e-e643-4991-8e25-e93ef4955708",
   "metadata": {},
   "outputs": [],
   "source": [
    "import numpy as np\n",
    "import time\n",
    "import scipy.constants as SI \n",
    "import abel.utilities.plasma_physics as pp"
   ]
  },
  {
   "cell_type": "code",
   "execution_count": 3,
   "id": "0ac7f582-2284-44a8-aaac-758a816d3121",
   "metadata": {},
   "outputs": [],
   "source": [
    "# define driver\n",
    "driver = SourceBasic()\n",
    "driver.charge = -2.7e10 * SI.e # [C]\n",
    "driver.energy = 31.25e9 # [eV]\n",
    "driver.rel_energy_spread = 0.01\n",
    "driver.bunch_length = 50e-6 # [m]\n",
    "driver.z_offset = 580e-6 # [m]\n",
    "driver.emit_nx, driver.emit_ny = 80e-6, 80e-6 # [m rad]\n",
    "driver.beta_x, driver.beta_y = 5, 5 #30e-3, 30e-3 [m]\n",
    "driver.num_particles = 100000\n",
    "driver.jitter.x = 0#2e-7 # [m] 2e-6\n",
    "driver.jitter.y = 0#2e-7 # [m] 100e-9\n",
    "driver.jitter.t = 0 #10e-15 # [m]\n",
    "driver.symmetrize = True\n",
    "\n",
    "# define a stage\n",
    "stage = StageHipace()\n",
    "stage.driver_source = driver\n",
    "stage.length = 0.11 # [m]\n",
    "stage.plasma_density = 2e21 # [m^-3]\n",
    "stage.nom_energy_gain = 31.9e9/(11/stage.length) # [eV]\n",
    "stage.radiation_reaction = True\n",
    "stage.ion_motion = False\n",
    "stage.beam_ionization=False\n",
    "stage.ramp_beta_mag = 5\n",
    "stage.num_nodes = 4\n",
    "\n",
    "# define witness bunch\n",
    "witness = SourceBasic()\n",
    "witness.charge = -1e10 * SI.e # [C]\n",
    "witness.energy = 1500e9 # [eV]\n",
    "witness.rel_energy_spread = 0.0\n",
    "witness.bunch_length = 0e-6 # [m]\n",
    "witness.z_offset = 0 # [m]\n",
    "witness.emit_nx, witness.emit_ny = 160e-6, 0.56e-6 # [m rad]\n",
    "witness.beta_x = stage.matched_beta_function(witness.energy)\n",
    "witness.beta_y = witness.beta_x\n",
    "witness.num_particles = 50000\n",
    "witness.x_offset, witness.y_offset = 0, 0 # [m]\n",
    "witness.jitter.x = 0\n",
    "witness.symmetrize = True\n",
    "\n",
    "# beam delivery system\n",
    "bds = BeamDeliverySystemBasic()\n",
    "bds.beta_x, bds.beta_y = 8e-3, 0.4e-3 # [m]\n",
    "bds.bunch_length = 0.75 * bds.beta_y\n",
    "\n",
    "linac = Linac()\n",
    "linac.stage = stage\n",
    "linac.source = witness\n",
    "linac.num_stages = 1\n",
    "shots = 1"
   ]
  },
  {
   "cell_type": "code",
   "execution_count": 4,
   "id": "7cb4da57-95d8-4d13-8e41-8ea8c003c1ba",
   "metadata": {},
   "outputs": [
    {
     "name": "stdout",
     "output_type": "stream",
     "text": [
      "Tracking element 1 (SourceBasic, stage 0, s = 0.0 m, 1500.0 GeV, -1.60 nC, 0.0% rms, 160.2/0.6 µm-rad)\n"
     ]
    },
    {
     "name": "stderr",
     "output_type": "stream",
     "text": [
      "Finished HiPACE++ (job 6120339): 100%|███████| 75/75 [00:29<00:00,  2.55steps/s]\n",
      "HDF5-DIAG: Error detected in HDF5 (1.12.2) thread 0:\n",
      "  #000: H5F.c line 620 in H5Fopen(): unable to open file\n",
      "    major: File accessibility\n",
      "    minor: Unable to open file\n",
      "  #001: H5VLcallback.c line 3501 in H5VL_file_open(): failed to iterate over available VOL connector plugins\n",
      "    major: Virtual Object Layer\n",
      "    minor: Iteration failed\n",
      "  #002: H5PLpath.c line 578 in H5PL__path_table_iterate(): can't iterate over plugins in plugin path '(null)'\n",
      "    major: Plugin for dynamically loaded library\n",
      "    minor: Iteration failed\n",
      "  #003: H5PLpath.c line 620 in H5PL__path_table_iterate_process_path(): can't open directory: /usr/local/hdf5/lib/plugin\n",
      "    major: Plugin for dynamically loaded library\n",
      "    minor: Can't open directory or file\n",
      "  #004: H5VLcallback.c line 3351 in H5VL__file_open(): open failed\n",
      "    major: Virtual Object Layer\n",
      "    minor: Can't open object\n",
      "  #005: H5VLnative_file.c line 97 in H5VL__native_file_open(): unable to open file\n",
      "    major: File accessibility\n",
      "    minor: Unable to open file\n",
      "  #006: H5Fint.c line 1834 in H5F_open(): unable to open file: name = 'run_data/temp/8bcb2bb7-b3c3-4d13-af00-4c86d733e418/diags/hdf5/openpmd_000075.h5', tent_flags = 0\n",
      "    major: File accessibility\n",
      "    minor: Unable to open file\n",
      "  #007: H5FD.c line 723 in H5FD_open(): open failed\n",
      "    major: Virtual File Layer\n",
      "    minor: Unable to initialize object\n",
      "  #008: H5FDsec2.c line 352 in H5FD__sec2_open(): unable to open file: name = 'run_data/temp/8bcb2bb7-b3c3-4d13-af00-4c86d733e418/diags/hdf5/openpmd_000075.h5', errno = 2, error message = 'No such file or directory', flags = 0, o_flags = 0\n",
      "    major: File accessibility\n",
      "    minor: Unable to open file\n",
      "[AbstractIOHandlerImpl] IO Task OPEN_FILE failed with exception. Clearing IO queue and passing on the exception.\n",
      "HDF5-DIAG: Error detected in HDF5 (1.12.2) thread 0:\n",
      "  #000: H5F.c line 620 in H5Fopen(): unable to open file\n",
      "    major: File accessibility\n",
      "    minor: Unable to open file\n",
      "  #001: H5VLcallback.c line 3501 in H5VL_file_open(): failed to iterate over available VOL connector plugins\n",
      "    major: Virtual Object Layer\n",
      "    minor: Iteration failed\n",
      "  #002: H5PLpath.c line 578 in H5PL__path_table_iterate(): can't iterate over plugins in plugin path '(null)'\n",
      "    major: Plugin for dynamically loaded library\n",
      "    minor: Iteration failed\n",
      "  #003: H5PLpath.c line 620 in H5PL__path_table_iterate_process_path(): can't open directory: /usr/local/hdf5/lib/plugin\n",
      "    major: Plugin for dynamically loaded library\n",
      "    minor: Can't open directory or file\n",
      "  #004: H5VLcallback.c line 3351 in H5VL__file_open(): open failed\n",
      "    major: Virtual Object Layer\n",
      "    minor: Can't open object\n",
      "  #005: H5VLnative_file.c line 97 in H5VL__native_file_open(): unable to open file\n",
      "    major: File accessibility\n",
      "    minor: Unable to open file\n",
      "  #006: H5Fint.c line 1834 in H5F_open(): unable to open file: name = 'run_data/temp/8bcb2bb7-b3c3-4d13-af00-4c86d733e418/diags/hdf5/openpmd_000075.h5', tent_flags = 0\n",
      "    major: File accessibility\n",
      "    minor: Unable to open file\n",
      "  #007: H5FD.c line 723 in H5FD_open(): open failed\n",
      "    major: Virtual File Layer\n",
      "    minor: Unable to initialize object\n",
      "  #008: H5FDsec2.c line 352 in H5FD__sec2_open(): unable to open file: name = 'run_data/temp/8bcb2bb7-b3c3-4d13-af00-4c86d733e418/diags/hdf5/openpmd_000075.h5', errno = 2, error message = 'No such file or directory', flags = 0, o_flags = 0\n",
      "    major: File accessibility\n",
      "    minor: Unable to open file\n",
      "[AbstractIOHandlerImpl] IO Task OPEN_FILE failed with exception. Clearing IO queue and passing on the exception.\n"
     ]
    },
    {
     "ename": "Error",
     "evalue": "Read Error in backend HDF5\nObject type:\tFile\nError type:\tInaccessible\nFurther description:\tFailed to open HDF5 file run_data/temp/8bcb2bb7-b3c3-4d13-af00-4c86d733e418/diags/hdf5/openpmd_000075.h5",
     "output_type": "error",
     "traceback": [
      "\u001b[0;31m---------------------------------------------------------------------------\u001b[0m",
      "\u001b[0;31mError\u001b[0m                                     Traceback (most recent call last)",
      "Cell \u001b[0;32mIn[4], line 1\u001b[0m\n\u001b[0;32m----> 1\u001b[0m \u001b[43mlinac\u001b[49m\u001b[38;5;241;43m.\u001b[39;49m\u001b[43mrun\u001b[49m\u001b[43m(\u001b[49m\u001b[38;5;124;43mf\u001b[39;49m\u001b[38;5;124;43m'\u001b[39;49m\u001b[38;5;124;43mlinac_hipace_comparisson_RR_\u001b[39;49m\u001b[38;5;132;43;01m{\u001b[39;49;00m\u001b[43mstage\u001b[49m\u001b[38;5;241;43m.\u001b[39;49m\u001b[43mradiation_reaction\u001b[49m\u001b[38;5;132;43;01m}\u001b[39;49;00m\u001b[38;5;124;43m'\u001b[39;49m\u001b[43m,\u001b[49m\u001b[43m \u001b[49m\u001b[43mnum_shots\u001b[49m\u001b[38;5;241;43m=\u001b[39;49m\u001b[43mshots\u001b[49m\u001b[43m,\u001b[49m\u001b[43m \u001b[49m\u001b[43moverwrite\u001b[49m\u001b[38;5;241;43m=\u001b[39;49m\u001b[38;5;28;43;01mTrue\u001b[39;49;00m\u001b[43m,\u001b[49m\u001b[43m \u001b[49m\u001b[43mparallel\u001b[49m\u001b[38;5;241;43m=\u001b[39;49m\u001b[38;5;28;43;01mFalse\u001b[39;49;00m\u001b[43m)\u001b[49m;\n",
      "File \u001b[0;32m/pfs/lustrep2/scratch/project_465000445/kalvik/thesis_scripts/ABEL_scripts/../../ABEL/abel/classes/runnable.py:50\u001b[0m, in \u001b[0;36mRunnable.run\u001b[0;34m(self, run_name, num_shots, savedepth, verbose, overwrite, parallel, max_cores)\u001b[0m\n\u001b[1;32m     46\u001b[0m \u001b[38;5;28;01melse\u001b[39;00m:   \n\u001b[1;32m     47\u001b[0m     \n\u001b[1;32m     48\u001b[0m     \u001b[38;5;66;03m# perform in-series tracking\u001b[39;00m\n\u001b[1;32m     49\u001b[0m     \u001b[38;5;28;01mfor\u001b[39;00m shot \u001b[38;5;129;01min\u001b[39;00m \u001b[38;5;28mrange\u001b[39m(num_shots):\n\u001b[0;32m---> 50\u001b[0m         \u001b[38;5;28;43mself\u001b[39;49m\u001b[38;5;241;43m.\u001b[39;49m\u001b[43mperform_shot\u001b[49m\u001b[43m(\u001b[49m\u001b[43mshot\u001b[49m\u001b[43m)\u001b[49m\n\u001b[1;32m     52\u001b[0m \u001b[38;5;66;03m# return final beam from first shot\u001b[39;00m\n\u001b[1;32m     53\u001b[0m \u001b[38;5;28mself\u001b[39m\u001b[38;5;241m.\u001b[39m\u001b[38;5;18m__dict__\u001b[39m\u001b[38;5;241m.\u001b[39mupdate(\u001b[38;5;28mself\u001b[39m[\u001b[38;5;241m0\u001b[39m]\u001b[38;5;241m.\u001b[39m\u001b[38;5;18m__dict__\u001b[39m)\n",
      "File \u001b[0;32m/pfs/lustrep2/scratch/project_465000445/kalvik/thesis_scripts/ABEL_scripts/../../ABEL/abel/classes/runnable.py:83\u001b[0m, in \u001b[0;36mRunnable.perform_shot\u001b[0;34m(self, shot)\u001b[0m\n\u001b[1;32m     80\u001b[0m     \u001b[38;5;28mprint\u001b[39m(\u001b[38;5;124m'\u001b[39m\u001b[38;5;124m>> SHOT \u001b[39m\u001b[38;5;124m'\u001b[39m \u001b[38;5;241m+\u001b[39m \u001b[38;5;28mstr\u001b[39m(shot\u001b[38;5;241m+\u001b[39m\u001b[38;5;241m1\u001b[39m) \u001b[38;5;241m+\u001b[39m \u001b[38;5;124m'\u001b[39m\u001b[38;5;124m/\u001b[39m\u001b[38;5;124m'\u001b[39m \u001b[38;5;241m+\u001b[39m \u001b[38;5;28mstr\u001b[39m(\u001b[38;5;28mself\u001b[39m\u001b[38;5;241m.\u001b[39mnum_shots), flush\u001b[38;5;241m=\u001b[39m\u001b[38;5;28;01mTrue\u001b[39;00m)\n\u001b[1;32m     82\u001b[0m \u001b[38;5;66;03m#if overwrite_from is None: # TODO\u001b[39;00m\n\u001b[0;32m---> 83\u001b[0m beam \u001b[38;5;241m=\u001b[39m \u001b[38;5;28;43mself\u001b[39;49m\u001b[38;5;241;43m.\u001b[39;49m\u001b[43mtrack\u001b[49m\u001b[43m(\u001b[49m\u001b[43mbeam\u001b[49m\u001b[38;5;241;43m=\u001b[39;49m\u001b[38;5;28;43;01mNone\u001b[39;49;00m\u001b[43m,\u001b[49m\u001b[43m \u001b[49m\u001b[43msavedepth\u001b[49m\u001b[38;5;241;43m=\u001b[39;49m\u001b[38;5;28;43mself\u001b[39;49m\u001b[38;5;241;43m.\u001b[39;49m\u001b[43msavedepth\u001b[49m\u001b[43m,\u001b[49m\u001b[43m \u001b[49m\u001b[43mrunnable\u001b[49m\u001b[38;5;241;43m=\u001b[39;49m\u001b[38;5;28;43mself\u001b[39;49m\u001b[43m,\u001b[49m\u001b[43m \u001b[49m\u001b[43mverbose\u001b[49m\u001b[38;5;241;43m=\u001b[39;49m\u001b[38;5;28;43mself\u001b[39;49m\u001b[38;5;241;43m.\u001b[39;49m\u001b[43mverbose\u001b[49m\u001b[43m)\u001b[49m\n\u001b[1;32m     85\u001b[0m \u001b[38;5;66;03m# save object to file\u001b[39;00m\n\u001b[1;32m     86\u001b[0m \u001b[38;5;28mself\u001b[39m\u001b[38;5;241m.\u001b[39msave()\n",
      "File \u001b[0;32m/pfs/lustrep2/scratch/project_465000445/kalvik/thesis_scripts/ABEL_scripts/../../ABEL/abel/classes/beamline/beamline.py:36\u001b[0m, in \u001b[0;36mBeamline.track\u001b[0;34m(self, beam, savedepth, runnable, verbose)\u001b[0m\n\u001b[1;32m     34\u001b[0m \u001b[38;5;66;03m# perform element-wise tracking\u001b[39;00m\n\u001b[1;32m     35\u001b[0m \u001b[38;5;28;01mfor\u001b[39;00m trackable \u001b[38;5;129;01min\u001b[39;00m \u001b[38;5;28mself\u001b[39m\u001b[38;5;241m.\u001b[39mtrackables:\n\u001b[0;32m---> 36\u001b[0m     beam \u001b[38;5;241m=\u001b[39m \u001b[43mtrackable\u001b[49m\u001b[38;5;241;43m.\u001b[39;49m\u001b[43mtrack\u001b[49m\u001b[43m(\u001b[49m\u001b[43mbeam\u001b[49m\u001b[43m,\u001b[49m\u001b[43m \u001b[49m\u001b[43msavedepth\u001b[49m\u001b[38;5;241;43m-\u001b[39;49m\u001b[38;5;241;43m1\u001b[39;49m\u001b[43m,\u001b[49m\u001b[43m \u001b[49m\u001b[43mrunnable\u001b[49m\u001b[43m,\u001b[49m\u001b[43m \u001b[49m\u001b[43mverbose\u001b[49m\u001b[43m)\u001b[49m\n\u001b[1;32m     38\u001b[0m \u001b[38;5;28;01mreturn\u001b[39;00m beam\n",
      "File \u001b[0;32m/pfs/lustrep2/scratch/project_465000445/kalvik/thesis_scripts/ABEL_scripts/../../ABEL/abel/classes/stage/impl/stage_hipace.py:146\u001b[0m, in \u001b[0;36mStageHipace.track\u001b[0;34m(self, beam0, savedepth, runnable, verbose)\u001b[0m\n\u001b[1;32m    143\u001b[0m hipace_write_jobscript(filename_job_script, filename_input, num_nodes\u001b[38;5;241m=\u001b[39m\u001b[38;5;28mself\u001b[39m\u001b[38;5;241m.\u001b[39mnum_nodes)\n\u001b[1;32m    145\u001b[0m \u001b[38;5;66;03m# run HiPACE++\u001b[39;00m\n\u001b[0;32m--> 146\u001b[0m beam, driver, test_particle \u001b[38;5;241m=\u001b[39m \u001b[43mhipace_run\u001b[49m\u001b[43m(\u001b[49m\u001b[43mfilename_job_script\u001b[49m\u001b[43m,\u001b[49m\u001b[43m \u001b[49m\u001b[38;5;28;43mself\u001b[39;49m\u001b[38;5;241;43m.\u001b[39;49m\u001b[43mnum_steps\u001b[49m\u001b[43m)\u001b[49m\n\u001b[1;32m    147\u001b[0m \u001b[38;5;28;01mif\u001b[39;00m \u001b[38;5;28mself\u001b[39m\u001b[38;5;241m.\u001b[39mdriver_only:\n\u001b[1;32m    148\u001b[0m     beam \u001b[38;5;241m=\u001b[39m beam0\n",
      "File \u001b[0;32m/pfs/lustrep2/scratch/project_465000445/kalvik/thesis_scripts/ABEL_scripts/../../ABEL/abel/apis/hipace/hipace_api.py:162\u001b[0m, in \u001b[0;36mhipace_run\u001b[0;34m(filename_job_script, num_steps, runfolder, quiet)\u001b[0m\n\u001b[1;32m    160\u001b[0m \u001b[38;5;28;01mexcept\u001b[39;00m:\n\u001b[1;32m    161\u001b[0m     beam \u001b[38;5;241m=\u001b[39m \u001b[38;5;28;01mNone\u001b[39;00m\n\u001b[0;32m--> 162\u001b[0m driver \u001b[38;5;241m=\u001b[39m \u001b[43mBeam\u001b[49m\u001b[38;5;241;43m.\u001b[39;49m\u001b[43mload\u001b[49m\u001b[43m(\u001b[49m\u001b[43mfilename\u001b[49m\u001b[43m,\u001b[49m\u001b[43m \u001b[49m\u001b[43mbeam_name\u001b[49m\u001b[38;5;241;43m=\u001b[39;49m\u001b[38;5;124;43m'\u001b[39;49m\u001b[38;5;124;43mdriver\u001b[39;49m\u001b[38;5;124;43m'\u001b[39;49m\u001b[43m)\u001b[49m\n\u001b[1;32m    164\u001b[0m \u001b[38;5;28;01mtry\u001b[39;00m:\n\u001b[1;32m    165\u001b[0m     test_particle \u001b[38;5;241m=\u001b[39m Beam\u001b[38;5;241m.\u001b[39mload(filename, beam_name\u001b[38;5;241m=\u001b[39m\u001b[38;5;124m'\u001b[39m\u001b[38;5;124mtest_particle\u001b[39m\u001b[38;5;124m'\u001b[39m)\n",
      "File \u001b[0;32m/pfs/lustrep2/scratch/project_465000445/kalvik/thesis_scripts/ABEL_scripts/../../ABEL/abel/classes/beam.py:709\u001b[0m, in \u001b[0;36mBeam.load\u001b[0;34m(_, filename, beam_name)\u001b[0m\n\u001b[1;32m    705\u001b[0m \u001b[38;5;129m@classmethod\u001b[39m\n\u001b[1;32m    706\u001b[0m \u001b[38;5;28;01mdef\u001b[39;00m \u001b[38;5;21mload\u001b[39m(_, filename, beam_name\u001b[38;5;241m=\u001b[39m\u001b[38;5;124m'\u001b[39m\u001b[38;5;124mbeam\u001b[39m\u001b[38;5;124m'\u001b[39m):\n\u001b[1;32m    707\u001b[0m     \n\u001b[1;32m    708\u001b[0m     \u001b[38;5;66;03m# load file\u001b[39;00m\n\u001b[0;32m--> 709\u001b[0m     series \u001b[38;5;241m=\u001b[39m \u001b[43mio\u001b[49m\u001b[38;5;241;43m.\u001b[39;49m\u001b[43mSeries\u001b[49m\u001b[43m(\u001b[49m\u001b[43mfilename\u001b[49m\u001b[43m,\u001b[49m\u001b[43m \u001b[49m\u001b[43mio\u001b[49m\u001b[38;5;241;43m.\u001b[39;49m\u001b[43mAccess\u001b[49m\u001b[38;5;241;43m.\u001b[39;49m\u001b[43mread_only\u001b[49m\u001b[43m)\u001b[49m\n\u001b[1;32m    711\u001b[0m     \u001b[38;5;66;03m# find index (use last one)\u001b[39;00m\n\u001b[1;32m    712\u001b[0m     \u001b[38;5;241m*\u001b[39m_, index \u001b[38;5;241m=\u001b[39m series\u001b[38;5;241m.\u001b[39miterations\n",
      "\u001b[0;31mError\u001b[0m: Read Error in backend HDF5\nObject type:\tFile\nError type:\tInaccessible\nFurther description:\tFailed to open HDF5 file run_data/temp/8bcb2bb7-b3c3-4d13-af00-4c86d733e418/diags/hdf5/openpmd_000075.h5"
     ]
    }
   ],
   "source": [
    "linac.run(f'linac_hipace_comparisson_RR_{stage.radiation_reaction}', num_shots=shots, overwrite=True, parallel=False);"
   ]
  },
  {
   "cell_type": "code",
   "execution_count": null,
   "id": "d0261128-5348-448c-82c8-7fe5dc70fd84",
   "metadata": {},
   "outputs": [],
   "source": [
    "Final_energies = [linac.get_beam(-1, shot = i).energy()/1e9 for i in range(shots)]\n",
    "energy_standard_error = np.std(Final_energies)\n",
    "mean_energy = np.mean(Final_energies)\n",
    "print('RMS energy spread is ', energy_standard_error, 'Mean final energy is ', mean_energy)\n",
    "\n",
    "gamma = (witness.energy+33e9)*SI.e/SI.m_e/SI.c**2\n",
    "kp = pp.k_p(stage.plasma_density)\n",
    "k_beta = kp/np.sqrt(2*gamma)\n",
    "\n",
    "#stage.matched_beta_function(witness.energy)\n",
    "sigma_sqs = np.sqrt(2*gamma)/kp/gamma*(witness.emit_nx + witness.emit_ny)\n",
    "\n",
    "Expected_energy_loss = SI.e**2/12/np.pi/SI.epsilon_0 * (gamma*k_beta)**4*(sigma_sqs)*stage.length/SI.e/1e9\n",
    "print('Expected energy loss is ', Expected_energy_loss, ' GeV')\n",
    "print('Actual energy loss is ', 1535.4-1533.8, ' +- 0.06 GeV')"
   ]
  },
  {
   "cell_type": "code",
   "execution_count": null,
   "id": "7f58c386-0343-45bf-a720-e63047d346bc",
   "metadata": {},
   "outputs": [],
   "source": [
    "fig = linac.stages[-1].plot_evolution()"
   ]
  },
  {
   "cell_type": "code",
   "execution_count": null,
   "id": "f3a673a7-429e-49f1-a64f-857f75c3e786",
   "metadata": {},
   "outputs": [],
   "source": [
    "fig2 = linac.plot_evolution()"
   ]
  },
  {
   "cell_type": "code",
   "execution_count": null,
   "id": "936cb2ef-051c-4234-8afa-3b4c9d5c8b7a",
   "metadata": {},
   "outputs": [],
   "source": []
  }
 ],
 "metadata": {
  "kernelspec": {
   "display_name": "Python 3 (ipykernel)",
   "language": "python",
   "name": "python3"
  },
  "language_info": {
   "codemirror_mode": {
    "name": "ipython",
    "version": 3
   },
   "file_extension": ".py",
   "mimetype": "text/x-python",
   "name": "python",
   "nbconvert_exporter": "python",
   "pygments_lexer": "ipython3",
   "version": "3.9.12"
  }
 },
 "nbformat": 4,
 "nbformat_minor": 5
}
