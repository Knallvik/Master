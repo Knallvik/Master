{
 "cells": [
  {
   "cell_type": "code",
   "execution_count": 1,
   "id": "613672b0-7c09-4684-b4cb-82d680e98c2e",
   "metadata": {},
   "outputs": [],
   "source": [
    "import numpy as np\n",
    "import matplotlib.pyplot as plt\n",
    "from scipy.integrate import solve_ivp"
   ]
  },
  {
   "cell_type": "code",
   "execution_count": 2,
   "id": "565e1a13-4fee-4455-b871-8c39c18b617b",
   "metadata": {},
   "outputs": [
    {
     "name": "stdout",
     "output_type": "stream",
     "text": [
      "9757.287474082203\n",
      "6599936158.65274\n"
     ]
    }
   ],
   "source": [
    "#Constants\n",
    "e = 1.6e-19\n",
    "Ee = 5e9*e\n",
    "re = 2.8179403262e-15 \n",
    "c = 3e8\n",
    "me = 9.11e-31\n",
    "n0 = 1.5e22\n",
    "eps0 = 8.85418782e-12\n",
    "wp = np.sqrt(n0*e**2/me/eps0)\n",
    "kp = wp/c\n",
    "E0 = me*c*wp/e\n",
    "Ez = 0.56*E0 #V/m\n",
    "tau_r = 2*re/3/c\n",
    "K = kp**2 / 2\n",
    "A = tau_r*c**2*K**2\n",
    "B = c**2*K**2\n",
    "C = wp*Ez/E0\n",
    "D = tau_r*c**2*K**4\n",
    "\n",
    "x0 = 4e-6\n",
    "x_dot0 = 0\n",
    "gamma0 = Ee/me/(c**2)\n",
    "print(gamma0)\n",
    "print(Ez)"
   ]
  },
  {
   "cell_type": "code",
   "execution_count": null,
   "id": "385c5139-f17a-410d-bcf3-a5d649ef29a8",
   "metadata": {},
   "outputs": [],
   "source": [
    "def oscillator(t, x):\n",
    "    # x= [x,v_x, gamma]\n",
    "    v_x = x[1]\n",
    "    a_x = -(C/x[2] + A)*v_x - B/x[2]*x[0]\n",
    "    d_gamma = C - D*x[2]**2*x[0]**2\n",
    "    #d_gamma= 1\n",
    "    return np.array([v_x, a_x, d_gamma])\n",
    "\n",
    "#T = 5e-10\n",
    "#n = int(1e8)\n",
    "#t = np.linspace(0,T,n)\n",
    "\n",
    "sysinit = np.array([x0, x_dot0, gamma0])\n",
    "solution = solve_ivp(fun = oscillator, y0 = sysinit, method='RK45', t_span = ((0,1e-9)))\n",
    "x_ivp = solution.y[0,:]\n",
    "t_ivp = solution.t * c"
   ]
  },
  {
   "cell_type": "code",
   "execution_count": null,
   "id": "419c66ac-9e58-46f7-8a28-1f409bd73193",
   "metadata": {},
   "outputs": [],
   "source": [
    "fig, ax = plt.subplots(1,1, figsize=(8,8))\n",
    "ax.plot(t_ivp,x_ivp)\n",
    "ax.grid()"
   ]
  },
  {
   "cell_type": "code",
   "execution_count": null,
   "id": "00397bff-6050-4495-b984-3f0695089e02",
   "metadata": {},
   "outputs": [],
   "source": []
  }
 ],
 "metadata": {
  "kernelspec": {
   "display_name": "Python 3 (ipykernel)",
   "language": "python",
   "name": "python3"
  },
  "language_info": {
   "codemirror_mode": {
    "name": "ipython",
    "version": 3
   },
   "file_extension": ".py",
   "mimetype": "text/x-python",
   "name": "python",
   "nbconvert_exporter": "python",
   "pygments_lexer": "ipython3",
   "version": "3.8.10"
  }
 },
 "nbformat": 4,
 "nbformat_minor": 5
}
